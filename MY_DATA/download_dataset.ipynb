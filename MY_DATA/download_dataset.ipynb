{
 "cells": [
  {
   "cell_type": "code",
   "execution_count": 127,
   "outputs": [
    {
     "data": {
      "text/plain": "Dataset({\n    features: ['instruction', 'input', 'output'],\n    num_rows: 49620\n})"
     },
     "execution_count": 127,
     "metadata": {},
     "output_type": "execute_result"
    }
   ],
   "source": [
    "from datasets import load_dataset\n",
    "\n",
    "ds = load_dataset(\"Bingsu/ko_alpaca_data\", split=\"train\")\n",
    "ds"
   ],
   "metadata": {
    "collapsed": false,
    "ExecuteTime": {
     "end_time": "2023-09-26T04:53:03.766563315Z",
     "start_time": "2023-09-26T04:53:00.285887630Z"
    }
   },
   "id": "5f492d384cc780b9"
  },
  {
   "cell_type": "code",
   "execution_count": 128,
   "outputs": [],
   "source": [
    "import pandas as pd\n",
    "\n",
    "df = pd.DataFrame(ds)\n",
    "df.to_csv('ko_alpaca_data(original).csv', index=False)"
   ],
   "metadata": {
    "collapsed": false,
    "ExecuteTime": {
     "end_time": "2023-09-26T04:53:04.767534447Z",
     "start_time": "2023-09-26T04:53:03.770681186Z"
    }
   },
   "id": "b9ba18288bacfd64"
  },
  {
   "cell_type": "code",
   "execution_count": 129,
   "outputs": [
    {
     "data": {
      "text/plain": "                                             instruction  \\\n0                             건강을 유지하기 위한 세 가지 팁을 알려주세요.   \n1                                      세 가지 기본 색은 무엇인가요?   \n2                                         원자의 구조를 설명하세요.   \n5                                         홀수 중 하나를 밝히세요.   \n6                            다음 분수가 1/4에 해당하는 이유를 설명하세요.   \n...                                                  ...   \n49608                          다음 제품에서 기능 X의 사용법을 설명하세요.   \n49610  친구가 소프트웨어 버그에 대해 알려준다고 가정해 보세요. 버그에 대한 정보가 포함된...   \n49614                        다음 트윗을 분석하고 메시지의 감정을 분류하세요.   \n49618                        역경을 이겨낸 한 여성에 대한 이야기를 적으세요.   \n49619                         재료 세트가 있고 조리법을 생각해 내야 합니다.   \n\n                                                   input  \\\n0                                                          \n1                                                          \n2                                                          \n5                                       트위터, 인스타그램, 텔레그램   \n6                                                   4/16   \n...                                                  ...   \n49608  제품 설명:\\n센서 기반 내비게이션이 탑재된 자동 진공 청소기로, 자동으로 속도를 ...   \n49610  친구가 소프트웨어 프로그램에서 애플리케이션이 사용자의 로그인을 방해하는 버그를 발견...   \n49614                  미국 경제는 치솟고 있고 실업률은 그 어느 때보다 낮습니다.   \n49618                                                      \n49619                                달걀, 우유, 버터, 밀가루, 소금   \n\n                                                  output  \n0      세 가지 팁은 아침식사를 꼭 챙기며, 충분한 수면을 취하고, 적극적으로 운동을 하는...  \n1                                   기본 색은 빨강, 파랑, 노랑입니다.  \n2      원자는 양성자, 중성자, 전자로 구성되어 있으며, 양성자와 중성자는 원자핵 안에 있...  \n5                                               텔레그램입니다.  \n6                  분모와 분자를 모두 4로 나눌 수 있기 때문에 1/4에 해당합니다.  \n...                                                  ...  \n49608  기능 X는 센서를 기반으로한 자동 주행입니다. 이를 사용하려면 청소기를 켠 후 버튼...  \n49610  친구가 발견한 버그를 상세히 설명하며, 버그에 대한 정보를 체계적으로 담은 버그 보...  \n49614  이 메시지에서는 긍정적인 감정이 드러나며 기쁨, 만족, 보람 등의 긍정적인 감정이 ...  \n49618  한 여성은 인생의 역경을 이겨내며, 그녀의 인내와 불굴의 정신이 인생을 바꾸어 놨습...  \n49619  이 재료를 사용해 맛있는 계란 빵을 만들 수 있습니다. 달걀을 주요 재료로 사용하고...  \n\n[36032 rows x 3 columns]",
      "text/html": "<div>\n<style scoped>\n    .dataframe tbody tr th:only-of-type {\n        vertical-align: middle;\n    }\n\n    .dataframe tbody tr th {\n        vertical-align: top;\n    }\n\n    .dataframe thead th {\n        text-align: right;\n    }\n</style>\n<table border=\"1\" class=\"dataframe\">\n  <thead>\n    <tr style=\"text-align: right;\">\n      <th></th>\n      <th>instruction</th>\n      <th>input</th>\n      <th>output</th>\n    </tr>\n  </thead>\n  <tbody>\n    <tr>\n      <th>0</th>\n      <td>건강을 유지하기 위한 세 가지 팁을 알려주세요.</td>\n      <td></td>\n      <td>세 가지 팁은 아침식사를 꼭 챙기며, 충분한 수면을 취하고, 적극적으로 운동을 하는...</td>\n    </tr>\n    <tr>\n      <th>1</th>\n      <td>세 가지 기본 색은 무엇인가요?</td>\n      <td></td>\n      <td>기본 색은 빨강, 파랑, 노랑입니다.</td>\n    </tr>\n    <tr>\n      <th>2</th>\n      <td>원자의 구조를 설명하세요.</td>\n      <td></td>\n      <td>원자는 양성자, 중성자, 전자로 구성되어 있으며, 양성자와 중성자는 원자핵 안에 있...</td>\n    </tr>\n    <tr>\n      <th>5</th>\n      <td>홀수 중 하나를 밝히세요.</td>\n      <td>트위터, 인스타그램, 텔레그램</td>\n      <td>텔레그램입니다.</td>\n    </tr>\n    <tr>\n      <th>6</th>\n      <td>다음 분수가 1/4에 해당하는 이유를 설명하세요.</td>\n      <td>4/16</td>\n      <td>분모와 분자를 모두 4로 나눌 수 있기 때문에 1/4에 해당합니다.</td>\n    </tr>\n    <tr>\n      <th>...</th>\n      <td>...</td>\n      <td>...</td>\n      <td>...</td>\n    </tr>\n    <tr>\n      <th>49608</th>\n      <td>다음 제품에서 기능 X의 사용법을 설명하세요.</td>\n      <td>제품 설명:\\n센서 기반 내비게이션이 탑재된 자동 진공 청소기로, 자동으로 속도를 ...</td>\n      <td>기능 X는 센서를 기반으로한 자동 주행입니다. 이를 사용하려면 청소기를 켠 후 버튼...</td>\n    </tr>\n    <tr>\n      <th>49610</th>\n      <td>친구가 소프트웨어 버그에 대해 알려준다고 가정해 보세요. 버그에 대한 정보가 포함된...</td>\n      <td>친구가 소프트웨어 프로그램에서 애플리케이션이 사용자의 로그인을 방해하는 버그를 발견...</td>\n      <td>친구가 발견한 버그를 상세히 설명하며, 버그에 대한 정보를 체계적으로 담은 버그 보...</td>\n    </tr>\n    <tr>\n      <th>49614</th>\n      <td>다음 트윗을 분석하고 메시지의 감정을 분류하세요.</td>\n      <td>미국 경제는 치솟고 있고 실업률은 그 어느 때보다 낮습니다.</td>\n      <td>이 메시지에서는 긍정적인 감정이 드러나며 기쁨, 만족, 보람 등의 긍정적인 감정이 ...</td>\n    </tr>\n    <tr>\n      <th>49618</th>\n      <td>역경을 이겨낸 한 여성에 대한 이야기를 적으세요.</td>\n      <td></td>\n      <td>한 여성은 인생의 역경을 이겨내며, 그녀의 인내와 불굴의 정신이 인생을 바꾸어 놨습...</td>\n    </tr>\n    <tr>\n      <th>49619</th>\n      <td>재료 세트가 있고 조리법을 생각해 내야 합니다.</td>\n      <td>달걀, 우유, 버터, 밀가루, 소금</td>\n      <td>이 재료를 사용해 맛있는 계란 빵을 만들 수 있습니다. 달걀을 주요 재료로 사용하고...</td>\n    </tr>\n  </tbody>\n</table>\n<p>36032 rows × 3 columns</p>\n</div>"
     },
     "execution_count": 129,
     "metadata": {},
     "output_type": "execute_result"
    }
   ],
   "source": [
    "df = pd.DataFrame(ds)\n",
    "instruction_del_ls = ['https:','print\\(']\n",
    "input_del_ls = ['html','https','www','.com','이미지 첨부','이미지 제공','이미지 삽입','신제품 이미지','그림 첨부','첨부된 표',\n",
    "                '첨부 사진','테이블 그림','면 원단 이미지','noinput','데이터셋','방 이미지','<이미지','<문서','입력 필요 없음',\n",
    "                '입력이 필요하지 않습니다.','return','DOCTYPE','import ','반환 ','print\\(','int ','class ']\n",
    "input_replace_ls = ['<입력 없음>','<명령어 입력>.','입력 없음','NoInput','입력이 없습니다.']\n",
    "output_del_ls = ['죄송합니다','죄송하지만','return','DOCTYPE','import ','반환 ','print\\(',\n",
    "                 'https:','SELECT','int ','class ','입력이 없습니다.','thead','title'\n",
    "                 '이미지 첨부','이미지 포함','이미지응답','이미지 필요','로고 이미지','입력없음','응답내용'\n",
    "                 '입력에 따라 ','입력을 제공해주세요.',': 없음','입력 없음','추가 입력이 필요함','입력이 부족하여',\n",
    "                 '입력 필요','입력필요없음','입력되지 않았습니다','입력이 없음','입력이 필요합니다','입력 필드','경험 입력']\n",
    "\n",
    "for i in instruction_del_ls: df = df[~df['instruction'].str.contains(i)]\n",
    "for i in input_del_ls: df = df[~df['input'].str.contains(i)]\n",
    "for i in output_del_ls: df = df[~df['output'].str.contains(i)]\n",
    "for i in input_replace_ls: df['input'] = df['input'].str.replace(i, '')\n",
    "\n",
    "df = df[df['instruction'].str.len() < 75]\n",
    "df = df[df['input'].str.len() < 100]\n",
    "df = df[df['output'].str.len() < 100]\n",
    "df"
   ],
   "metadata": {
    "collapsed": false,
    "ExecuteTime": {
     "end_time": "2023-09-26T04:53:06.321351165Z",
     "start_time": "2023-09-26T04:53:04.770337226Z"
    }
   },
   "id": "9682afce7e517a32"
  },
  {
   "cell_type": "code",
   "execution_count": 130,
   "outputs": [
    {
     "data": {
      "text/plain": "                            instruction  \\\n0            건강을 유지하기 위한 세 가지 팁을 알려주세요.   \n1                     세 가지 기본 색은 무엇인가요?   \n2                        원자의 구조를 설명하세요.   \n8                     집의 3D 모델을 렌더링합니다.   \n10                   줄리어스 시저는 어떻게 죽었나요?   \n...                                 ...   \n49604        디지털 기술 사용의 세 가지 단점을 설명하세요.   \n49605  이 문장을 개선하세요: 자동차는 모퉁이에 주차되어 있었다.   \n49606            사자, 힘, 용기라는 단어로 문장 만들기   \n49607              환경 보호에 관한 기사를 생성하세요.   \n49618       역경을 이겨낸 한 여성에 대한 이야기를 적으세요.   \n\n                                                  output  \n0      세 가지 팁은 아침식사를 꼭 챙기며, 충분한 수면을 취하고, 적극적으로 운동을 하는...  \n1                                   기본 색은 빨강, 파랑, 노랑입니다.  \n2      원자는 양성자, 중성자, 전자로 구성되어 있으며, 양성자와 중성자는 원자핵 안에 있...  \n8                            집의 3D 모델링 결과물 입니다. (이미지 첨부)  \n10          줄리어스 시저는 그의 친구인 마르쿠스 브루투스에게 살해당했다고 알려져 있습니다.  \n...                                                  ...  \n49604          디지털 기술의 세 가지 단점은 개인 정보 보호, 의존성, 건강 문제입니다.  \n49605                                자동차가 모퉁이에 고정되어 있었다.  \n49606  사자는 힘 있는 동물 중 하나입니다. 사자가 매우 용감해서 자신의 무리를 지키기 위...  \n49607  환경 보호에 대한 것은 지속가능한 에너지 소스를 찾고 사용하는 것입니다. 내일 쓸 ...  \n49618  한 여성은 인생의 역경을 이겨내며, 그녀의 인내와 불굴의 정신이 인생을 바꾸어 놨습...  \n\n[21124 rows x 2 columns]",
      "text/html": "<div>\n<style scoped>\n    .dataframe tbody tr th:only-of-type {\n        vertical-align: middle;\n    }\n\n    .dataframe tbody tr th {\n        vertical-align: top;\n    }\n\n    .dataframe thead th {\n        text-align: right;\n    }\n</style>\n<table border=\"1\" class=\"dataframe\">\n  <thead>\n    <tr style=\"text-align: right;\">\n      <th></th>\n      <th>instruction</th>\n      <th>output</th>\n    </tr>\n  </thead>\n  <tbody>\n    <tr>\n      <th>0</th>\n      <td>건강을 유지하기 위한 세 가지 팁을 알려주세요.</td>\n      <td>세 가지 팁은 아침식사를 꼭 챙기며, 충분한 수면을 취하고, 적극적으로 운동을 하는...</td>\n    </tr>\n    <tr>\n      <th>1</th>\n      <td>세 가지 기본 색은 무엇인가요?</td>\n      <td>기본 색은 빨강, 파랑, 노랑입니다.</td>\n    </tr>\n    <tr>\n      <th>2</th>\n      <td>원자의 구조를 설명하세요.</td>\n      <td>원자는 양성자, 중성자, 전자로 구성되어 있으며, 양성자와 중성자는 원자핵 안에 있...</td>\n    </tr>\n    <tr>\n      <th>8</th>\n      <td>집의 3D 모델을 렌더링합니다.</td>\n      <td>집의 3D 모델링 결과물 입니다. (이미지 첨부)</td>\n    </tr>\n    <tr>\n      <th>10</th>\n      <td>줄리어스 시저는 어떻게 죽었나요?</td>\n      <td>줄리어스 시저는 그의 친구인 마르쿠스 브루투스에게 살해당했다고 알려져 있습니다.</td>\n    </tr>\n    <tr>\n      <th>...</th>\n      <td>...</td>\n      <td>...</td>\n    </tr>\n    <tr>\n      <th>49604</th>\n      <td>디지털 기술 사용의 세 가지 단점을 설명하세요.</td>\n      <td>디지털 기술의 세 가지 단점은 개인 정보 보호, 의존성, 건강 문제입니다.</td>\n    </tr>\n    <tr>\n      <th>49605</th>\n      <td>이 문장을 개선하세요: 자동차는 모퉁이에 주차되어 있었다.</td>\n      <td>자동차가 모퉁이에 고정되어 있었다.</td>\n    </tr>\n    <tr>\n      <th>49606</th>\n      <td>사자, 힘, 용기라는 단어로 문장 만들기</td>\n      <td>사자는 힘 있는 동물 중 하나입니다. 사자가 매우 용감해서 자신의 무리를 지키기 위...</td>\n    </tr>\n    <tr>\n      <th>49607</th>\n      <td>환경 보호에 관한 기사를 생성하세요.</td>\n      <td>환경 보호에 대한 것은 지속가능한 에너지 소스를 찾고 사용하는 것입니다. 내일 쓸 ...</td>\n    </tr>\n    <tr>\n      <th>49618</th>\n      <td>역경을 이겨낸 한 여성에 대한 이야기를 적으세요.</td>\n      <td>한 여성은 인생의 역경을 이겨내며, 그녀의 인내와 불굴의 정신이 인생을 바꾸어 놨습...</td>\n    </tr>\n  </tbody>\n</table>\n<p>21124 rows × 2 columns</p>\n</div>"
     },
     "execution_count": 130,
     "metadata": {},
     "output_type": "execute_result"
    }
   ],
   "source": [
    "df.to_csv('ko_alpaca_data(edited).csv', index=False)\n",
    "df = df[df['input'] == '']\n",
    "df = df.drop(['input'], axis=1)\n",
    "df"
   ],
   "metadata": {
    "collapsed": false,
    "ExecuteTime": {
     "end_time": "2023-09-26T04:53:06.440289180Z",
     "start_time": "2023-09-26T04:53:06.319054602Z"
    }
   },
   "id": "a0ad4f634208757"
  },
  {
   "cell_type": "code",
   "execution_count": 131,
   "outputs": [],
   "source": [
    "df.to_csv('ko_alpaca_data(edited-noinput).csv', index=False)"
   ],
   "metadata": {
    "collapsed": false,
    "ExecuteTime": {
     "end_time": "2023-09-26T04:53:06.494434934Z",
     "start_time": "2023-09-26T04:53:06.436770705Z"
    }
   },
   "id": "d04896afa6d1732b"
  },
  {
   "cell_type": "code",
   "execution_count": null,
   "outputs": [],
   "source": [],
   "metadata": {
    "collapsed": false
   },
   "id": "ba26fbdf08ef9da"
  }
 ],
 "metadata": {
  "kernelspec": {
   "display_name": "Python 3",
   "language": "python",
   "name": "python3"
  },
  "language_info": {
   "codemirror_mode": {
    "name": "ipython",
    "version": 2
   },
   "file_extension": ".py",
   "mimetype": "text/x-python",
   "name": "python",
   "nbconvert_exporter": "python",
   "pygments_lexer": "ipython2",
   "version": "2.7.6"
  }
 },
 "nbformat": 4,
 "nbformat_minor": 5
}
