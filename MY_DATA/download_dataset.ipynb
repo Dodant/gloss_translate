{
 "cells": [
  {
   "cell_type": "code",
   "execution_count": 6,
   "outputs": [
    {
     "data": {
      "text/plain": "Downloading data files:   0%|          | 0/1 [00:00<?, ?it/s]",
      "application/vnd.jupyter.widget-view+json": {
       "version_major": 2,
       "version_minor": 0,
       "model_id": "b76862b983684896826771ec0342ab8f"
      }
     },
     "metadata": {},
     "output_type": "display_data"
    },
    {
     "data": {
      "text/plain": "Downloading data:   0%|          | 0.00/8.49M [00:00<?, ?B/s]",
      "application/vnd.jupyter.widget-view+json": {
       "version_major": 2,
       "version_minor": 0,
       "model_id": "943909cf4710461dbd3ba2384cfc0c4e"
      }
     },
     "metadata": {},
     "output_type": "display_data"
    },
    {
     "data": {
      "text/plain": "Extracting data files:   0%|          | 0/1 [00:00<?, ?it/s]",
      "application/vnd.jupyter.widget-view+json": {
       "version_major": 2,
       "version_minor": 0,
       "model_id": "e65c7cb6055f4b76ac5e567ac115b662"
      }
     },
     "metadata": {},
     "output_type": "display_data"
    },
    {
     "data": {
      "text/plain": "Generating train split:   0%|          | 0/49620 [00:00<?, ? examples/s]",
      "application/vnd.jupyter.widget-view+json": {
       "version_major": 2,
       "version_minor": 0,
       "model_id": "ffb6d15deea848998aea41eab63de9bb"
      }
     },
     "metadata": {},
     "output_type": "display_data"
    },
    {
     "data": {
      "text/plain": "Dataset({\n    features: ['instruction', 'input', 'output'],\n    num_rows: 49620\n})"
     },
     "execution_count": 6,
     "metadata": {},
     "output_type": "execute_result"
    }
   ],
   "source": [
    "from datasets import load_dataset\n",
    "\n",
    "ds = load_dataset(\"Bingsu/ko_alpaca_data\", split=\"train\")\n",
    "ds"
   ],
   "metadata": {
    "collapsed": false,
    "ExecuteTime": {
     "end_time": "2023-09-25T07:08:13.987970119Z",
     "start_time": "2023-09-25T07:08:08.271104630Z"
    }
   },
   "id": "5f492d384cc780b9"
  },
  {
   "cell_type": "code",
   "execution_count": 18,
   "outputs": [],
   "source": [
    "import pandas as pd\n",
    "\n",
    "df = pd.DataFrame(ds)\n",
    "df.to_csv('ko_alpaca_data(original).csv', index=False)"
   ],
   "metadata": {
    "collapsed": false,
    "ExecuteTime": {
     "end_time": "2023-09-25T07:24:52.569056323Z",
     "start_time": "2023-09-25T07:24:51.611113090Z"
    }
   },
   "id": "b9ba18288bacfd64"
  },
  {
   "cell_type": "code",
   "execution_count": 64,
   "outputs": [
    {
     "data": {
      "text/plain": "                                 instruction  \\\n0                 건강을 유지하기 위한 세 가지 팁을 알려주세요.   \n1                          세 가지 기본 색은 무엇인가요?   \n2                             원자의 구조를 설명하세요.   \n3                       대기 오염을 어떻게 줄일 수 있나요?   \n4                   어려운 결정을 내려야 했던 때를 설명하세요.   \n...                                      ...   \n49615  기술이 일상 생활을 어떻게 변화시켰는지 설명하는 문장을 생성하세요.   \n49616               흡연의 영향에 관한 다음 기사를 요약하세요.   \n49617         다음 단락을 더 많은 영향을 미치도록 다시 작성하세요.   \n49618            역경을 이겨낸 한 여성에 대한 이야기를 적으세요.   \n49619             재료 세트가 있고 조리법을 생각해 내야 합니다.   \n\n                                                   input  \\\n0                                                          \n1                                                          \n2                                                          \n3                                                          \n4                                                          \n...                                                  ...   \n49615                                                      \n49616  흡연은 암과 심장 질환의 위험을 크게 높입니다. 담배의 독성 화학물질은 폐를 손상시...   \n49617  환경을 보호하고 배출량을 줄이기 위해 더 많은 조치를 취하지 않으면 기후 변화의 결...   \n49618                                                      \n49619                                달걀, 우유, 버터, 밀가루, 소금   \n\n                                                  output  \n0      세 가지 팁은 아침식사를 꼭 챙기며, 충분한 수면을 취하고, 적극적으로 운동을 하는...  \n1                                   기본 색은 빨강, 파랑, 노랑입니다.  \n2      원자는 양성자, 중성자, 전자로 구성되어 있으며, 양성자와 중성자는 원자핵 안에 있...  \n3      대기 오염을 줄이기 위해 자동차 대신 대중교통을 이용하고, 미세먼지 배출량을 줄이기...  \n4      제가 어려운 결정을 내려야 했던 때는 대학원 졸업 후 직장을 찾아야 했던 때입니다....  \n...                                                  ...  \n49615  기술은 우리 일상에 깊은 변화를 가져왔습니다. 인터넷을 통해 커뮤니케이션, 쇼핑, ...  \n49616  흡연은 폐암, 급성 및 만성 무기질 질환, 심혈관 질환, 배액 장애 및 예방 가능한...  \n49617  기후 변화는 지구 환경에 막대한 영향을 미칠 수 있습니다. 따라서 우리는 지속가능한...  \n49618  한 여성은 인생의 역경을 이겨내며, 그녀의 인내와 불굴의 정신이 인생을 바꾸어 놨습...  \n49619  이 재료를 사용해 맛있는 계란 빵을 만들 수 있습니다. 달걀을 주요 재료로 사용하고...  \n\n[49061 rows x 3 columns]",
      "text/html": "<div>\n<style scoped>\n    .dataframe tbody tr th:only-of-type {\n        vertical-align: middle;\n    }\n\n    .dataframe tbody tr th {\n        vertical-align: top;\n    }\n\n    .dataframe thead th {\n        text-align: right;\n    }\n</style>\n<table border=\"1\" class=\"dataframe\">\n  <thead>\n    <tr style=\"text-align: right;\">\n      <th></th>\n      <th>instruction</th>\n      <th>input</th>\n      <th>output</th>\n    </tr>\n  </thead>\n  <tbody>\n    <tr>\n      <th>0</th>\n      <td>건강을 유지하기 위한 세 가지 팁을 알려주세요.</td>\n      <td></td>\n      <td>세 가지 팁은 아침식사를 꼭 챙기며, 충분한 수면을 취하고, 적극적으로 운동을 하는...</td>\n    </tr>\n    <tr>\n      <th>1</th>\n      <td>세 가지 기본 색은 무엇인가요?</td>\n      <td></td>\n      <td>기본 색은 빨강, 파랑, 노랑입니다.</td>\n    </tr>\n    <tr>\n      <th>2</th>\n      <td>원자의 구조를 설명하세요.</td>\n      <td></td>\n      <td>원자는 양성자, 중성자, 전자로 구성되어 있으며, 양성자와 중성자는 원자핵 안에 있...</td>\n    </tr>\n    <tr>\n      <th>3</th>\n      <td>대기 오염을 어떻게 줄일 수 있나요?</td>\n      <td></td>\n      <td>대기 오염을 줄이기 위해 자동차 대신 대중교통을 이용하고, 미세먼지 배출량을 줄이기...</td>\n    </tr>\n    <tr>\n      <th>4</th>\n      <td>어려운 결정을 내려야 했던 때를 설명하세요.</td>\n      <td></td>\n      <td>제가 어려운 결정을 내려야 했던 때는 대학원 졸업 후 직장을 찾아야 했던 때입니다....</td>\n    </tr>\n    <tr>\n      <th>...</th>\n      <td>...</td>\n      <td>...</td>\n      <td>...</td>\n    </tr>\n    <tr>\n      <th>49615</th>\n      <td>기술이 일상 생활을 어떻게 변화시켰는지 설명하는 문장을 생성하세요.</td>\n      <td></td>\n      <td>기술은 우리 일상에 깊은 변화를 가져왔습니다. 인터넷을 통해 커뮤니케이션, 쇼핑, ...</td>\n    </tr>\n    <tr>\n      <th>49616</th>\n      <td>흡연의 영향에 관한 다음 기사를 요약하세요.</td>\n      <td>흡연은 암과 심장 질환의 위험을 크게 높입니다. 담배의 독성 화학물질은 폐를 손상시...</td>\n      <td>흡연은 폐암, 급성 및 만성 무기질 질환, 심혈관 질환, 배액 장애 및 예방 가능한...</td>\n    </tr>\n    <tr>\n      <th>49617</th>\n      <td>다음 단락을 더 많은 영향을 미치도록 다시 작성하세요.</td>\n      <td>환경을 보호하고 배출량을 줄이기 위해 더 많은 조치를 취하지 않으면 기후 변화의 결...</td>\n      <td>기후 변화는 지구 환경에 막대한 영향을 미칠 수 있습니다. 따라서 우리는 지속가능한...</td>\n    </tr>\n    <tr>\n      <th>49618</th>\n      <td>역경을 이겨낸 한 여성에 대한 이야기를 적으세요.</td>\n      <td></td>\n      <td>한 여성은 인생의 역경을 이겨내며, 그녀의 인내와 불굴의 정신이 인생을 바꾸어 놨습...</td>\n    </tr>\n    <tr>\n      <th>49619</th>\n      <td>재료 세트가 있고 조리법을 생각해 내야 합니다.</td>\n      <td>달걀, 우유, 버터, 밀가루, 소금</td>\n      <td>이 재료를 사용해 맛있는 계란 빵을 만들 수 있습니다. 달걀을 주요 재료로 사용하고...</td>\n    </tr>\n  </tbody>\n</table>\n<p>49061 rows × 3 columns</p>\n</div>"
     },
     "execution_count": 64,
     "metadata": {},
     "output_type": "execute_result"
    }
   ],
   "source": [
    "df = pd.DataFrame(ds)\n",
    "input_del_ls = ['html','https','www','.com', '이미지 첨부','이미지 제공','이미지 삽입','신제품 이미지',\n",
    "                '그림 첨부','첨부된 표','첨부 사진','테이블 그림','면 원단 이미지', 'noinput','데이터셋',\n",
    "                '방 이미지','<이미지','<문서','입력 필요 없음','입력이 필요하지 않습니다.']\n",
    "output_del_ls = ['죄송합니다','죄송하지만']\n",
    "\n",
    "for i in input_del_ls:\n",
    "    df = df[~df['input'].str.contains(i)]\n",
    "for i in output_del_ls:\n",
    "    df = df[~df['output'].str.contains(i)]\n",
    "\n",
    "input_replace_ls = ['<입력 없음>','<명령어 입력>.','입력 없음','NoInput','입력이 없습니다.']\n",
    "\n",
    "for i in input_replace_ls:\n",
    "    df['input'] = df['input'].str.replace(i, '')\n",
    "df['input'] = df['input'].str.replace('반환', 'return')\n",
    "df"
   ],
   "metadata": {
    "collapsed": false,
    "ExecuteTime": {
     "end_time": "2023-09-25T09:37:51.178301138Z",
     "start_time": "2023-09-25T09:37:49.990639855Z"
    }
   },
   "id": "9682afce7e517a32"
  },
  {
   "cell_type": "code",
   "execution_count": 57,
   "outputs": [],
   "source": [
    "df.to_csv('ko_alpaca_data(edited).csv', index=False)"
   ],
   "metadata": {
    "collapsed": false,
    "ExecuteTime": {
     "end_time": "2023-09-25T09:31:04.144178967Z",
     "start_time": "2023-09-25T09:31:04.000822517Z"
    }
   },
   "id": "a0ad4f634208757"
  },
  {
   "cell_type": "code",
   "execution_count": 28,
   "outputs": [
    {
     "data": {
      "text/plain": "                                 instruction input  \\\n0                 건강을 유지하기 위한 세 가지 팁을 알려주세요.         \n1                          세 가지 기본 색은 무엇인가요?         \n2                             원자의 구조를 설명하세요.         \n3                       대기 오염을 어떻게 줄일 수 있나요?         \n4                   어려운 결정을 내려야 했던 때를 설명하세요.         \n...                                      ...   ...   \n49611                 여행 중 안전 수칙 5가지를 제시하세요.         \n49612          암호화폐에 투자할 수 있는 다양한 방법을 설명하세요.         \n49613              글루텐 프리 바나나 빵의 레시피를 생성합니다.         \n49615  기술이 일상 생활을 어떻게 변화시켰는지 설명하는 문장을 생성하세요.         \n49618            역경을 이겨낸 한 여성에 대한 이야기를 적으세요.         \n\n                                                  output  \n0      세 가지 팁은 아침식사를 꼭 챙기며, 충분한 수면을 취하고, 적극적으로 운동을 하는...  \n1                                   기본 색은 빨강, 파랑, 노랑입니다.  \n2      원자는 양성자, 중성자, 전자로 구성되어 있으며, 양성자와 중성자는 원자핵 안에 있...  \n3      대기 오염을 줄이기 위해 자동차 대신 대중교통을 이용하고, 미세먼지 배출량을 줄이기...  \n4      제가 어려운 결정을 내려야 했던 때는 대학원 졸업 후 직장을 찾아야 했던 때입니다....  \n...                                                  ...  \n49611  여행 중에는 소중한 물건들을 분실하지 않도록 보관하고, 다른 사람들과 믿을 수 있는...  \n49612  암호화폐 투자에는 채굴, 트레이딩, 익노베이션 회사 투자 등의 방법이 존재합니다. ...  \n49613  글루텐 프리 바나나 빵을 만들기 위해서는 밀가루 대신 그것과 같이 발효밀가루를 사용...  \n49615  기술은 우리 일상에 깊은 변화를 가져왔습니다. 인터넷을 통해 커뮤니케이션, 쇼핑, ...  \n49618  한 여성은 인생의 역경을 이겨내며, 그녀의 인내와 불굴의 정신이 인생을 바꾸어 놨습...  \n\n[31561 rows x 3 columns]",
      "text/html": "<div>\n<style scoped>\n    .dataframe tbody tr th:only-of-type {\n        vertical-align: middle;\n    }\n\n    .dataframe tbody tr th {\n        vertical-align: top;\n    }\n\n    .dataframe thead th {\n        text-align: right;\n    }\n</style>\n<table border=\"1\" class=\"dataframe\">\n  <thead>\n    <tr style=\"text-align: right;\">\n      <th></th>\n      <th>instruction</th>\n      <th>input</th>\n      <th>output</th>\n    </tr>\n  </thead>\n  <tbody>\n    <tr>\n      <th>0</th>\n      <td>건강을 유지하기 위한 세 가지 팁을 알려주세요.</td>\n      <td></td>\n      <td>세 가지 팁은 아침식사를 꼭 챙기며, 충분한 수면을 취하고, 적극적으로 운동을 하는...</td>\n    </tr>\n    <tr>\n      <th>1</th>\n      <td>세 가지 기본 색은 무엇인가요?</td>\n      <td></td>\n      <td>기본 색은 빨강, 파랑, 노랑입니다.</td>\n    </tr>\n    <tr>\n      <th>2</th>\n      <td>원자의 구조를 설명하세요.</td>\n      <td></td>\n      <td>원자는 양성자, 중성자, 전자로 구성되어 있으며, 양성자와 중성자는 원자핵 안에 있...</td>\n    </tr>\n    <tr>\n      <th>3</th>\n      <td>대기 오염을 어떻게 줄일 수 있나요?</td>\n      <td></td>\n      <td>대기 오염을 줄이기 위해 자동차 대신 대중교통을 이용하고, 미세먼지 배출량을 줄이기...</td>\n    </tr>\n    <tr>\n      <th>4</th>\n      <td>어려운 결정을 내려야 했던 때를 설명하세요.</td>\n      <td></td>\n      <td>제가 어려운 결정을 내려야 했던 때는 대학원 졸업 후 직장을 찾아야 했던 때입니다....</td>\n    </tr>\n    <tr>\n      <th>...</th>\n      <td>...</td>\n      <td>...</td>\n      <td>...</td>\n    </tr>\n    <tr>\n      <th>49611</th>\n      <td>여행 중 안전 수칙 5가지를 제시하세요.</td>\n      <td></td>\n      <td>여행 중에는 소중한 물건들을 분실하지 않도록 보관하고, 다른 사람들과 믿을 수 있는...</td>\n    </tr>\n    <tr>\n      <th>49612</th>\n      <td>암호화폐에 투자할 수 있는 다양한 방법을 설명하세요.</td>\n      <td></td>\n      <td>암호화폐 투자에는 채굴, 트레이딩, 익노베이션 회사 투자 등의 방법이 존재합니다. ...</td>\n    </tr>\n    <tr>\n      <th>49613</th>\n      <td>글루텐 프리 바나나 빵의 레시피를 생성합니다.</td>\n      <td></td>\n      <td>글루텐 프리 바나나 빵을 만들기 위해서는 밀가루 대신 그것과 같이 발효밀가루를 사용...</td>\n    </tr>\n    <tr>\n      <th>49615</th>\n      <td>기술이 일상 생활을 어떻게 변화시켰는지 설명하는 문장을 생성하세요.</td>\n      <td></td>\n      <td>기술은 우리 일상에 깊은 변화를 가져왔습니다. 인터넷을 통해 커뮤니케이션, 쇼핑, ...</td>\n    </tr>\n    <tr>\n      <th>49618</th>\n      <td>역경을 이겨낸 한 여성에 대한 이야기를 적으세요.</td>\n      <td></td>\n      <td>한 여성은 인생의 역경을 이겨내며, 그녀의 인내와 불굴의 정신이 인생을 바꾸어 놨습...</td>\n    </tr>\n  </tbody>\n</table>\n<p>31561 rows × 3 columns</p>\n</div>"
     },
     "execution_count": 28,
     "metadata": {},
     "output_type": "execute_result"
    }
   ],
   "source": [
    "df"
   ],
   "metadata": {
    "collapsed": false,
    "ExecuteTime": {
     "end_time": "2023-09-25T08:03:32.037006520Z",
     "start_time": "2023-09-25T08:03:31.992884565Z"
    }
   },
   "id": "d04896afa6d1732b"
  },
  {
   "cell_type": "code",
   "execution_count": null,
   "outputs": [],
   "source": [],
   "metadata": {
    "collapsed": false
   },
   "id": "ba26fbdf08ef9da"
  }
 ],
 "metadata": {
  "kernelspec": {
   "display_name": "Python 3",
   "language": "python",
   "name": "python3"
  },
  "language_info": {
   "codemirror_mode": {
    "name": "ipython",
    "version": 2
   },
   "file_extension": ".py",
   "mimetype": "text/x-python",
   "name": "python",
   "nbconvert_exporter": "python",
   "pygments_lexer": "ipython2",
   "version": "2.7.6"
  }
 },
 "nbformat": 4,
 "nbformat_minor": 5
}
