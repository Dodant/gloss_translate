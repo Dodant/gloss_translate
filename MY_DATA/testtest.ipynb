{
 "cells": [
  {
   "cell_type": "code",
   "execution_count": 3,
   "id": "initial_id",
   "metadata": {
    "collapsed": true,
    "ExecuteTime": {
     "end_time": "2023-10-05T05:34:50.298586774Z",
     "start_time": "2023-10-05T05:34:50.290165458Z"
    }
   },
   "outputs": [
    {
     "name": "stdout",
     "output_type": "stream",
     "text": [
      "1.13.1\n",
      "True\n"
     ]
    }
   ],
   "source": [
    "import torch\n",
    "print(torch.__version__)\n",
    "print(torch.cuda.is_available())\n"
   ]
  },
  {
   "cell_type": "code",
   "execution_count": 5,
   "outputs": [],
   "source": [
    "from transformers import GPT2LMHeadModel\n",
    "from transformers import GPT2TokenizerFast\n",
    "\n",
    "model_ = 'skt/kogpt2-base-v2'\n",
    "tokenizer = GPT2TokenizerFast.from_pretrained(model_, bos_token='</s>', eos_token='</s>', unk_token='<unk>', pad_token='<pad>', mask_token='<mask>')\n",
    "model = GPT2LMHeadModel.from_pretrained(model_)"
   ],
   "metadata": {
    "collapsed": false,
    "ExecuteTime": {
     "end_time": "2023-10-05T05:41:17.525096740Z",
     "start_time": "2023-10-05T05:41:10.766017658Z"
    }
   },
   "id": "c858811c44839e37"
  },
  {
   "cell_type": "code",
   "execution_count": 9,
   "outputs": [
    {
     "name": "stdout",
     "output_type": "stream",
     "text": [
      "도움 주다? >> 도와주시겠어요?\n",
      "과학 실험 준비 끝? >> 과학 실험 준비 다 했어?\n",
      "체육 시간 축구 하다. >> 체육 시간에 축구를 했어\n",
      "교실 소음 크다. >> 운동 시간이 너무 길어서. -_-; 학교 가기 싫은데... 수업 끝나고 바로 교실로 가자고 해서.\n",
      "운동장 가서 쉬고 싶다고 했는데.. 그게 안되서 못갔다\n",
      "#대구대공원은행에서 운영하는 곳인데요~!\n",
      "이곳도 저희들이 좋아하는 곳이죠!</d> 오늘 아침, 제가 어제 먹은 빵을 먹었습니다.\n",
      "빵에 들어있는 설탕과 당분이랑 우유 그리고 치즈까지 모두 맛있었는데요.\n",
      "그냥 그냥 먹는거라 생각했는데 정말 꿀맛이었어요.\n",
      "그리고 이번에 나온 신메뉴는 역시나 달달한 크림치즈가 있었구요,\n",
      "크림치는 진짜 고소하고 담백해서 좋았답니다.\n",
      "저는 개인적으로 요렇게 먹으면 더 맛있는 것 같아요\n",
      "제가 선택한 메인은 ``바닐라 아이스크림이 나왔는데요.^^ \n",
      "아이스 아메리카노 한잔으로 딱인것 같네용ᄒᄏ<unk>♥♡ -\n",
      "오늘의 포스팅은, 바닐라빈스 케이크를 먹고 난 후로 꼭 한번 먹어봐야 할\n"
     ]
    }
   ],
   "source": [
    "text = '도움 주다 ? >> 도와주시겠어요?\\n과학 실험 준비 끝 ? >> 과학 실험 준비 다 했어?\\n체육 시간 축구 하다 . >> 체육 시간에 축구를 했어\\n교실 소음 크다 . >>'\n",
    "input_ids = tokenizer.encode(text, return_tensors='pt')\n",
    "gen_ids = model.generate(input_ids, max_length=256, repetition_penalty=2.0,\n",
    "                           pad_token_id=tokenizer.pad_token_id,\n",
    "                           eos_token_id=tokenizer.eos_token_id,\n",
    "                           bos_token_id=tokenizer.bos_token_id,\n",
    "                           use_cache=True)\n",
    "generated = tokenizer.decode(gen_ids[0])\n",
    "print(generated)"
   ],
   "metadata": {
    "collapsed": false,
    "ExecuteTime": {
     "end_time": "2023-10-05T05:45:09.138018432Z",
     "start_time": "2023-10-05T05:45:03.514770154Z"
    }
   },
   "id": "a4e7232d7349c1d2"
  },
  {
   "cell_type": "code",
   "execution_count": 11,
   "outputs": [
    {
     "name": "stdout",
     "output_type": "stream",
     "text": [
      "도움 주다? >> 도와주시겠어요?\n",
      "과학 실험 준비 끝? >> 과학 실험 준비 다 했어?\n",
      "체육 시간 축구 하다. >> 체육 시간에 축구를 했어.\n",
      "커피 무료? >> 커피는 공짜로 줄까?\n",
      "아이스크림은? ==== 아이스크림은?\n",
      " <unk>\n",
      " [한자풀이] (() 안에 들어갈 알맞은 말을 골라 쓰시오)\n",
      " 1. '~을'이나 '아니오'로 끝나는 말.\n",
      " 2. 어떤 일을 할 때 쓰는 표현.</d> 이스트소프트, AI 기반 문서 보안 솔루션 출시...\"문서 위변조 방지\"\n",
      " 인공지능(AI)을 기반으로 한 문서의 보안이 강화된다.\n",
      " 소프트웨어(SW)와 하드웨어(H/w)를 결합해 문서를 안전하게 보호할 수 있는 솔루션을 선보인 것이다.\n",
      " SW와 Hard웨어를 융합하는 기술력을 바탕으로 다양한 산업분야에 적용될 것으로 기대된다. 특히 최근 개인정보 유출사고가 잇따르면서 정보보안에 대한 중요성이 부각되고 있다.\n",
      " 이에 따라 국내 주요 기업들도 관련 시장 진출을 서두르고 있다. 이미 네이버를 비롯해 카카오 등 IT기업들이 앞 다투어 시장에 뛰어들었다.\n",
      " 18일 업계에 따르면 한국인터넷진흥원(KISA)은 지난 16일 서울 삼성동 코엑스에서 열린 `제5회 대한민국 인터넷대상`에서 공공부문 대상을 수상했다.\n",
      " KAIST 전산학\n"
     ]
    }
   ],
   "source": [
    "model_ = 'skt/ko-gpt-trinity-1.2B-v0.5'\n",
    "tokenizer = GPT2TokenizerFast.from_pretrained(model_, bos_token='</s>', eos_token='</s>', unk_token='<unk>', pad_token='<pad>', mask_token='<mask>')\n",
    "model = GPT2LMHeadModel.from_pretrained(model_)\n",
    "\n",
    "text = '도움 주다 ? >> 도와주시겠어요?\\n과학 실험 준비 끝 ? >> 과학 실험 준비 다 했어?\\n체육 시간 축구 하다 . >> 체육 시간에 축구를 했어.\\n커피 무료 ? >>'\n",
    "input_ids = tokenizer.encode(text, return_tensors='pt')\n",
    "gen_ids = model.generate(input_ids, max_length=256, repetition_penalty=2.0,\n",
    "                           pad_token_id=tokenizer.pad_token_id,\n",
    "                           eos_token_id=tokenizer.eos_token_id,\n",
    "                           bos_token_id=tokenizer.bos_token_id,\n",
    "                           use_cache=True)\n",
    "generated = tokenizer.decode(gen_ids[0])\n",
    "print(generated)"
   ],
   "metadata": {
    "collapsed": false,
    "ExecuteTime": {
     "end_time": "2023-10-05T05:49:22.180606229Z",
     "start_time": "2023-10-05T05:48:31.360728791Z"
    }
   },
   "id": "6a9885ff1d1a6620"
  },
  {
   "cell_type": "code",
   "execution_count": null,
   "outputs": [],
   "source": [],
   "metadata": {
    "collapsed": false
   },
   "id": "98a5328b91f413ce"
  }
 ],
 "metadata": {
  "kernelspec": {
   "display_name": "Python 3",
   "language": "python",
   "name": "python3"
  },
  "language_info": {
   "codemirror_mode": {
    "name": "ipython",
    "version": 2
   },
   "file_extension": ".py",
   "mimetype": "text/x-python",
   "name": "python",
   "nbconvert_exporter": "python",
   "pygments_lexer": "ipython2",
   "version": "2.7.6"
  }
 },
 "nbformat": 4,
 "nbformat_minor": 5
}
