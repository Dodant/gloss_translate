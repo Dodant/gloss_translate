{
 "cells": [
  {
   "cell_type": "code",
   "execution_count": 1,
   "id": "initial_id",
   "metadata": {
    "collapsed": true,
    "ExecuteTime": {
     "end_time": "2023-10-10T12:38:21.949614645Z",
     "start_time": "2023-10-10T12:38:21.781558061Z"
    }
   },
   "outputs": [],
   "source": [
    "import pandas as pd\n",
    "\n",
    "df = pd.read_csv('../mydata(edited).csv')\n",
    "df['gloss'] = df['gloss'].str.strip()\n",
    "df['spoken'] = df['spoken'].str.strip()\n",
    "df.drop(columns='label', inplace=True)\n",
    "df['gloss'] = df['gloss'].str.replace('가능', ' 가능')\n",
    "df['gloss'] = df['gloss'].str.replace('  ', ' ')\n",
    "df = df.sample(frac=1).reset_index(drop=True)\n",
    "df.to_csv('gloss2text/0-shot.csv', index=False)"
   ]
  },
  {
   "cell_type": "code",
   "execution_count": 2,
   "outputs": [
    {
     "data": {
      "text/plain": "                                                  gloss                spoken\n0     중간고사 성적 어떻다 나오다 ? > 중간고사 성적 어떻게 나왔어?\\n지구 생태계 균...   지구의 생태계는 균형을 이루고 있어\n1     요즘 자전거 타다 빠지다 있다 . > 요즘은 자전거 타기에 푹 빠져 있어.\\n게임 ...         게임 내 미션 성공했어!\n2     선생님 수업 끝나다 후 질문 받다 . > 선생님은 수업이 끝나고 나서도 질문을 받아...    연구를 위해 여러 논문을 읽는다.\n3     이곳 무료 주차 구역 ? > 이곳은 무료 주차 구역인가요?\\n출발 전 보안 검사 받...  출발 전 보안 검사를 받아야 하나요?\n4         군인 나라 지키다 . > 군인은 나라를 지킨다.\\n어떤 캐릭터 추천 하다 ? >            어떤 캐릭터 추천해?\n...                                                 ...                   ...\n1377  국제선 국내선 터미널 같다 ? > 국제선과 국내선 터미널은 같나요?\\n3월 1일 삼...          3월 1일은 삼일절이야\n1378  이 앱 업데이트 버전 어디서 받다 있다 ? > 이 앱의 업데이트 버전이 나왔다는데 ...       남은 음식 포장 가능한가요?\n1379  그 약속 지키다 않다 . > 그는 약속을 지키지 않았다.\\n월말 성과평가 예정 있다...    월말에 성과평가가 있을 예정이야.\n1380  증상 언제 시작 모르다 . > 증상이 언제부터 시작됐는지 모르겠어요.\\n인생 기회 ...          인생은 기회의 연속이야\n1381  이 온라인 포털 검색어 추천 기능 끄다 ? > 이 온라인 포털에서 검색어 추천 기능...      약속 시간에 늦지 않게 오세요\n\n[1382 rows x 2 columns]",
      "text/html": "<div>\n<style scoped>\n    .dataframe tbody tr th:only-of-type {\n        vertical-align: middle;\n    }\n\n    .dataframe tbody tr th {\n        vertical-align: top;\n    }\n\n    .dataframe thead th {\n        text-align: right;\n    }\n</style>\n<table border=\"1\" class=\"dataframe\">\n  <thead>\n    <tr style=\"text-align: right;\">\n      <th></th>\n      <th>gloss</th>\n      <th>spoken</th>\n    </tr>\n  </thead>\n  <tbody>\n    <tr>\n      <th>0</th>\n      <td>중간고사 성적 어떻다 나오다 ? &gt; 중간고사 성적 어떻게 나왔어?\\n지구 생태계 균...</td>\n      <td>지구의 생태계는 균형을 이루고 있어</td>\n    </tr>\n    <tr>\n      <th>1</th>\n      <td>요즘 자전거 타다 빠지다 있다 . &gt; 요즘은 자전거 타기에 푹 빠져 있어.\\n게임 ...</td>\n      <td>게임 내 미션 성공했어!</td>\n    </tr>\n    <tr>\n      <th>2</th>\n      <td>선생님 수업 끝나다 후 질문 받다 . &gt; 선생님은 수업이 끝나고 나서도 질문을 받아...</td>\n      <td>연구를 위해 여러 논문을 읽는다.</td>\n    </tr>\n    <tr>\n      <th>3</th>\n      <td>이곳 무료 주차 구역 ? &gt; 이곳은 무료 주차 구역인가요?\\n출발 전 보안 검사 받...</td>\n      <td>출발 전 보안 검사를 받아야 하나요?</td>\n    </tr>\n    <tr>\n      <th>4</th>\n      <td>군인 나라 지키다 . &gt; 군인은 나라를 지킨다.\\n어떤 캐릭터 추천 하다 ? &gt;</td>\n      <td>어떤 캐릭터 추천해?</td>\n    </tr>\n    <tr>\n      <th>...</th>\n      <td>...</td>\n      <td>...</td>\n    </tr>\n    <tr>\n      <th>1377</th>\n      <td>국제선 국내선 터미널 같다 ? &gt; 국제선과 국내선 터미널은 같나요?\\n3월 1일 삼...</td>\n      <td>3월 1일은 삼일절이야</td>\n    </tr>\n    <tr>\n      <th>1378</th>\n      <td>이 앱 업데이트 버전 어디서 받다 있다 ? &gt; 이 앱의 업데이트 버전이 나왔다는데 ...</td>\n      <td>남은 음식 포장 가능한가요?</td>\n    </tr>\n    <tr>\n      <th>1379</th>\n      <td>그 약속 지키다 않다 . &gt; 그는 약속을 지키지 않았다.\\n월말 성과평가 예정 있다...</td>\n      <td>월말에 성과평가가 있을 예정이야.</td>\n    </tr>\n    <tr>\n      <th>1380</th>\n      <td>증상 언제 시작 모르다 . &gt; 증상이 언제부터 시작됐는지 모르겠어요.\\n인생 기회 ...</td>\n      <td>인생은 기회의 연속이야</td>\n    </tr>\n    <tr>\n      <th>1381</th>\n      <td>이 온라인 포털 검색어 추천 기능 끄다 ? &gt; 이 온라인 포털에서 검색어 추천 기능...</td>\n      <td>약속 시간에 늦지 않게 오세요</td>\n    </tr>\n  </tbody>\n</table>\n<p>1382 rows × 2 columns</p>\n</div>"
     },
     "execution_count": 2,
     "metadata": {},
     "output_type": "execute_result"
    }
   ],
   "source": [
    "df = pd.read_csv('gloss2text/0-shot.csv')\n",
    "df = df.sample(frac=1).reset_index(drop=True)\n",
    "\n",
    "df_1 = pd.DataFrame(columns=['gloss', 'spoken'])\n",
    "for idx in range(0, len(df.index), 2):\n",
    "    new_row = pd.DataFrame([[f\"{df.loc[idx, 'gloss']} > {df.loc[idx, 'spoken']}\"\n",
    "                             f\"\\n{df.loc[idx+1, 'gloss']} > \", df.loc[idx+1, 'spoken']]], columns=['gloss', 'spoken'])\n",
    "    df_1 = pd.concat([df_1, new_row], ignore_index=True)\n",
    "df_1.to_csv('gloss2text/1-shot.csv', index=False)\n",
    "df_1"
   ],
   "metadata": {
    "collapsed": false,
    "ExecuteTime": {
     "end_time": "2023-10-10T12:38:22.281341431Z",
     "start_time": "2023-10-10T12:38:21.951255005Z"
    }
   },
   "id": "319734efabcfe765"
  },
  {
   "cell_type": "code",
   "execution_count": 3,
   "outputs": [
    {
     "data": {
      "text/plain": "                                                 gloss                  spoken\n0    낮잠 자다 많다 . > 낮잠을 자주 자야 해\\n왜 그렇게 말하다 ? > 왜 그렇게 ...          우리 팀에는 행운이 필요해\n1    퇴근 후 회식 어디서 하다 ? > 퇴근 후 회식 어디서 할 거야?\\n택시 기사님 방...          올해의 성과는 무엇인가요?\n2    회의실 예약 어떻다 하다 ? > 회의室 예약은 어떻게 하나?\\n사진 잘 나오다 . ...           오늘 저녁 뭐 먹을까요?\n3    우리 지속 가능 발전 추구하다 되다 . > 우리는 지속가능한 발전을 추구해야 해\\n...              게임 점수 어땠어?\n4    전력 끊기다 같다 . > 전력이 끊어질 것 같아요.\\n이 문제 어떻게 해결 ? > ...      데이터 분석 결과를 리포트 했어.\n..                                                 ...                     ...\n916  저녁 시간 있다 ? > 저녁에 시간 있어?\\n내년 해외 유학 생각 중 . > 내년에...          이 와인은 달콤한 편이야.\n917  이 만화 추천 하다 주다 ? > 이 만화 추천해줄래?\\n학교 앞 친구 만나다 . >...         도서관에서 책을 빌려 왔어.\n918  새롭다 카페 커피 마시다 . > 새로운 카페에서 커피를 마셨다.\\n브라우저 홈페이지...           강아지는 춥다 하면 짖어\n919  집 요리 실험 하다 보다 . > 집에서 요리 실험을 해봤다.\\n인터넷 속도 느리다 ...     올해의 주요 성과 3가지는 뭐에요?\n920  동생 학교 수상 하다 ! > 동생 학교에서 수상을 했다며!\\n여행 어디 가다 ? >...  부족한 성과 때문에 회의가 있을 거에요.\n\n[921 rows x 2 columns]",
      "text/html": "<div>\n<style scoped>\n    .dataframe tbody tr th:only-of-type {\n        vertical-align: middle;\n    }\n\n    .dataframe tbody tr th {\n        vertical-align: top;\n    }\n\n    .dataframe thead th {\n        text-align: right;\n    }\n</style>\n<table border=\"1\" class=\"dataframe\">\n  <thead>\n    <tr style=\"text-align: right;\">\n      <th></th>\n      <th>gloss</th>\n      <th>spoken</th>\n    </tr>\n  </thead>\n  <tbody>\n    <tr>\n      <th>0</th>\n      <td>낮잠 자다 많다 . &gt; 낮잠을 자주 자야 해\\n왜 그렇게 말하다 ? &gt; 왜 그렇게 ...</td>\n      <td>우리 팀에는 행운이 필요해</td>\n    </tr>\n    <tr>\n      <th>1</th>\n      <td>퇴근 후 회식 어디서 하다 ? &gt; 퇴근 후 회식 어디서 할 거야?\\n택시 기사님 방...</td>\n      <td>올해의 성과는 무엇인가요?</td>\n    </tr>\n    <tr>\n      <th>2</th>\n      <td>회의실 예약 어떻다 하다 ? &gt; 회의室 예약은 어떻게 하나?\\n사진 잘 나오다 . ...</td>\n      <td>오늘 저녁 뭐 먹을까요?</td>\n    </tr>\n    <tr>\n      <th>3</th>\n      <td>우리 지속 가능 발전 추구하다 되다 . &gt; 우리는 지속가능한 발전을 추구해야 해\\n...</td>\n      <td>게임 점수 어땠어?</td>\n    </tr>\n    <tr>\n      <th>4</th>\n      <td>전력 끊기다 같다 . &gt; 전력이 끊어질 것 같아요.\\n이 문제 어떻게 해결 ? &gt; ...</td>\n      <td>데이터 분석 결과를 리포트 했어.</td>\n    </tr>\n    <tr>\n      <th>...</th>\n      <td>...</td>\n      <td>...</td>\n    </tr>\n    <tr>\n      <th>916</th>\n      <td>저녁 시간 있다 ? &gt; 저녁에 시간 있어?\\n내년 해외 유학 생각 중 . &gt; 내년에...</td>\n      <td>이 와인은 달콤한 편이야.</td>\n    </tr>\n    <tr>\n      <th>917</th>\n      <td>이 만화 추천 하다 주다 ? &gt; 이 만화 추천해줄래?\\n학교 앞 친구 만나다 . &gt;...</td>\n      <td>도서관에서 책을 빌려 왔어.</td>\n    </tr>\n    <tr>\n      <th>918</th>\n      <td>새롭다 카페 커피 마시다 . &gt; 새로운 카페에서 커피를 마셨다.\\n브라우저 홈페이지...</td>\n      <td>강아지는 춥다 하면 짖어</td>\n    </tr>\n    <tr>\n      <th>919</th>\n      <td>집 요리 실험 하다 보다 . &gt; 집에서 요리 실험을 해봤다.\\n인터넷 속도 느리다 ...</td>\n      <td>올해의 주요 성과 3가지는 뭐에요?</td>\n    </tr>\n    <tr>\n      <th>920</th>\n      <td>동생 학교 수상 하다 ! &gt; 동생 학교에서 수상을 했다며!\\n여행 어디 가다 ? &gt;...</td>\n      <td>부족한 성과 때문에 회의가 있을 거에요.</td>\n    </tr>\n  </tbody>\n</table>\n<p>921 rows × 2 columns</p>\n</div>"
     },
     "execution_count": 3,
     "metadata": {},
     "output_type": "execute_result"
    }
   ],
   "source": [
    "df_2 = pd.DataFrame(columns=['gloss', 'spoken'])\n",
    "df = df.sample(frac=1).reset_index(drop=True)\n",
    "\n",
    "for idx in range(0, len(df.index)-1, 3):\n",
    "    new_row = pd.DataFrame([[f\"{df.loc[idx, 'gloss']} > {df.loc[idx, 'spoken']}\"\n",
    "                             f\"\\n{df.loc[idx+1, 'gloss']} > {df.loc[idx+1, 'spoken']}\"\n",
    "                             f\"\\n{df.loc[idx+2, 'gloss']} > \", df.loc[idx+2, 'spoken']]], columns=['gloss', 'spoken'])\n",
    "    df_2 = pd.concat([df_2, new_row], ignore_index=True)\n",
    "df_2.to_csv('gloss2text/2-shot.csv', index=False)\n",
    "df_2"
   ],
   "metadata": {
    "collapsed": false,
    "ExecuteTime": {
     "end_time": "2023-10-10T12:38:22.517850063Z",
     "start_time": "2023-10-10T12:38:22.286983510Z"
    }
   },
   "id": "a9b76d9386e524b8"
  },
  {
   "cell_type": "code",
   "execution_count": 4,
   "outputs": [
    {
     "data": {
      "text/plain": "                                                 gloss  \\\n0    행운 찾다 . > 너무 행운이야 이걸 찾았다니\\n식당 점심 먹다 . > 식당에서 점...   \n1    내일 경제 보고서 발표 . > 내일 경제 보고서 발표해야 돼.\\n어리다 때 기억 아...   \n2    해외 쇼핑 많이 하다 ? > 해외에서 쇼핑 많이 했나요?\\n금요일 보고서 제출 팀 ...   \n3    로마 역사 유적지 방문 싶다 . > 로마의 역사적인 유적지를 방문하고 싶어.\\n제주...   \n4    그 자동차 운전 가르치다 학교 일하다 . > 그는 자동차 운전을 가르치는 학교에서 ...   \n..                                                 ...   \n686  내일 점심 만나다 ? > 우리 내일 점심에 만날까?\\n운전 하다 힘들다 . > 운전...   \n687  택시 탑승 인원 제한 있다 ? > 택시 탑승 인원 제한이 있나요?\\n대박 이다 ! ...   \n688  장비 어디 구하다 ? > 장비는 어디서 구할 수 있나요?\\n출발 전 보안 검사 받다...   \n689  연구실 동료 협업하다 . > 연구실 동료와 협업하려고 합니다.\\n수업 준비물 가져오...   \n690  간호사 부르다 ? > 간호사님, 부르셨나요?\\n선생님 수업 때 물 마시다 되다 하다...   \n\n                       spoken  \n0            어릴 때는 생일이 기다려졌다.  \n1            공부 방법을 바꿔보려고 해요.  \n2              이 책 좀 볼 수 있을까?  \n3     직장에서 프로젝트가 성공적으로 마무리됐다.  \n4     공항 셔틀 서비스 스케줄은 어떻게 되나요?  \n..                        ...  \n686  이번 달에 생일인데 파티할까 생각 중이에요.  \n687                오늘 날씨 어때요?  \n688         냉면이 얼음으로 나와서 좋았어.  \n689     경기 시작하기 전에 스트레칭 해야 해.  \n690        여기서 러닝머신 어떻게 사용하죠?  \n\n[691 rows x 2 columns]",
      "text/html": "<div>\n<style scoped>\n    .dataframe tbody tr th:only-of-type {\n        vertical-align: middle;\n    }\n\n    .dataframe tbody tr th {\n        vertical-align: top;\n    }\n\n    .dataframe thead th {\n        text-align: right;\n    }\n</style>\n<table border=\"1\" class=\"dataframe\">\n  <thead>\n    <tr style=\"text-align: right;\">\n      <th></th>\n      <th>gloss</th>\n      <th>spoken</th>\n    </tr>\n  </thead>\n  <tbody>\n    <tr>\n      <th>0</th>\n      <td>행운 찾다 . &gt; 너무 행운이야 이걸 찾았다니\\n식당 점심 먹다 . &gt; 식당에서 점...</td>\n      <td>어릴 때는 생일이 기다려졌다.</td>\n    </tr>\n    <tr>\n      <th>1</th>\n      <td>내일 경제 보고서 발표 . &gt; 내일 경제 보고서 발표해야 돼.\\n어리다 때 기억 아...</td>\n      <td>공부 방법을 바꿔보려고 해요.</td>\n    </tr>\n    <tr>\n      <th>2</th>\n      <td>해외 쇼핑 많이 하다 ? &gt; 해외에서 쇼핑 많이 했나요?\\n금요일 보고서 제출 팀 ...</td>\n      <td>이 책 좀 볼 수 있을까?</td>\n    </tr>\n    <tr>\n      <th>3</th>\n      <td>로마 역사 유적지 방문 싶다 . &gt; 로마의 역사적인 유적지를 방문하고 싶어.\\n제주...</td>\n      <td>직장에서 프로젝트가 성공적으로 마무리됐다.</td>\n    </tr>\n    <tr>\n      <th>4</th>\n      <td>그 자동차 운전 가르치다 학교 일하다 . &gt; 그는 자동차 운전을 가르치는 학교에서 ...</td>\n      <td>공항 셔틀 서비스 스케줄은 어떻게 되나요?</td>\n    </tr>\n    <tr>\n      <th>...</th>\n      <td>...</td>\n      <td>...</td>\n    </tr>\n    <tr>\n      <th>686</th>\n      <td>내일 점심 만나다 ? &gt; 우리 내일 점심에 만날까?\\n운전 하다 힘들다 . &gt; 운전...</td>\n      <td>이번 달에 생일인데 파티할까 생각 중이에요.</td>\n    </tr>\n    <tr>\n      <th>687</th>\n      <td>택시 탑승 인원 제한 있다 ? &gt; 택시 탑승 인원 제한이 있나요?\\n대박 이다 ! ...</td>\n      <td>오늘 날씨 어때요?</td>\n    </tr>\n    <tr>\n      <th>688</th>\n      <td>장비 어디 구하다 ? &gt; 장비는 어디서 구할 수 있나요?\\n출발 전 보안 검사 받다...</td>\n      <td>냉면이 얼음으로 나와서 좋았어.</td>\n    </tr>\n    <tr>\n      <th>689</th>\n      <td>연구실 동료 협업하다 . &gt; 연구실 동료와 협업하려고 합니다.\\n수업 준비물 가져오...</td>\n      <td>경기 시작하기 전에 스트레칭 해야 해.</td>\n    </tr>\n    <tr>\n      <th>690</th>\n      <td>간호사 부르다 ? &gt; 간호사님, 부르셨나요?\\n선생님 수업 때 물 마시다 되다 하다...</td>\n      <td>여기서 러닝머신 어떻게 사용하죠?</td>\n    </tr>\n  </tbody>\n</table>\n<p>691 rows × 2 columns</p>\n</div>"
     },
     "execution_count": 4,
     "metadata": {},
     "output_type": "execute_result"
    }
   ],
   "source": [
    "df_3 = pd.DataFrame(columns=['gloss', 'spoken'])\n",
    "df = df.sample(frac=1).reset_index(drop=True)\n",
    "\n",
    "for idx in range(0, len(df.index)-1, 4):\n",
    "    new_row = pd.DataFrame([[f\"{df.loc[idx, 'gloss']} > {df.loc[idx, 'spoken']}\"\n",
    "                             f\"\\n{df.loc[idx+1, 'gloss']} > {df.loc[idx+1, 'spoken']}\"\n",
    "                             f\"\\n{df.loc[idx+2, 'gloss']} > {df.loc[idx+2, 'spoken']}\"\n",
    "                             f\"\\n{df.loc[idx+3, 'gloss']} > \", df.loc[idx+3, 'spoken']]], columns=['gloss', 'spoken'])\n",
    "    df_3 = pd.concat([df_3, new_row], ignore_index=True)\n",
    "df_3.to_csv('gloss2text/3-shot.csv', index=False)\n",
    "df_3"
   ],
   "metadata": {
    "collapsed": false,
    "ExecuteTime": {
     "end_time": "2023-10-10T12:38:22.712143737Z",
     "start_time": "2023-10-10T12:38:22.518779014Z"
    }
   },
   "id": "22d7cc88b2192c9a"
  },
  {
   "cell_type": "code",
   "execution_count": 5,
   "outputs": [
    {
     "data": {
      "text/plain": "                                                 spoken                 gloss\n0     나는 그 소식에 충격을 받았다. > 나 그 소식 충격 받다 .\\n그 추억은 시간이 ...  그 추억 시간 흐르다 변하다 않다 .\n1     그 추억은 시간이 흘러도 변하지 않아. > 그 추억 시간 흐르다 변하다 않다 .\\n...             행운 별 보다 ?\n2            행운의 별을 봤어? > 행운 별 보다 ?\\n생일은 한 해에 한 번뿐이야 >        생일 한 해 한 번뿐이다 .\n3     생일은 한 해에 한 번뿐이야 > 생일 한 해 한 번뿐이다 .\\n허브 키우는 건 내게...      허브 키우다 나 휴식 있다 .\n4     허브 키우는 건 내게 휴식이야. > 허브 키우다 나 휴식 있다 .\\n교과서 언제 구...           교과서 언제 구입 ?\n...                                                 ...                   ...\n2758  나는 새로운 언어를 가르치는 것을 좋아한다. > 나 새로운 언어 가르치다 것 좋아하...        토요일 영화 보다 가다 ?\n2759  토요일에 영화 보러 갈래? > 토요일 영화 보다 가다 ?\\n세상에는 아직 모르는 것...   세상 아직 모르다 것 너무 많다 .\n2760  세상에는 아직 모르는 것이 너무 많아 > 세상 아직 모르다 것 너무 많다 .\\n방송...     방송 광고 이 제품 궁금하다 .\n2761  방송 광고 속 이 제품 궁금해. > 방송 광고 이 제품 궁금하다 .\\n대학에서 강연...            대학 강연 듣다 .\n2762   대학에서 강연을 들었다. > 대학 강연 듣다 .\\n그녀는 내 얘기를 믿지 않았다. >        그녀 나 얘기 믿다 않다 .\n\n[2763 rows x 2 columns]",
      "text/html": "<div>\n<style scoped>\n    .dataframe tbody tr th:only-of-type {\n        vertical-align: middle;\n    }\n\n    .dataframe tbody tr th {\n        vertical-align: top;\n    }\n\n    .dataframe thead th {\n        text-align: right;\n    }\n</style>\n<table border=\"1\" class=\"dataframe\">\n  <thead>\n    <tr style=\"text-align: right;\">\n      <th></th>\n      <th>spoken</th>\n      <th>gloss</th>\n    </tr>\n  </thead>\n  <tbody>\n    <tr>\n      <th>0</th>\n      <td>나는 그 소식에 충격을 받았다. &gt; 나 그 소식 충격 받다 .\\n그 추억은 시간이 ...</td>\n      <td>그 추억 시간 흐르다 변하다 않다 .</td>\n    </tr>\n    <tr>\n      <th>1</th>\n      <td>그 추억은 시간이 흘러도 변하지 않아. &gt; 그 추억 시간 흐르다 변하다 않다 .\\n...</td>\n      <td>행운 별 보다 ?</td>\n    </tr>\n    <tr>\n      <th>2</th>\n      <td>행운의 별을 봤어? &gt; 행운 별 보다 ?\\n생일은 한 해에 한 번뿐이야 &gt;</td>\n      <td>생일 한 해 한 번뿐이다 .</td>\n    </tr>\n    <tr>\n      <th>3</th>\n      <td>생일은 한 해에 한 번뿐이야 &gt; 생일 한 해 한 번뿐이다 .\\n허브 키우는 건 내게...</td>\n      <td>허브 키우다 나 휴식 있다 .</td>\n    </tr>\n    <tr>\n      <th>4</th>\n      <td>허브 키우는 건 내게 휴식이야. &gt; 허브 키우다 나 휴식 있다 .\\n교과서 언제 구...</td>\n      <td>교과서 언제 구입 ?</td>\n    </tr>\n    <tr>\n      <th>...</th>\n      <td>...</td>\n      <td>...</td>\n    </tr>\n    <tr>\n      <th>2758</th>\n      <td>나는 새로운 언어를 가르치는 것을 좋아한다. &gt; 나 새로운 언어 가르치다 것 좋아하...</td>\n      <td>토요일 영화 보다 가다 ?</td>\n    </tr>\n    <tr>\n      <th>2759</th>\n      <td>토요일에 영화 보러 갈래? &gt; 토요일 영화 보다 가다 ?\\n세상에는 아직 모르는 것...</td>\n      <td>세상 아직 모르다 것 너무 많다 .</td>\n    </tr>\n    <tr>\n      <th>2760</th>\n      <td>세상에는 아직 모르는 것이 너무 많아 &gt; 세상 아직 모르다 것 너무 많다 .\\n방송...</td>\n      <td>방송 광고 이 제품 궁금하다 .</td>\n    </tr>\n    <tr>\n      <th>2761</th>\n      <td>방송 광고 속 이 제품 궁금해. &gt; 방송 광고 이 제품 궁금하다 .\\n대학에서 강연...</td>\n      <td>대학 강연 듣다 .</td>\n    </tr>\n    <tr>\n      <th>2762</th>\n      <td>대학에서 강연을 들었다. &gt; 대학 강연 듣다 .\\n그녀는 내 얘기를 믿지 않았다. &gt;</td>\n      <td>그녀 나 얘기 믿다 않다 .</td>\n    </tr>\n  </tbody>\n</table>\n<p>2763 rows × 2 columns</p>\n</div>"
     },
     "execution_count": 5,
     "metadata": {},
     "output_type": "execute_result"
    }
   ],
   "source": [
    "df_1 = pd.DataFrame(columns=['spoken', 'gloss'])\n",
    "df = df.sample(frac=1).reset_index(drop=True)\n",
    "\n",
    "for idx in range(0, len(df.index)-1, 1):\n",
    "    new_row = pd.DataFrame([[f\"{df.loc[idx, 'spoken']} > {df.loc[idx, 'gloss']}\"\n",
    "                             f\"\\n{df.loc[idx+1, 'spoken']} > \", df.loc[idx+1, 'gloss']]], columns=['spoken', 'gloss'])\n",
    "    df_1 = pd.concat([df_1, new_row], ignore_index=True)\n",
    "df_1.to_csv('text2gloss/1-shot.csv', index=False)\n",
    "df_1"
   ],
   "metadata": {
    "collapsed": false,
    "ExecuteTime": {
     "end_time": "2023-10-10T12:38:23.401311395Z",
     "start_time": "2023-10-10T12:38:22.719979573Z"
    }
   },
   "id": "b5f9fb881c9db738"
  },
  {
   "cell_type": "code",
   "execution_count": 6,
   "outputs": [
    {
     "data": {
      "text/plain": "                                                 spoken  \\\n0     아이들과 학교 행사 참석했어. > 아이 학교 행사 참석 하다 .\\n광개토대왕은 어떤...   \n1     시험 어려웠어요? > 시험 어렵다 ?\\n이 사건 대해 어떻게 생각하시나요? > 이 ...   \n2     학교 도서관에서 공부하려고 해. > 학교 도서관 공부 하다 .\\n인터넷 연결 없이 ...   \n3     팝업 광고가 계속 나와요. 어떻게 막나요? > 팝업 광고 계속 나오다 . 어떻게 막...   \n4     이 작품은 어떤 주제로 쓰였나요? > 이 작품 주제 무엇 ?\\n하루 종일 빗물이 내...   \n...                                                 ...   \n1376  이번 주 트레이닝 스케줄 알려줄 수 있어? > 이번 주 트레이닝 스케줄 알다 주다 ...   \n1377  명동은 왜 그 이름이 붙었을까요? > 명동 왜 그 이름 붙다 ?\\n음식이 신선해 보...   \n1378  5월의 마지막 주말에 휴가를 냈어 > 5월 마지막 주말 휴가 내다 .\\n약속 장소에...   \n1379  휴식은 충분히 취하셔야 해요. > 휴식 충분하다 취하다 해요 .\\n독서를 통해 세상...   \n1380  오늘 수업 내용이 어려웠다. > 오늘 수업 내용 어렵다 .\\n저기 뭐 먹는 곳 있어...   \n\n                        gloss  \n0                    시험 어렵다 ?  \n1              학교 도서관 공부 하다 .  \n2     팝업 광고 계속 나오다 . 어떻게 막다 ?  \n3                이 작품 주제 무엇 ?  \n4            주차 인증 어디 받다 가능 ?  \n...                       ...  \n1376           명동 왜 그 이름 붙다 ?  \n1377        5월 마지막 주말 휴가 내다 .  \n1378         휴식 충분하다 취하다 해요 .  \n1379           오늘 수업 내용 어렵다 .  \n1380          나 좋아하다 드라마 추천 ?  \n\n[1381 rows x 2 columns]",
      "text/html": "<div>\n<style scoped>\n    .dataframe tbody tr th:only-of-type {\n        vertical-align: middle;\n    }\n\n    .dataframe tbody tr th {\n        vertical-align: top;\n    }\n\n    .dataframe thead th {\n        text-align: right;\n    }\n</style>\n<table border=\"1\" class=\"dataframe\">\n  <thead>\n    <tr style=\"text-align: right;\">\n      <th></th>\n      <th>spoken</th>\n      <th>gloss</th>\n    </tr>\n  </thead>\n  <tbody>\n    <tr>\n      <th>0</th>\n      <td>아이들과 학교 행사 참석했어. &gt; 아이 학교 행사 참석 하다 .\\n광개토대왕은 어떤...</td>\n      <td>시험 어렵다 ?</td>\n    </tr>\n    <tr>\n      <th>1</th>\n      <td>시험 어려웠어요? &gt; 시험 어렵다 ?\\n이 사건 대해 어떻게 생각하시나요? &gt; 이 ...</td>\n      <td>학교 도서관 공부 하다 .</td>\n    </tr>\n    <tr>\n      <th>2</th>\n      <td>학교 도서관에서 공부하려고 해. &gt; 학교 도서관 공부 하다 .\\n인터넷 연결 없이 ...</td>\n      <td>팝업 광고 계속 나오다 . 어떻게 막다 ?</td>\n    </tr>\n    <tr>\n      <th>3</th>\n      <td>팝업 광고가 계속 나와요. 어떻게 막나요? &gt; 팝업 광고 계속 나오다 . 어떻게 막...</td>\n      <td>이 작품 주제 무엇 ?</td>\n    </tr>\n    <tr>\n      <th>4</th>\n      <td>이 작품은 어떤 주제로 쓰였나요? &gt; 이 작품 주제 무엇 ?\\n하루 종일 빗물이 내...</td>\n      <td>주차 인증 어디 받다 가능 ?</td>\n    </tr>\n    <tr>\n      <th>...</th>\n      <td>...</td>\n      <td>...</td>\n    </tr>\n    <tr>\n      <th>1376</th>\n      <td>이번 주 트레이닝 스케줄 알려줄 수 있어? &gt; 이번 주 트레이닝 스케줄 알다 주다 ...</td>\n      <td>명동 왜 그 이름 붙다 ?</td>\n    </tr>\n    <tr>\n      <th>1377</th>\n      <td>명동은 왜 그 이름이 붙었을까요? &gt; 명동 왜 그 이름 붙다 ?\\n음식이 신선해 보...</td>\n      <td>5월 마지막 주말 휴가 내다 .</td>\n    </tr>\n    <tr>\n      <th>1378</th>\n      <td>5월의 마지막 주말에 휴가를 냈어 &gt; 5월 마지막 주말 휴가 내다 .\\n약속 장소에...</td>\n      <td>휴식 충분하다 취하다 해요 .</td>\n    </tr>\n    <tr>\n      <th>1379</th>\n      <td>휴식은 충분히 취하셔야 해요. &gt; 휴식 충분하다 취하다 해요 .\\n독서를 통해 세상...</td>\n      <td>오늘 수업 내용 어렵다 .</td>\n    </tr>\n    <tr>\n      <th>1380</th>\n      <td>오늘 수업 내용이 어려웠다. &gt; 오늘 수업 내용 어렵다 .\\n저기 뭐 먹는 곳 있어...</td>\n      <td>나 좋아하다 드라마 추천 ?</td>\n    </tr>\n  </tbody>\n</table>\n<p>1381 rows × 2 columns</p>\n</div>"
     },
     "execution_count": 6,
     "metadata": {},
     "output_type": "execute_result"
    }
   ],
   "source": [
    "df_2 = pd.DataFrame(columns=['spoken', 'gloss'])\n",
    "df = df.sample(frac=1).reset_index(drop=True)\n",
    "\n",
    "for idx in range(0, len(df.index)-2, 2):\n",
    "    new_row = pd.DataFrame([[f\"{df.loc[idx, 'spoken']} > {df.loc[idx, 'gloss']}\"\n",
    "                             f\"\\n{df.loc[idx+1, 'spoken']} > {df.loc[idx+1, 'gloss']}\"\n",
    "                             f\"\\n{df.loc[idx+2, 'spoken']} > \", df.loc[idx+2, 'gloss']]], columns=['spoken', 'gloss'])\n",
    "    df_2 = pd.concat([df_2, new_row], ignore_index=True)\n",
    "df_2.to_csv('text2gloss/2-shot.csv', index=False)\n",
    "df_2"
   ],
   "metadata": {
    "collapsed": false,
    "ExecuteTime": {
     "end_time": "2023-10-10T12:38:23.762152966Z",
     "start_time": "2023-10-10T12:38:23.402250016Z"
    }
   },
   "id": "1847bbeaa1e64ed4"
  },
  {
   "cell_type": "code",
   "execution_count": 7,
   "outputs": [
    {
     "data": {
      "text/plain": "                                                spoken  \\\n0    저기 앞에서 좌회전 해주세요. > 저기 앞 좌회전 하다 .\\n공항 내 라운지 위치를...   \n1    테이블 정리 좀 해주세요. > 테이블 정리하다 .\\n작년 여름에는 해외여행을 갔다....   \n2    이 웹사이트 접속하면 컴퓨터가 느려져요. > 이 웹사이트 접속하다 컴퓨터 느리다 ....   \n3    이메일이 계속 스팸으로 오는데요. > 이메일 스팸으로 오다 .\\n그와의 관계가 복잡...   \n4    물고기는 빛을 따라 헤엄쳐 > 물고기 빛 따르다 헤엄치다 .\\n인터뷰 질문 몇 개 ...   \n..                                                 ...   \n916  운전하시면서 라디오 듣기 좋아하시나요? > 운전하다 라디오 듣다 좋아하다 ?\\n방송...   \n917  아기에게 모자를 씌웠어. > 아기 모자 씌우다 .\\n대게시즌이 시작됐다. > 대게 ...   \n918  바다보다는 산이 좋아? > 바다 보다 산 좋다 ?\\n영화 볼래요? > 영화 보다 ?...   \n919  물 마시고 다시 시작하자. > 물 마시다 다시 시작 하다 .\\n그 영화에 대한 나의...   \n920  아버지와의 기억은 나의 보물이야. > 아버지 기억 나 보물이다 .\\n여기 무료 와이...   \n\n                       gloss  \n0                 테이블 정리하다 .  \n1      이 웹사이트 접속하다 컴퓨터 느리다 .  \n2              이메일 스팸으로 오다 .  \n3           물고기 빛 따르다 헤엄치다 .  \n4         브라우저 홈페이지 설정 바꾸다 ?  \n..                       ...  \n916              아기 모자 씌우다 .  \n917             바다 보다 산 좋다 ?  \n918         물 마시다 다시 시작 하다 .  \n919          아버지 기억 나 보물이다 .  \n920  아르헨티나 부에노스아이레스 탱고 배우다 .  \n\n[921 rows x 2 columns]",
      "text/html": "<div>\n<style scoped>\n    .dataframe tbody tr th:only-of-type {\n        vertical-align: middle;\n    }\n\n    .dataframe tbody tr th {\n        vertical-align: top;\n    }\n\n    .dataframe thead th {\n        text-align: right;\n    }\n</style>\n<table border=\"1\" class=\"dataframe\">\n  <thead>\n    <tr style=\"text-align: right;\">\n      <th></th>\n      <th>spoken</th>\n      <th>gloss</th>\n    </tr>\n  </thead>\n  <tbody>\n    <tr>\n      <th>0</th>\n      <td>저기 앞에서 좌회전 해주세요. &gt; 저기 앞 좌회전 하다 .\\n공항 내 라운지 위치를...</td>\n      <td>테이블 정리하다 .</td>\n    </tr>\n    <tr>\n      <th>1</th>\n      <td>테이블 정리 좀 해주세요. &gt; 테이블 정리하다 .\\n작년 여름에는 해외여행을 갔다....</td>\n      <td>이 웹사이트 접속하다 컴퓨터 느리다 .</td>\n    </tr>\n    <tr>\n      <th>2</th>\n      <td>이 웹사이트 접속하면 컴퓨터가 느려져요. &gt; 이 웹사이트 접속하다 컴퓨터 느리다 ....</td>\n      <td>이메일 스팸으로 오다 .</td>\n    </tr>\n    <tr>\n      <th>3</th>\n      <td>이메일이 계속 스팸으로 오는데요. &gt; 이메일 스팸으로 오다 .\\n그와의 관계가 복잡...</td>\n      <td>물고기 빛 따르다 헤엄치다 .</td>\n    </tr>\n    <tr>\n      <th>4</th>\n      <td>물고기는 빛을 따라 헤엄쳐 &gt; 물고기 빛 따르다 헤엄치다 .\\n인터뷰 질문 몇 개 ...</td>\n      <td>브라우저 홈페이지 설정 바꾸다 ?</td>\n    </tr>\n    <tr>\n      <th>...</th>\n      <td>...</td>\n      <td>...</td>\n    </tr>\n    <tr>\n      <th>916</th>\n      <td>운전하시면서 라디오 듣기 좋아하시나요? &gt; 운전하다 라디오 듣다 좋아하다 ?\\n방송...</td>\n      <td>아기 모자 씌우다 .</td>\n    </tr>\n    <tr>\n      <th>917</th>\n      <td>아기에게 모자를 씌웠어. &gt; 아기 모자 씌우다 .\\n대게시즌이 시작됐다. &gt; 대게 ...</td>\n      <td>바다 보다 산 좋다 ?</td>\n    </tr>\n    <tr>\n      <th>918</th>\n      <td>바다보다는 산이 좋아? &gt; 바다 보다 산 좋다 ?\\n영화 볼래요? &gt; 영화 보다 ?...</td>\n      <td>물 마시다 다시 시작 하다 .</td>\n    </tr>\n    <tr>\n      <th>919</th>\n      <td>물 마시고 다시 시작하자. &gt; 물 마시다 다시 시작 하다 .\\n그 영화에 대한 나의...</td>\n      <td>아버지 기억 나 보물이다 .</td>\n    </tr>\n    <tr>\n      <th>920</th>\n      <td>아버지와의 기억은 나의 보물이야. &gt; 아버지 기억 나 보물이다 .\\n여기 무료 와이...</td>\n      <td>아르헨티나 부에노스아이레스 탱고 배우다 .</td>\n    </tr>\n  </tbody>\n</table>\n<p>921 rows × 2 columns</p>\n</div>"
     },
     "execution_count": 7,
     "metadata": {},
     "output_type": "execute_result"
    }
   ],
   "source": [
    "df_3 = pd.DataFrame(columns=['spoken', 'gloss'])\n",
    "df = df.sample(frac=1).reset_index(drop=True)\n",
    "\n",
    "for idx in range(0, len(df.index)-1, 3):\n",
    "    new_row = pd.DataFrame([[f\"{df.loc[idx, 'spoken']} > {df.loc[idx, 'gloss']}\"\n",
    "                             f\"\\n{df.loc[idx+1, 'spoken']} > {df.loc[idx+1, 'gloss']}\"\n",
    "                             f\"\\n{df.loc[idx+2, 'spoken']} > {df.loc[idx+2, 'gloss']}\"\n",
    "                             f\"\\n{df.loc[idx+3, 'spoken']} > \", df.loc[idx+3, 'gloss']]], columns=['spoken', 'gloss'])\n",
    "    df_3 = pd.concat([df_3, new_row], ignore_index=True)\n",
    "df_3.to_csv('text2gloss/3-shot.csv', index=False)\n",
    "df_3"
   ],
   "metadata": {
    "collapsed": false,
    "ExecuteTime": {
     "end_time": "2023-10-10T12:38:24.020799587Z",
     "start_time": "2023-10-10T12:38:23.765397555Z"
    }
   },
   "id": "f725bfc425d8d13a"
  },
  {
   "cell_type": "code",
   "execution_count": 8,
   "outputs": [
    {
     "name": "stdout",
     "output_type": "stream",
     "text": [
      "0-shot\n",
      "gloss: 11, spoken: 12\n",
      "2764\n",
      "1-shot\n",
      "gloss: 34, spoken: 12\n",
      "1382\n",
      "2-shot\n",
      "gloss: 55, spoken: 12\n",
      "921\n",
      "3-shot\n",
      "gloss: 75, spoken: 12\n",
      "691\n"
     ]
    }
   ],
   "source": [
    "from transformers import GPT2TokenizerFast as GPT2T\n",
    "\n",
    "U_TKN, S_TKN = '<usr>', '<sys>'\n",
    "BOS, EOS = '</s>', '</s>'\n",
    "MASK, SENT, UNK, PAD = '<mask>', '<sent>', '<unk>', '<pad>'\n",
    "\n",
    "TKNZR = GPT2T.from_pretrained('skt/kogpt2-base-v2', bos_token=BOS, eos_token=EOS,\n",
    "                                           unk_token=UNK, pad_token=PAD, mask_token=MASK)\n",
    "\n",
    "def tokenize_question(TKNZR, question):\n",
    "    return TKNZR.tokenize(U_TKN + question + EOS)\n",
    "\n",
    "def tokenize_answer(TKNZR, answer):\n",
    "    return TKNZR.tokenize(S_TKN + answer + EOS)\n",
    "\n",
    "for i in range(0, 4):\n",
    "    df = pd.read_csv(f'gloss2text/{i}-shot.csv')\n",
    "    len_g, len_s = 0, 0\n",
    "    for idx in range(len(df.index)):\n",
    "        len_g += len(tokenize_question(TKNZR, df.loc[idx, 'gloss']))\n",
    "        len_s += len(tokenize_answer(TKNZR, df.loc[idx, 'spoken']))\n",
    "    print(f'{i}-shot')\n",
    "    print(f'gloss: {int(len_g/len(df.index) * 1.25)}, spoken: {int(len_s/len(df.index) * 1.25)}')\n",
    "    print(len(df.index))\n",
    "    "
   ],
   "metadata": {
    "collapsed": false,
    "ExecuteTime": {
     "end_time": "2023-10-10T12:38:30.582648011Z",
     "start_time": "2023-10-10T12:38:24.023928636Z"
    }
   },
   "id": "44d356fdc940b1a3"
  },
  {
   "cell_type": "code",
   "execution_count": 9,
   "outputs": [
    {
     "data": {
      "text/plain": "28.791666666666668"
     },
     "execution_count": 9,
     "metadata": {},
     "output_type": "execute_result"
    }
   ],
   "source": [
    "1382 / 48"
   ],
   "metadata": {
    "collapsed": false,
    "ExecuteTime": {
     "end_time": "2023-10-10T12:38:30.621484376Z",
     "start_time": "2023-10-10T12:38:30.579150718Z"
    }
   },
   "id": "c72d539bbd351501"
  },
  {
   "cell_type": "code",
   "execution_count": 10,
   "outputs": [],
   "source": [
    "df = pd.read_csv('gloss2text/0-shot.csv')\n",
    "df = df.sample(frac=1).reset_index(drop=True)\n",
    "df.to_csv('gloss2text/0-shot.csv', index=False)"
   ],
   "metadata": {
    "collapsed": false,
    "ExecuteTime": {
     "end_time": "2023-10-10T12:38:30.621603458Z",
     "start_time": "2023-10-10T12:38:30.621226023Z"
    }
   },
   "id": "b2d60ee9f79d82bd"
  },
  {
   "cell_type": "code",
   "execution_count": null,
   "outputs": [],
   "source": [],
   "metadata": {
    "collapsed": false
   },
   "id": "c849a04915187fc2"
  }
 ],
 "metadata": {
  "kernelspec": {
   "display_name": "Python 3",
   "language": "python",
   "name": "python3"
  },
  "language_info": {
   "codemirror_mode": {
    "name": "ipython",
    "version": 2
   },
   "file_extension": ".py",
   "mimetype": "text/x-python",
   "name": "python",
   "nbconvert_exporter": "python",
   "pygments_lexer": "ipython2",
   "version": "2.7.6"
  }
 },
 "nbformat": 4,
 "nbformat_minor": 5
}
