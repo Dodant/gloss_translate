{
 "cells": [
  {
   "cell_type": "code",
   "execution_count": 70,
   "id": "initial_id",
   "metadata": {
    "collapsed": true,
    "ExecuteTime": {
     "end_time": "2023-10-09T07:18:29.657111880Z",
     "start_time": "2023-10-09T07:18:29.637008186Z"
    }
   },
   "outputs": [],
   "source": [
    "import pandas as pd\n",
    "\n",
    "df = pd.read_csv('../mydata(edited).csv')\n",
    "df['gloss'] = df['gloss'].str.strip()\n",
    "df['spoken'] = df['spoken'].str.strip()\n",
    "df.drop(columns='label', inplace=True)\n",
    "df['gloss'] = df['gloss'].str.replace('가능', ' 가능')\n",
    "df['gloss'] = df['gloss'].str.replace('  ', ' ')\n",
    "df.to_csv('gloss2text/0-shot.csv', index=False)"
   ]
  },
  {
   "cell_type": "code",
   "execution_count": 71,
   "outputs": [
    {
     "data": {
      "text/plain": "                                                  gloss                spoken\n0     어느 학교 가르치다 ? >> 어느 학교에서 가르치시나요?\\n논문 완성 어려움 있다 ...  논문을 완성하는 데 어려움이 있어요.\n1     옛날 이야기 모으다 책 발견 하다 . >> 옛날 이야기를 모아놓은 책을 발견했다.\\...             토끼는 풀을 먹어\n2     인터넷 보안 프로그램 추천하다 . >> 인터넷 보안 프로그램 추천해주세요.\\n짐 보...      짐 보관소 서비스가 얼마에요?\n3     그 문제 당신 견해 어떻다 ? >> 그 문제에 대한 당신의 견해는 어떠한가?\\n우체...        우체국에서는 우표도 팔아.\n4     서점 할인 행사 하다 . >> 서점에서 할인 행사를 했다.\\n지난주 토요일 공원 가...       지난주 토요일에 공원에 갔어\n...                                                 ...                   ...\n1377  자연 우리 많다 것 가르치다 주다 . >> 자연은 우리에게 많은 것을 가르쳐줘\\n인...          인게임 통화 충전했어?\n1378  고구려 백제 어떤 관계 ? >> 고구려와 백제는 어떤 관계였을까?\\n항공사 VIP ...    항공사 VIP 라운지는 어디에요?\n1379  이 책 언제 출간 ? >> 이 책은 언제 출간되나요?\\n기내 면세품 구입 하다 . >>       기내에서 면세품 구입할 거야.\n1380  성과 따르다 평가 받다 . >> 성과에 따라 평가 받을 거에요.\\n어떻게 그림 그리...  어떻게 그림을 그리는지 가르쳐 줄래?\n1381  부작용 있다 연락하다 . >> 부작용이 있으면 연락하라고 했어요.\\n케이크 초 불 ...     생일 케이크에 초를 불어 끄다.\n\n[1382 rows x 2 columns]",
      "text/html": "<div>\n<style scoped>\n    .dataframe tbody tr th:only-of-type {\n        vertical-align: middle;\n    }\n\n    .dataframe tbody tr th {\n        vertical-align: top;\n    }\n\n    .dataframe thead th {\n        text-align: right;\n    }\n</style>\n<table border=\"1\" class=\"dataframe\">\n  <thead>\n    <tr style=\"text-align: right;\">\n      <th></th>\n      <th>gloss</th>\n      <th>spoken</th>\n    </tr>\n  </thead>\n  <tbody>\n    <tr>\n      <th>0</th>\n      <td>어느 학교 가르치다 ? &gt;&gt; 어느 학교에서 가르치시나요?\\n논문 완성 어려움 있다 ...</td>\n      <td>논문을 완성하는 데 어려움이 있어요.</td>\n    </tr>\n    <tr>\n      <th>1</th>\n      <td>옛날 이야기 모으다 책 발견 하다 . &gt;&gt; 옛날 이야기를 모아놓은 책을 발견했다.\\...</td>\n      <td>토끼는 풀을 먹어</td>\n    </tr>\n    <tr>\n      <th>2</th>\n      <td>인터넷 보안 프로그램 추천하다 . &gt;&gt; 인터넷 보안 프로그램 추천해주세요.\\n짐 보...</td>\n      <td>짐 보관소 서비스가 얼마에요?</td>\n    </tr>\n    <tr>\n      <th>3</th>\n      <td>그 문제 당신 견해 어떻다 ? &gt;&gt; 그 문제에 대한 당신의 견해는 어떠한가?\\n우체...</td>\n      <td>우체국에서는 우표도 팔아.</td>\n    </tr>\n    <tr>\n      <th>4</th>\n      <td>서점 할인 행사 하다 . &gt;&gt; 서점에서 할인 행사를 했다.\\n지난주 토요일 공원 가...</td>\n      <td>지난주 토요일에 공원에 갔어</td>\n    </tr>\n    <tr>\n      <th>...</th>\n      <td>...</td>\n      <td>...</td>\n    </tr>\n    <tr>\n      <th>1377</th>\n      <td>자연 우리 많다 것 가르치다 주다 . &gt;&gt; 자연은 우리에게 많은 것을 가르쳐줘\\n인...</td>\n      <td>인게임 통화 충전했어?</td>\n    </tr>\n    <tr>\n      <th>1378</th>\n      <td>고구려 백제 어떤 관계 ? &gt;&gt; 고구려와 백제는 어떤 관계였을까?\\n항공사 VIP ...</td>\n      <td>항공사 VIP 라운지는 어디에요?</td>\n    </tr>\n    <tr>\n      <th>1379</th>\n      <td>이 책 언제 출간 ? &gt;&gt; 이 책은 언제 출간되나요?\\n기내 면세품 구입 하다 . &gt;&gt;</td>\n      <td>기내에서 면세품 구입할 거야.</td>\n    </tr>\n    <tr>\n      <th>1380</th>\n      <td>성과 따르다 평가 받다 . &gt;&gt; 성과에 따라 평가 받을 거에요.\\n어떻게 그림 그리...</td>\n      <td>어떻게 그림을 그리는지 가르쳐 줄래?</td>\n    </tr>\n    <tr>\n      <th>1381</th>\n      <td>부작용 있다 연락하다 . &gt;&gt; 부작용이 있으면 연락하라고 했어요.\\n케이크 초 불 ...</td>\n      <td>생일 케이크에 초를 불어 끄다.</td>\n    </tr>\n  </tbody>\n</table>\n<p>1382 rows × 2 columns</p>\n</div>"
     },
     "execution_count": 71,
     "metadata": {},
     "output_type": "execute_result"
    }
   ],
   "source": [
    "df = pd.read_csv('gloss2text/0-shot.csv')\n",
    "df = df.sample(frac=1).reset_index(drop=True)\n",
    "\n",
    "df_1 = pd.DataFrame(columns=['gloss', 'spoken'])\n",
    "for idx in range(0, len(df.index), 2):\n",
    "    new_row = pd.DataFrame([[f\"{df.loc[idx, 'gloss']} >> {df.loc[idx, 'spoken']}\"\n",
    "                             f\"\\n{df.loc[idx+1, 'gloss']} >> \", df.loc[idx+1, 'spoken']]], columns=['gloss', 'spoken'])\n",
    "    df_1 = pd.concat([df_1, new_row], ignore_index=True)\n",
    "df_1.to_csv('gloss2text/1-shot.csv', index=False)\n",
    "df_1"
   ],
   "metadata": {
    "collapsed": false,
    "ExecuteTime": {
     "end_time": "2023-10-09T07:18:30.173455909Z",
     "start_time": "2023-10-09T07:18:29.821999725Z"
    }
   },
   "id": "319734efabcfe765"
  },
  {
   "cell_type": "code",
   "execution_count": 72,
   "outputs": [
    {
     "data": {
      "text/plain": "                                                 gloss                 spoken\n0    여기 피팅룸 어디 ? >> 여기 피팅룸 어디에요?\\n나 베이컨 원하다 않다 . >>...         후식으로 뭐 추천하시나요?\n1    여기 오다 놀다 좋다 . >> 여기 와서 놀기 정말 좋다.\\n올해 마지막 달 12월...       내일의 트레이닝 주제는 뭐야?\n2    출발 전 보안 검사 받다 되다 ? >> 출발 전 보안 검사를 받아야 하나요?\\n세계...     집에서는 가족과 보드게임을 했다.\n3    그것 정말 믿다 수 없다 일 이다 . >> 그것은 정말 믿을 수 없는 일이었다.\\n...    단체 사진을 찍기 위해 모여들었다.\n4    책장 다양하다 장르 책 있다 . >> 책장에는 다양한 장르의 책들이 있다.\\n곧 저...        그는 나에게 꽃을 선물했다.\n..                                                 ...                    ...\n916  내일 수술 예정 있다 . >> 내일 수술이 예정되어 있어요.\\n약속 시간 언제 ? ...  세상은 인간의 좋은 행동에 따라 밝아져\n917  화재 발생하다 ! >> 화재가 발생했어요!\\n오늘 특별하다 일 없다 평범하다 하루 ...       다음 약속을 위해 날짜를 잡아\n918  나 오늘 행운 있다 . >> 나는 오늘 행운의 편이었어\\n그녀 노래 많다 사람 위로...      주말에 좋은 영화 추천해줄래요?\n919  세상 변화 불가피하다 . >> 세상의 변화는 불가피하다\\n리자드 따뜻하다 곳 좋아하...     내일 아침에 일찍 일어나야 해요.\n920  베지테리언 메뉴 있다 ? >> 베지테리언 메뉴도 있나요?\\n도서관 조용하다 좋다 ....    밴드 활동은 나의 새로운 도전이야.\n\n[921 rows x 2 columns]",
      "text/html": "<div>\n<style scoped>\n    .dataframe tbody tr th:only-of-type {\n        vertical-align: middle;\n    }\n\n    .dataframe tbody tr th {\n        vertical-align: top;\n    }\n\n    .dataframe thead th {\n        text-align: right;\n    }\n</style>\n<table border=\"1\" class=\"dataframe\">\n  <thead>\n    <tr style=\"text-align: right;\">\n      <th></th>\n      <th>gloss</th>\n      <th>spoken</th>\n    </tr>\n  </thead>\n  <tbody>\n    <tr>\n      <th>0</th>\n      <td>여기 피팅룸 어디 ? &gt;&gt; 여기 피팅룸 어디에요?\\n나 베이컨 원하다 않다 . &gt;&gt;...</td>\n      <td>후식으로 뭐 추천하시나요?</td>\n    </tr>\n    <tr>\n      <th>1</th>\n      <td>여기 오다 놀다 좋다 . &gt;&gt; 여기 와서 놀기 정말 좋다.\\n올해 마지막 달 12월...</td>\n      <td>내일의 트레이닝 주제는 뭐야?</td>\n    </tr>\n    <tr>\n      <th>2</th>\n      <td>출발 전 보안 검사 받다 되다 ? &gt;&gt; 출발 전 보안 검사를 받아야 하나요?\\n세계...</td>\n      <td>집에서는 가족과 보드게임을 했다.</td>\n    </tr>\n    <tr>\n      <th>3</th>\n      <td>그것 정말 믿다 수 없다 일 이다 . &gt;&gt; 그것은 정말 믿을 수 없는 일이었다.\\n...</td>\n      <td>단체 사진을 찍기 위해 모여들었다.</td>\n    </tr>\n    <tr>\n      <th>4</th>\n      <td>책장 다양하다 장르 책 있다 . &gt;&gt; 책장에는 다양한 장르의 책들이 있다.\\n곧 저...</td>\n      <td>그는 나에게 꽃을 선물했다.</td>\n    </tr>\n    <tr>\n      <th>...</th>\n      <td>...</td>\n      <td>...</td>\n    </tr>\n    <tr>\n      <th>916</th>\n      <td>내일 수술 예정 있다 . &gt;&gt; 내일 수술이 예정되어 있어요.\\n약속 시간 언제 ? ...</td>\n      <td>세상은 인간의 좋은 행동에 따라 밝아져</td>\n    </tr>\n    <tr>\n      <th>917</th>\n      <td>화재 발생하다 ! &gt;&gt; 화재가 발생했어요!\\n오늘 특별하다 일 없다 평범하다 하루 ...</td>\n      <td>다음 약속을 위해 날짜를 잡아</td>\n    </tr>\n    <tr>\n      <th>918</th>\n      <td>나 오늘 행운 있다 . &gt;&gt; 나는 오늘 행운의 편이었어\\n그녀 노래 많다 사람 위로...</td>\n      <td>주말에 좋은 영화 추천해줄래요?</td>\n    </tr>\n    <tr>\n      <th>919</th>\n      <td>세상 변화 불가피하다 . &gt;&gt; 세상의 변화는 불가피하다\\n리자드 따뜻하다 곳 좋아하...</td>\n      <td>내일 아침에 일찍 일어나야 해요.</td>\n    </tr>\n    <tr>\n      <th>920</th>\n      <td>베지테리언 메뉴 있다 ? &gt;&gt; 베지테리언 메뉴도 있나요?\\n도서관 조용하다 좋다 ....</td>\n      <td>밴드 활동은 나의 새로운 도전이야.</td>\n    </tr>\n  </tbody>\n</table>\n<p>921 rows × 2 columns</p>\n</div>"
     },
     "execution_count": 72,
     "metadata": {},
     "output_type": "execute_result"
    }
   ],
   "source": [
    "df_2 = pd.DataFrame(columns=['gloss', 'spoken'])\n",
    "df = df.sample(frac=1).reset_index(drop=True)\n",
    "\n",
    "for idx in range(0, len(df.index)-1, 3):\n",
    "    new_row = pd.DataFrame([[f\"{df.loc[idx, 'gloss']} >> {df.loc[idx, 'spoken']}\"\n",
    "                             f\"\\n{df.loc[idx+1, 'gloss']} >> {df.loc[idx+1, 'spoken']}\"\n",
    "                             f\"\\n{df.loc[idx+2, 'gloss']} >> \", df.loc[idx+2, 'spoken']]], columns=['gloss', 'spoken'])\n",
    "    df_2 = pd.concat([df_2, new_row], ignore_index=True)\n",
    "df_2.to_csv('gloss2text/2-shot.csv', index=False)\n",
    "df_2"
   ],
   "metadata": {
    "collapsed": false,
    "ExecuteTime": {
     "end_time": "2023-10-09T07:18:30.400176768Z",
     "start_time": "2023-10-09T07:18:30.390037905Z"
    }
   },
   "id": "a9b76d9386e524b8"
  },
  {
   "cell_type": "code",
   "execution_count": 73,
   "outputs": [
    {
     "data": {
      "text/plain": "                                                 gloss  \\\n0    택시 노래 틀다 되다 ? >> 택시에서 노래를 틀어도 될까요?\\n너 강아지 몇 살이...   \n1    인생 방향 잡다 . >> 인생의 방향을 잡아\\n정의 무엇 탐구하다 어렵다 . >> ...   \n2    기술팀 협업 필요하다 . >> 기술팀과 협업해야 해.\\n집 코딩하다 재미 있다 . ...   \n3    항공료 반환 받다 가능 ? >> 항공료 반환 받을 수 있어?\\n요리 배우다 싶다 ....   \n4    워밍업 충분하다 ? >> 워밍업 충분히 했나요?\\n편지 보내다 위해 우체국 가다 ....   \n..                                                 ...   \n686  매일 저녁 일기 쓰다 . >> 매일 저녁에 일기를 쓴다\\n시장 신선하다 과일 사다 ...   \n687  부활절 4월 첫 일요일이다 . >> 부활절은 4월의 첫 번째 일요일이야\\n휴가 때 ...   \n688  학생증 잃어버리다 . >> 학생증 잃어버렸어요.\\n세관 심사 시간 얼마나 걸리다 ?...   \n689  타기 전 교통카드 찍다 하다 ? >> 타기 전에 교통카드를 찍어야 하나요?\\n병원 ...   \n690  나 학교 축제 기다리다 . >> 나는 학교 축제를 기다려.\\n그 게임 친구 같이 가...   \n\n                      spoken  \n0    공항에서 가장 맛있는 음식점 추천해주세요.  \n1            약속 장소는 백화점 앞이에요  \n2     부족한 성과 때문에 회의가 있을 거에요.  \n3     친구가 생일 축하 노래를 작곡해 주었다.  \n4          방송 광고 속 이 제품 궁금해.  \n..                       ...  \n686            그 회사는 파산 위기야.  \n687         아이들과 학교 행사 참석했어.  \n688            신호등에서 좌회전하세요.  \n689             대학교 어디 다니세요?  \n690       이 연구의 주요 내용은 무엇이죠?  \n\n[691 rows x 2 columns]",
      "text/html": "<div>\n<style scoped>\n    .dataframe tbody tr th:only-of-type {\n        vertical-align: middle;\n    }\n\n    .dataframe tbody tr th {\n        vertical-align: top;\n    }\n\n    .dataframe thead th {\n        text-align: right;\n    }\n</style>\n<table border=\"1\" class=\"dataframe\">\n  <thead>\n    <tr style=\"text-align: right;\">\n      <th></th>\n      <th>gloss</th>\n      <th>spoken</th>\n    </tr>\n  </thead>\n  <tbody>\n    <tr>\n      <th>0</th>\n      <td>택시 노래 틀다 되다 ? &gt;&gt; 택시에서 노래를 틀어도 될까요?\\n너 강아지 몇 살이...</td>\n      <td>공항에서 가장 맛있는 음식점 추천해주세요.</td>\n    </tr>\n    <tr>\n      <th>1</th>\n      <td>인생 방향 잡다 . &gt;&gt; 인생의 방향을 잡아\\n정의 무엇 탐구하다 어렵다 . &gt;&gt; ...</td>\n      <td>약속 장소는 백화점 앞이에요</td>\n    </tr>\n    <tr>\n      <th>2</th>\n      <td>기술팀 협업 필요하다 . &gt;&gt; 기술팀과 협업해야 해.\\n집 코딩하다 재미 있다 . ...</td>\n      <td>부족한 성과 때문에 회의가 있을 거에요.</td>\n    </tr>\n    <tr>\n      <th>3</th>\n      <td>항공료 반환 받다 가능 ? &gt;&gt; 항공료 반환 받을 수 있어?\\n요리 배우다 싶다 ....</td>\n      <td>친구가 생일 축하 노래를 작곡해 주었다.</td>\n    </tr>\n    <tr>\n      <th>4</th>\n      <td>워밍업 충분하다 ? &gt;&gt; 워밍업 충분히 했나요?\\n편지 보내다 위해 우체국 가다 ....</td>\n      <td>방송 광고 속 이 제품 궁금해.</td>\n    </tr>\n    <tr>\n      <th>...</th>\n      <td>...</td>\n      <td>...</td>\n    </tr>\n    <tr>\n      <th>686</th>\n      <td>매일 저녁 일기 쓰다 . &gt;&gt; 매일 저녁에 일기를 쓴다\\n시장 신선하다 과일 사다 ...</td>\n      <td>그 회사는 파산 위기야.</td>\n    </tr>\n    <tr>\n      <th>687</th>\n      <td>부활절 4월 첫 일요일이다 . &gt;&gt; 부활절은 4월의 첫 번째 일요일이야\\n휴가 때 ...</td>\n      <td>아이들과 학교 행사 참석했어.</td>\n    </tr>\n    <tr>\n      <th>688</th>\n      <td>학생증 잃어버리다 . &gt;&gt; 학생증 잃어버렸어요.\\n세관 심사 시간 얼마나 걸리다 ?...</td>\n      <td>신호등에서 좌회전하세요.</td>\n    </tr>\n    <tr>\n      <th>689</th>\n      <td>타기 전 교통카드 찍다 하다 ? &gt;&gt; 타기 전에 교통카드를 찍어야 하나요?\\n병원 ...</td>\n      <td>대학교 어디 다니세요?</td>\n    </tr>\n    <tr>\n      <th>690</th>\n      <td>나 학교 축제 기다리다 . &gt;&gt; 나는 학교 축제를 기다려.\\n그 게임 친구 같이 가...</td>\n      <td>이 연구의 주요 내용은 무엇이죠?</td>\n    </tr>\n  </tbody>\n</table>\n<p>691 rows × 2 columns</p>\n</div>"
     },
     "execution_count": 73,
     "metadata": {},
     "output_type": "execute_result"
    }
   ],
   "source": [
    "df_3 = pd.DataFrame(columns=['gloss', 'spoken'])\n",
    "df = df.sample(frac=1).reset_index(drop=True)\n",
    "\n",
    "for idx in range(0, len(df.index)-1, 4):\n",
    "    new_row = pd.DataFrame([[f\"{df.loc[idx, 'gloss']} >> {df.loc[idx, 'spoken']}\"\n",
    "                             f\"\\n{df.loc[idx+1, 'gloss']} >> {df.loc[idx+1, 'spoken']}\"\n",
    "                             f\"\\n{df.loc[idx+2, 'gloss']} >> {df.loc[idx+2, 'spoken']}\"\n",
    "                             f\"\\n{df.loc[idx+3, 'gloss']} >> \", df.loc[idx+3, 'spoken']]], columns=['gloss', 'spoken'])\n",
    "    df_3 = pd.concat([df_3, new_row], ignore_index=True)\n",
    "df_3.to_csv('gloss2text/3-shot.csv', index=False)\n",
    "df_3"
   ],
   "metadata": {
    "collapsed": false,
    "ExecuteTime": {
     "end_time": "2023-10-09T07:18:30.648313941Z",
     "start_time": "2023-10-09T07:18:30.398140679Z"
    }
   },
   "id": "22d7cc88b2192c9a"
  },
  {
   "cell_type": "code",
   "execution_count": 74,
   "outputs": [
    {
     "data": {
      "text/plain": "                                                 spoken                 gloss\n0     이 작품 평가가 좋던데 왜 그런지 알아? >> 이 작품 평가 좋다 왜 그렇다 알다 ...            그것 진짜 좋다 !\n1        그것 진짜 좋다! >> 그것 진짜 좋다 !\\n테마파크에서 롤러코스터를 탔다. >>        테마파크 롤러코스터 타다 .\n2     테마파크에서 롤러코스터를 탔다. >> 테마파크 롤러코스터 타다 .\\n모임에서 오랜만...      모임 오랜만에 친구 만나다 .\n3     모임에서 오랜만에 친구들을 만났다. >> 모임 오랜만에 친구 만나다 .\\n노래에 맞...   노래 맞추다 춤 추다 것 즐겁다 .\n4     노래에 맞춰서 춤을 추는 것은 즐겁다. >> 노래 맞추다 춤 추다 것 즐겁다 .\\n...     지도 교수님 보고서 제출하다 .\n...                                                 ...                   ...\n2758  아이 학교에서 친구들과 잘 지내나? >> 아이 학교 친구 잘 지내다 ?\\n담임 선생...           담임 선생님 누구 ?\n2759     담임 선생님은 누구세요? >> 담임 선생님 누구 ?\\n행운의 깃털을 발견했어 >>           행운 깃털 발견하다 .\n2760        행운의 깃털을 발견했어 >> 행운 깃털 발견하다 .\\n지진이 일어났어! >>              지진 일어나다 !\n2761           지진이 일어났어! >> 지진 일어나다 !\\n강아지는 공원에서 놀아 >>            강아지 공원 놀다 .\n2762  강아지는 공원에서 놀아 >> 강아지 공원 놀다 .\\n연휴 때 버스 운행 시간이 달라...  연휴 때 버스 운행 시간 달라지다 ?\n\n[2763 rows x 2 columns]",
      "text/html": "<div>\n<style scoped>\n    .dataframe tbody tr th:only-of-type {\n        vertical-align: middle;\n    }\n\n    .dataframe tbody tr th {\n        vertical-align: top;\n    }\n\n    .dataframe thead th {\n        text-align: right;\n    }\n</style>\n<table border=\"1\" class=\"dataframe\">\n  <thead>\n    <tr style=\"text-align: right;\">\n      <th></th>\n      <th>spoken</th>\n      <th>gloss</th>\n    </tr>\n  </thead>\n  <tbody>\n    <tr>\n      <th>0</th>\n      <td>이 작품 평가가 좋던데 왜 그런지 알아? &gt;&gt; 이 작품 평가 좋다 왜 그렇다 알다 ...</td>\n      <td>그것 진짜 좋다 !</td>\n    </tr>\n    <tr>\n      <th>1</th>\n      <td>그것 진짜 좋다! &gt;&gt; 그것 진짜 좋다 !\\n테마파크에서 롤러코스터를 탔다. &gt;&gt;</td>\n      <td>테마파크 롤러코스터 타다 .</td>\n    </tr>\n    <tr>\n      <th>2</th>\n      <td>테마파크에서 롤러코스터를 탔다. &gt;&gt; 테마파크 롤러코스터 타다 .\\n모임에서 오랜만...</td>\n      <td>모임 오랜만에 친구 만나다 .</td>\n    </tr>\n    <tr>\n      <th>3</th>\n      <td>모임에서 오랜만에 친구들을 만났다. &gt;&gt; 모임 오랜만에 친구 만나다 .\\n노래에 맞...</td>\n      <td>노래 맞추다 춤 추다 것 즐겁다 .</td>\n    </tr>\n    <tr>\n      <th>4</th>\n      <td>노래에 맞춰서 춤을 추는 것은 즐겁다. &gt;&gt; 노래 맞추다 춤 추다 것 즐겁다 .\\n...</td>\n      <td>지도 교수님 보고서 제출하다 .</td>\n    </tr>\n    <tr>\n      <th>...</th>\n      <td>...</td>\n      <td>...</td>\n    </tr>\n    <tr>\n      <th>2758</th>\n      <td>아이 학교에서 친구들과 잘 지내나? &gt;&gt; 아이 학교 친구 잘 지내다 ?\\n담임 선생...</td>\n      <td>담임 선생님 누구 ?</td>\n    </tr>\n    <tr>\n      <th>2759</th>\n      <td>담임 선생님은 누구세요? &gt;&gt; 담임 선생님 누구 ?\\n행운의 깃털을 발견했어 &gt;&gt;</td>\n      <td>행운 깃털 발견하다 .</td>\n    </tr>\n    <tr>\n      <th>2760</th>\n      <td>행운의 깃털을 발견했어 &gt;&gt; 행운 깃털 발견하다 .\\n지진이 일어났어! &gt;&gt;</td>\n      <td>지진 일어나다 !</td>\n    </tr>\n    <tr>\n      <th>2761</th>\n      <td>지진이 일어났어! &gt;&gt; 지진 일어나다 !\\n강아지는 공원에서 놀아 &gt;&gt;</td>\n      <td>강아지 공원 놀다 .</td>\n    </tr>\n    <tr>\n      <th>2762</th>\n      <td>강아지는 공원에서 놀아 &gt;&gt; 강아지 공원 놀다 .\\n연휴 때 버스 운행 시간이 달라...</td>\n      <td>연휴 때 버스 운행 시간 달라지다 ?</td>\n    </tr>\n  </tbody>\n</table>\n<p>2763 rows × 2 columns</p>\n</div>"
     },
     "execution_count": 74,
     "metadata": {},
     "output_type": "execute_result"
    }
   ],
   "source": [
    "df_1 = pd.DataFrame(columns=['spoken', 'gloss'])\n",
    "df = df.sample(frac=1).reset_index(drop=True)\n",
    "\n",
    "for idx in range(0, len(df.index)-1, 1):\n",
    "    new_row = pd.DataFrame([[f\"{df.loc[idx, 'spoken']} >> {df.loc[idx, 'gloss']}\"\n",
    "                             f\"\\n{df.loc[idx+1, 'spoken']} >> \", df.loc[idx+1, 'gloss']]], columns=['spoken', 'gloss'])\n",
    "    df_1 = pd.concat([df_1, new_row], ignore_index=True)\n",
    "df_1.to_csv('text2gloss/1-shot.csv', index=False)\n",
    "df_1"
   ],
   "metadata": {
    "collapsed": false,
    "ExecuteTime": {
     "end_time": "2023-10-09T07:18:31.293953411Z",
     "start_time": "2023-10-09T07:18:30.629208977Z"
    }
   },
   "id": "b5f9fb881c9db738"
  },
  {
   "cell_type": "code",
   "execution_count": 75,
   "outputs": [
    {
     "data": {
      "text/plain": "                                                 spoken  \\\n0     도서관에서 조용한 시간을 보냈다. >> 도서관 조용하다 시간 보내다 .\\n생일마다 ...   \n1     이번 학기 성적 어땠어요? >> 이번 학기 성적 어떻다 ?\\n영어 성적 좋아지려면 ...   \n2     성과지표를 통해 진단하고 있어요. >> 성과지표 통해 진단하다 .\\n오늘 수업 내용...   \n3     너무 행운이야 이걸 찾았다니 >> 행운 찾다 .\\n그걸 왜 몰랐을까? >> 그것 왜...   \n4     지금 어디야? >> 지금 어디 ?\\n사회생활에서의 충돌은 피할 수 없어. >> 사회...   \n...                                                 ...   \n1376  너무 피곤해서 자고 싶다 >> 너무 피곤하다 자다 싶다 .\\n우리 다음 주에 다시 ...   \n1377  나는 그 날의 기억을 잊을 수 없어. >> 나 그 날 기억 잊다 수 없다 .\\n엄마...   \n1378  고립된 사람들을 찾아요. >> 고립 사람 찾다 .\\n그룹의 메인 보컬은 노래 실력이...   \n1379  과학자는 실험을 통해 세상을 탐구한다. >> 과학자 실험 통하다 세상 탐구 하다 ....   \n1380  나중에 전화할게 >> 나중 전화하다 .\\n불이 계속 번져요. >> 불 계속 번지다 ...   \n\n                            gloss  \n0                  이번 학기 성적 어떻다 ?  \n1                  성과지표 통해 진단하다 .  \n2                         행운 찾다 .  \n3                         지금 어디 ?  \n4     온라인 데이트 앱 안전하다 이용하다 방법 무엇 ?  \n...                           ...  \n1376           나 그 날 기억 잊다 수 없다 .  \n1377                   고립 사람 찾다 .  \n1378        과학자 실험 통하다 세상 탐구 하다 .  \n1379                    나중 전화하다 .  \n1380                 전기 갑자기 꺼지다 .  \n\n[1381 rows x 2 columns]",
      "text/html": "<div>\n<style scoped>\n    .dataframe tbody tr th:only-of-type {\n        vertical-align: middle;\n    }\n\n    .dataframe tbody tr th {\n        vertical-align: top;\n    }\n\n    .dataframe thead th {\n        text-align: right;\n    }\n</style>\n<table border=\"1\" class=\"dataframe\">\n  <thead>\n    <tr style=\"text-align: right;\">\n      <th></th>\n      <th>spoken</th>\n      <th>gloss</th>\n    </tr>\n  </thead>\n  <tbody>\n    <tr>\n      <th>0</th>\n      <td>도서관에서 조용한 시간을 보냈다. &gt;&gt; 도서관 조용하다 시간 보내다 .\\n생일마다 ...</td>\n      <td>이번 학기 성적 어떻다 ?</td>\n    </tr>\n    <tr>\n      <th>1</th>\n      <td>이번 학기 성적 어땠어요? &gt;&gt; 이번 학기 성적 어떻다 ?\\n영어 성적 좋아지려면 ...</td>\n      <td>성과지표 통해 진단하다 .</td>\n    </tr>\n    <tr>\n      <th>2</th>\n      <td>성과지표를 통해 진단하고 있어요. &gt;&gt; 성과지표 통해 진단하다 .\\n오늘 수업 내용...</td>\n      <td>행운 찾다 .</td>\n    </tr>\n    <tr>\n      <th>3</th>\n      <td>너무 행운이야 이걸 찾았다니 &gt;&gt; 행운 찾다 .\\n그걸 왜 몰랐을까? &gt;&gt; 그것 왜...</td>\n      <td>지금 어디 ?</td>\n    </tr>\n    <tr>\n      <th>4</th>\n      <td>지금 어디야? &gt;&gt; 지금 어디 ?\\n사회생활에서의 충돌은 피할 수 없어. &gt;&gt; 사회...</td>\n      <td>온라인 데이트 앱 안전하다 이용하다 방법 무엇 ?</td>\n    </tr>\n    <tr>\n      <th>...</th>\n      <td>...</td>\n      <td>...</td>\n    </tr>\n    <tr>\n      <th>1376</th>\n      <td>너무 피곤해서 자고 싶다 &gt;&gt; 너무 피곤하다 자다 싶다 .\\n우리 다음 주에 다시 ...</td>\n      <td>나 그 날 기억 잊다 수 없다 .</td>\n    </tr>\n    <tr>\n      <th>1377</th>\n      <td>나는 그 날의 기억을 잊을 수 없어. &gt;&gt; 나 그 날 기억 잊다 수 없다 .\\n엄마...</td>\n      <td>고립 사람 찾다 .</td>\n    </tr>\n    <tr>\n      <th>1378</th>\n      <td>고립된 사람들을 찾아요. &gt;&gt; 고립 사람 찾다 .\\n그룹의 메인 보컬은 노래 실력이...</td>\n      <td>과학자 실험 통하다 세상 탐구 하다 .</td>\n    </tr>\n    <tr>\n      <th>1379</th>\n      <td>과학자는 실험을 통해 세상을 탐구한다. &gt;&gt; 과학자 실험 통하다 세상 탐구 하다 ....</td>\n      <td>나중 전화하다 .</td>\n    </tr>\n    <tr>\n      <th>1380</th>\n      <td>나중에 전화할게 &gt;&gt; 나중 전화하다 .\\n불이 계속 번져요. &gt;&gt; 불 계속 번지다 ...</td>\n      <td>전기 갑자기 꺼지다 .</td>\n    </tr>\n  </tbody>\n</table>\n<p>1381 rows × 2 columns</p>\n</div>"
     },
     "execution_count": 75,
     "metadata": {},
     "output_type": "execute_result"
    }
   ],
   "source": [
    "df_2 = pd.DataFrame(columns=['spoken', 'gloss'])\n",
    "df = df.sample(frac=1).reset_index(drop=True)\n",
    "\n",
    "for idx in range(0, len(df.index)-2, 2):\n",
    "    new_row = pd.DataFrame([[f\"{df.loc[idx, 'spoken']} >> {df.loc[idx, 'gloss']}\"\n",
    "                             f\"\\n{df.loc[idx+1, 'spoken']} >> {df.loc[idx+1, 'gloss']}\"\n",
    "                             f\"\\n{df.loc[idx+2, 'spoken']} >> \", df.loc[idx+2, 'gloss']]], columns=['spoken', 'gloss'])\n",
    "    df_2 = pd.concat([df_2, new_row], ignore_index=True)\n",
    "df_2.to_csv('text2gloss/2-shot.csv', index=False)\n",
    "df_2"
   ],
   "metadata": {
    "collapsed": false,
    "ExecuteTime": {
     "end_time": "2023-10-09T07:18:31.620912590Z",
     "start_time": "2023-10-09T07:18:31.296665743Z"
    }
   },
   "id": "1847bbeaa1e64ed4"
  },
  {
   "cell_type": "code",
   "execution_count": 77,
   "outputs": [
    {
     "data": {
      "text/plain": "                                                spoken                   gloss\n0    매일 같은 운동만 하면 안 좋아. >> 매일 같다 운동 하다 안 좋다 .\\n사다리가...         취미 사진 찍기 시작하다 .\n1    취미로 사진 찍기를 시작했어 >> 취미 사진 찍기 시작하다 .\\n병원 이용에 만족합...        나 매일 점심 샐러드 먹다 .\n2    난 매일 점심에 샐러드를 먹어. >> 나 매일 점심 샐러드 먹다 .\\n약속 시간에 ...          기내 면세품 구입 하다 .\n3    기내에서 면세품 구입할 거야. >> 기내 면세품 구입 하다 .\\n자동차를 주차할 때...         아빠 케이크 만들다 주다 .\n4    아빠가 생일 케이크를 만들어 주셨다. >> 아빠 케이크 만들다 주다 .\\n기내에서 ...  유튜브 추천 영상 목록 좋다 거 많다 .\n..                                                 ...                     ...\n916  이 작물은 언제 수확하는 건가요? >> 이 작물 언제 수확 ?\\n대학원 수업이 흥미...        화면 분할 보다 기능 있다 ?\n917  화면 분할해서 보는 기능 있어? >> 화면 분할 보다 기능 있다 ?\\n넷플릭스 4K...      우울하다 기분 들다 음악 듣다 .\n918  우울한 기분이 들어서 음악을 들었다. >> 우울하다 기분 들다 음악 듣다 .\\n창문...           오늘 운동 루틴 무엇 ?\n919  오늘의 운동 루틴은 무엇인가요? >> 오늘 운동 루틴 무엇 ?\\n내 생일 기억해? ...           회사 연매출 증가하다 .\n920  회사의 연매출이 증가했어. >> 회사 연매출 증가하다 .\\n그녀에게 아름답다고 말했...             아기 모자 씌우다 .\n\n[921 rows x 2 columns]",
      "text/html": "<div>\n<style scoped>\n    .dataframe tbody tr th:only-of-type {\n        vertical-align: middle;\n    }\n\n    .dataframe tbody tr th {\n        vertical-align: top;\n    }\n\n    .dataframe thead th {\n        text-align: right;\n    }\n</style>\n<table border=\"1\" class=\"dataframe\">\n  <thead>\n    <tr style=\"text-align: right;\">\n      <th></th>\n      <th>spoken</th>\n      <th>gloss</th>\n    </tr>\n  </thead>\n  <tbody>\n    <tr>\n      <th>0</th>\n      <td>매일 같은 운동만 하면 안 좋아. &gt;&gt; 매일 같다 운동 하다 안 좋다 .\\n사다리가...</td>\n      <td>취미 사진 찍기 시작하다 .</td>\n    </tr>\n    <tr>\n      <th>1</th>\n      <td>취미로 사진 찍기를 시작했어 &gt;&gt; 취미 사진 찍기 시작하다 .\\n병원 이용에 만족합...</td>\n      <td>나 매일 점심 샐러드 먹다 .</td>\n    </tr>\n    <tr>\n      <th>2</th>\n      <td>난 매일 점심에 샐러드를 먹어. &gt;&gt; 나 매일 점심 샐러드 먹다 .\\n약속 시간에 ...</td>\n      <td>기내 면세품 구입 하다 .</td>\n    </tr>\n    <tr>\n      <th>3</th>\n      <td>기내에서 면세품 구입할 거야. &gt;&gt; 기내 면세품 구입 하다 .\\n자동차를 주차할 때...</td>\n      <td>아빠 케이크 만들다 주다 .</td>\n    </tr>\n    <tr>\n      <th>4</th>\n      <td>아빠가 생일 케이크를 만들어 주셨다. &gt;&gt; 아빠 케이크 만들다 주다 .\\n기내에서 ...</td>\n      <td>유튜브 추천 영상 목록 좋다 거 많다 .</td>\n    </tr>\n    <tr>\n      <th>...</th>\n      <td>...</td>\n      <td>...</td>\n    </tr>\n    <tr>\n      <th>916</th>\n      <td>이 작물은 언제 수확하는 건가요? &gt;&gt; 이 작물 언제 수확 ?\\n대학원 수업이 흥미...</td>\n      <td>화면 분할 보다 기능 있다 ?</td>\n    </tr>\n    <tr>\n      <th>917</th>\n      <td>화면 분할해서 보는 기능 있어? &gt;&gt; 화면 분할 보다 기능 있다 ?\\n넷플릭스 4K...</td>\n      <td>우울하다 기분 들다 음악 듣다 .</td>\n    </tr>\n    <tr>\n      <th>918</th>\n      <td>우울한 기분이 들어서 음악을 들었다. &gt;&gt; 우울하다 기분 들다 음악 듣다 .\\n창문...</td>\n      <td>오늘 운동 루틴 무엇 ?</td>\n    </tr>\n    <tr>\n      <th>919</th>\n      <td>오늘의 운동 루틴은 무엇인가요? &gt;&gt; 오늘 운동 루틴 무엇 ?\\n내 생일 기억해? ...</td>\n      <td>회사 연매출 증가하다 .</td>\n    </tr>\n    <tr>\n      <th>920</th>\n      <td>회사의 연매출이 증가했어. &gt;&gt; 회사 연매출 증가하다 .\\n그녀에게 아름답다고 말했...</td>\n      <td>아기 모자 씌우다 .</td>\n    </tr>\n  </tbody>\n</table>\n<p>921 rows × 2 columns</p>\n</div>"
     },
     "execution_count": 77,
     "metadata": {},
     "output_type": "execute_result"
    }
   ],
   "source": [
    "df_3 = pd.DataFrame(columns=['spoken', 'gloss'])\n",
    "df = df.sample(frac=1).reset_index(drop=True)\n",
    "\n",
    "for idx in range(0, len(df.index)-1, 3):\n",
    "    new_row = pd.DataFrame([[f\"{df.loc[idx, 'spoken']} >> {df.loc[idx, 'gloss']}\"\n",
    "                             f\"\\n{df.loc[idx+1, 'spoken']} >> {df.loc[idx+1, 'gloss']}\"\n",
    "                             f\"\\n{df.loc[idx+2, 'spoken']} >> {df.loc[idx+2, 'gloss']}\"\n",
    "                             f\"\\n{df.loc[idx+3, 'spoken']} >> \", df.loc[idx+3, 'gloss']]], columns=['spoken', 'gloss'])\n",
    "    df_3 = pd.concat([df_3, new_row], ignore_index=True)\n",
    "df_3.to_csv('text2gloss/3-shot.csv', index=False)\n",
    "df_3"
   ],
   "metadata": {
    "collapsed": false,
    "ExecuteTime": {
     "end_time": "2023-10-09T07:18:47.655222847Z",
     "start_time": "2023-10-09T07:18:47.425242786Z"
    }
   },
   "id": "f725bfc425d8d13a"
  },
  {
   "cell_type": "code",
   "execution_count": 84,
   "outputs": [
    {
     "name": "stdout",
     "output_type": "stream",
     "text": [
      "0-shot\n",
      "gloss: 11, spoken: 12\n",
      "2764\n",
      "1-shot\n",
      "gloss: 37, spoken: 12\n",
      "1382\n",
      "2-shot\n",
      "gloss: 58, spoken: 12\n",
      "921\n",
      "3-shot\n",
      "gloss: 80, spoken: 12\n",
      "691\n"
     ]
    }
   ],
   "source": [
    "from transformers import GPT2TokenizerFast as GPT2T\n",
    "\n",
    "U_TKN, S_TKN = '<usr>', '<sys>'\n",
    "BOS, EOS = '</s>', '</s>'\n",
    "MASK, SENT, UNK, PAD = '<mask>', '<sent>', '<unk>', '<pad>'\n",
    "\n",
    "TKNZR = GPT2T.from_pretrained('skt/kogpt2-base-v2', bos_token=BOS, eos_token=EOS,\n",
    "                                           unk_token=UNK, pad_token=PAD, mask_token=MASK)\n",
    "\n",
    "def tokenize_question(TKNZR, question):\n",
    "    return TKNZR.tokenize(U_TKN + question + EOS)\n",
    "\n",
    "def tokenize_answer(TKNZR, answer):\n",
    "    return TKNZR.tokenize(S_TKN + answer + EOS)\n",
    "\n",
    "for i in range(0, 4):\n",
    "    df = pd.read_csv(f'gloss2text/{i}-shot.csv')\n",
    "    len_g, len_s = 0, 0\n",
    "    for idx in range(len(df.index)):\n",
    "        len_g += len(tokenize_question(TKNZR, df.loc[idx, 'gloss']))\n",
    "        len_s += len(tokenize_answer(TKNZR, df.loc[idx, 'spoken']))\n",
    "    print(f'{i}-shot')\n",
    "    print(f'gloss: {int(len_g/len(df.index) * 1.25)}, spoken: {int(len_s/len(df.index) * 1.25)}')\n",
    "    print(len(df.index))\n",
    "    "
   ],
   "metadata": {
    "collapsed": false,
    "ExecuteTime": {
     "end_time": "2023-10-09T10:13:09.107510701Z",
     "start_time": "2023-10-09T10:13:03.147217838Z"
    }
   },
   "id": "44d356fdc940b1a3"
  },
  {
   "cell_type": "code",
   "execution_count": 89,
   "outputs": [
    {
     "data": {
      "text/plain": "28.791666666666668"
     },
     "execution_count": 89,
     "metadata": {},
     "output_type": "execute_result"
    }
   ],
   "source": [
    "1382 / 48"
   ],
   "metadata": {
    "collapsed": false,
    "ExecuteTime": {
     "end_time": "2023-10-09T10:31:46.605476612Z",
     "start_time": "2023-10-09T10:31:46.560702033Z"
    }
   },
   "id": "c72d539bbd351501"
  },
  {
   "cell_type": "code",
   "execution_count": null,
   "outputs": [],
   "source": [],
   "metadata": {
    "collapsed": false
   },
   "id": "b2d60ee9f79d82bd"
  }
 ],
 "metadata": {
  "kernelspec": {
   "display_name": "Python 3",
   "language": "python",
   "name": "python3"
  },
  "language_info": {
   "codemirror_mode": {
    "name": "ipython",
    "version": 2
   },
   "file_extension": ".py",
   "mimetype": "text/x-python",
   "name": "python",
   "nbconvert_exporter": "python",
   "pygments_lexer": "ipython2",
   "version": "2.7.6"
  }
 },
 "nbformat": 4,
 "nbformat_minor": 5
}
