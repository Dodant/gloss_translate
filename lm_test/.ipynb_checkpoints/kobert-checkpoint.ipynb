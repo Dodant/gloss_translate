{
 "cells": [
  {
   "cell_type": "code",
   "execution_count": 19,
   "metadata": {},
   "outputs": [],
   "source": [
    "# !pip install 'git+https://github.com/SKTBrain/KoBERT.git#egg=kobert_tokenizer&subdirectory=kobert_hf'\n",
    "# !pip install torch==1.10.0 sentencepiece==0.1.96 transformers==4.8.1\n",
    "# !pip install mxnet\n",
    "# !pip install gluonnlp pandas tqdm\n",
    "# !pip install sentencepiece\n",
    "# !pip install transformers\n",
    "# !pip install torch"
   ]
  },
  {
   "cell_type": "code",
   "execution_count": null,
   "metadata": {},
   "outputs": [
    {
     "ename": "",
     "evalue": "",
     "output_type": "error",
     "traceback": [
      "\u001b[1;31mThe kernel failed to start due to the missing module 'pexpect'. Consider installing this module.\n",
      "\u001b[1;31mClick <a href='https://aka.ms/kernelFailuresMissingModule'>here</a> for more info."
     ]
    }
   ],
   "source": [
    "import torch\n",
    "from torch import nn\n",
    "import torch.nn.functional as F\n",
    "import torch.optim as optim\n",
    "from torch.utils.data import Dataset, DataLoader\n",
    "import gluonnlp as nlp\n",
    "import numpy as np\n",
    "from tqdm import tqdm, tqdm_notebook"
   ]
  },
  {
   "cell_type": "code",
   "execution_count": 26,
   "metadata": {},
   "outputs": [
    {
     "name": "stdout",
     "output_type": "stream",
     "text": [
      "Unexpected exception formatting exception. Falling back to standard exception\n"
     ]
    },
    {
     "name": "stderr",
     "output_type": "stream",
     "text": [
      "Traceback (most recent call last):\n",
      "  File \"/home/dodant/Documents/gloss_translate/.conda/lib/python3.10/site-packages/IPython/core/interactiveshell.py\", line 3508, in run_code\n",
      "  File \"/tmp/ipykernel_276805/3901043789.py\", line 1, in <module>\n",
      "    from kobert_tokenizer import KoBERTTokenizer\n",
      "ModuleNotFoundError: No module named 'kobert_tokenizer'\n",
      "\n",
      "During handling of the above exception, another exception occurred:\n",
      "\n",
      "Traceback (most recent call last):\n",
      "  File \"/home/dodant/Documents/gloss_translate/.conda/lib/python3.10/site-packages/pygments/styles/__init__.py\", line 89, in get_style_by_name\n",
      "ModuleNotFoundError: No module named 'pygments.styles.default'\n",
      "\n",
      "During handling of the above exception, another exception occurred:\n",
      "\n",
      "Traceback (most recent call last):\n",
      "  File \"/home/dodant/Documents/gloss_translate/.conda/lib/python3.10/site-packages/IPython/core/interactiveshell.py\", line 2105, in showtraceback\n",
      "  File \"/home/dodant/Documents/gloss_translate/.conda/lib/python3.10/site-packages/IPython/core/ultratb.py\", line 1428, in structured_traceback\n",
      "  File \"/home/dodant/Documents/gloss_translate/.conda/lib/python3.10/site-packages/IPython/core/ultratb.py\", line 1319, in structured_traceback\n",
      "  File \"/home/dodant/Documents/gloss_translate/.conda/lib/python3.10/site-packages/IPython/core/ultratb.py\", line 1172, in structured_traceback\n",
      "  File \"/home/dodant/Documents/gloss_translate/.conda/lib/python3.10/site-packages/IPython/core/ultratb.py\", line 1062, in format_exception_as_a_whole\n",
      "  File \"/home/dodant/Documents/gloss_translate/.conda/lib/python3.10/site-packages/IPython/core/ultratb.py\", line 1113, in get_records\n",
      "  File \"/home/dodant/Documents/gloss_translate/.conda/lib/python3.10/site-packages/pygments/styles/__init__.py\", line 91, in get_style_by_name\n",
      "pygments.util.ClassNotFound: Could not find style module 'default', though it should be builtin.\n"
     ]
    }
   ],
   "source": [
    "from kobert_tokenizer import KoBERTTokenizer\n",
    "tokenizer = KoBERTTokenizer.from_pretrained('skt/kobert-base-v1')\n",
    "tokenizer.encode('한국어 모델을 공유합니다.')\n",
    "\n",
    "# 실행결과 - [2, - - - - -, 3]\n",
    "# [CLS] & [SEP]   자동 추가 "
   ]
  },
  {
   "cell_type": "code",
   "execution_count": 28,
   "metadata": {},
   "outputs": [
    {
     "name": "stdout",
     "output_type": "stream",
     "text": [
      "Requirement already satisfied: kobert-transformers in /home/dodant/Documents/gloss_translate/.conda/lib/python3.9/site-packages (0.5.1)\n",
      "Requirement already satisfied: torch>=1.1.0 in /home/dodant/Documents/gloss_translate/.conda/lib/python3.9/site-packages (from kobert-transformers) (1.10.0)\n",
      "Requirement already satisfied: transformers<5,>=3 in /home/dodant/Documents/gloss_translate/.conda/lib/python3.9/site-packages (from kobert-transformers) (4.8.1)\n",
      "Requirement already satisfied: sentencepiece>=0.1.91 in /home/dodant/Documents/gloss_translate/.conda/lib/python3.9/site-packages (from kobert-transformers) (0.1.96)\n",
      "Requirement already satisfied: typing-extensions in /home/dodant/Documents/gloss_translate/.conda/lib/python3.9/site-packages (from torch>=1.1.0->kobert-transformers) (4.6.3)\n",
      "Requirement already satisfied: filelock in /home/dodant/Documents/gloss_translate/.conda/lib/python3.9/site-packages (from transformers<5,>=3->kobert-transformers) (3.12.2)\n",
      "Requirement already satisfied: huggingface-hub==0.0.12 in /home/dodant/Documents/gloss_translate/.conda/lib/python3.9/site-packages (from transformers<5,>=3->kobert-transformers) (0.0.12)\n",
      "Requirement already satisfied: numpy>=1.17 in /home/dodant/Documents/gloss_translate/.conda/lib/python3.9/site-packages (from transformers<5,>=3->kobert-transformers) (1.24.3)\n",
      "Requirement already satisfied: packaging in /home/dodant/Documents/gloss_translate/.conda/lib/python3.9/site-packages (from transformers<5,>=3->kobert-transformers) (23.1)\n",
      "Requirement already satisfied: pyyaml in /home/dodant/Documents/gloss_translate/.conda/lib/python3.9/site-packages (from transformers<5,>=3->kobert-transformers) (6.0)\n",
      "Requirement already satisfied: regex!=2019.12.17 in /home/dodant/Documents/gloss_translate/.conda/lib/python3.9/site-packages (from transformers<5,>=3->kobert-transformers) (2023.6.3)\n",
      "Requirement already satisfied: requests in /home/dodant/Documents/gloss_translate/.conda/lib/python3.9/site-packages (from transformers<5,>=3->kobert-transformers) (2.31.0)\n",
      "Requirement already satisfied: sacremoses in /home/dodant/Documents/gloss_translate/.conda/lib/python3.9/site-packages (from transformers<5,>=3->kobert-transformers) (0.0.53)\n",
      "Requirement already satisfied: tokenizers<0.11,>=0.10.1 in /home/dodant/Documents/gloss_translate/.conda/lib/python3.9/site-packages (from transformers<5,>=3->kobert-transformers) (0.10.3)\n",
      "Requirement already satisfied: tqdm>=4.27 in /home/dodant/Documents/gloss_translate/.conda/lib/python3.9/site-packages (from transformers<5,>=3->kobert-transformers) (4.65.0)\n",
      "Requirement already satisfied: charset-normalizer<4,>=2 in /home/dodant/Documents/gloss_translate/.conda/lib/python3.9/site-packages (from requests->transformers<5,>=3->kobert-transformers) (3.1.0)\n",
      "Requirement already satisfied: idna<4,>=2.5 in /home/dodant/Documents/gloss_translate/.conda/lib/python3.9/site-packages (from requests->transformers<5,>=3->kobert-transformers) (3.4)\n",
      "Requirement already satisfied: urllib3<3,>=1.21.1 in /home/dodant/Documents/gloss_translate/.conda/lib/python3.9/site-packages (from requests->transformers<5,>=3->kobert-transformers) (2.0.3)\n",
      "Requirement already satisfied: certifi>=2017.4.17 in /home/dodant/Documents/gloss_translate/.conda/lib/python3.9/site-packages (from requests->transformers<5,>=3->kobert-transformers) (2023.5.7)\n",
      "Requirement already satisfied: six in /home/dodant/Documents/gloss_translate/.conda/lib/python3.9/site-packages (from sacremoses->transformers<5,>=3->kobert-transformers) (1.16.0)\n",
      "Requirement already satisfied: click in /home/dodant/Documents/gloss_translate/.conda/lib/python3.9/site-packages (from sacremoses->transformers<5,>=3->kobert-transformers) (8.1.3)\n",
      "Requirement already satisfied: joblib in /home/dodant/Documents/gloss_translate/.conda/lib/python3.9/site-packages (from sacremoses->transformers<5,>=3->kobert-transformers) (1.2.0)\n"
     ]
    }
   ],
   "source": [
    "!pip install kobert-transformers"
   ]
  },
  {
   "cell_type": "code",
   "execution_count": 25,
   "metadata": {},
   "outputs": [
    {
     "name": "stdout",
     "output_type": "stream",
     "text": [
      "Collecting kobert_tokenizer\n",
      "  Cloning https://github.com/SKTBrain/KoBERT.git to /tmp/pip-install-hkesu85e/kobert-tokenizer_1b501888f5244094aa06704f8538a7ce\n",
      "  Running command git clone --filter=blob:none --quiet https://github.com/SKTBrain/KoBERT.git /tmp/pip-install-hkesu85e/kobert-tokenizer_1b501888f5244094aa06704f8538a7ce\n",
      "  Resolved https://github.com/SKTBrain/KoBERT.git to commit 47a69af87928fc24e20f571fe10c3cc9dd9af9a3\n",
      "  Preparing metadata (setup.py) ... \u001b[?25ldone\n",
      "\u001b[?25hNote: you may need to restart the kernel to use updated packages.\n"
     ]
    }
   ],
   "source": [
    "pip install 'git+https://github.com/SKTBrain/KoBERT.git#egg=kobert_tokenizer&subdirectory=kobert_hf'"
   ]
  },
  {
   "cell_type": "code",
   "execution_count": null,
   "metadata": {},
   "outputs": [
    {
     "ename": "",
     "evalue": "",
     "output_type": "error",
     "traceback": [
      "\u001b[1;31mThe kernel failed to start due to the missing module 'pexpect'. Consider installing this module.\n",
      "\u001b[1;31mClick <a href='https://aka.ms/kernelFailuresMissingModule'>here</a> for more info."
     ]
    }
   ],
   "source": [
    "import this"
   ]
  },
  {
   "cell_type": "code",
   "execution_count": null,
   "metadata": {},
   "outputs": [
    {
     "ename": "",
     "evalue": "",
     "output_type": "error",
     "traceback": [
      "\u001b[1;31mThe kernel failed to start due to the missing module 'pexpect'. Consider installing this module.\n",
      "\u001b[1;31mClick <a href='https://aka.ms/kernelFailuresMissingModule'>here</a> for more info."
     ]
    }
   ],
   "source": [
    "!sudo -E pip install pexpect"
   ]
  },
  {
   "cell_type": "code",
   "execution_count": null,
   "metadata": {},
   "outputs": [],
   "source": []
  }
 ],
 "metadata": {
  "kernelspec": {
   "display_name": "Python 3",
   "language": "python",
   "name": "python3"
  },
  "language_info": {
   "codemirror_mode": {
    "name": "ipython",
    "version": 3
   },
   "file_extension": ".py",
   "mimetype": "text/x-python",
   "name": "python",
   "nbconvert_exporter": "python",
   "pygments_lexer": "ipython3",
   "version": "3.8.2"
  },
  "orig_nbformat": 4
 },
 "nbformat": 4,
 "nbformat_minor": 2
}
