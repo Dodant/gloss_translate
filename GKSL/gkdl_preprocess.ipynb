{
 "cells": [
  {
   "cell_type": "code",
   "execution_count": 1,
   "metadata": {},
   "outputs": [
    {
     "name": "stderr",
     "output_type": "stream",
     "text": [
      "/home/dodant/anaconda3/envs/kobert/lib/python3.9/site-packages/tqdm/auto.py:21: TqdmWarning: IProgress not found. Please update jupyter and ipywidgets. See https://ipywidgets.readthedocs.io/en/stable/user_install.html\n",
      "  from .autonotebook import tqdm as notebook_tqdm\n"
     ]
    },
    {
     "data": {
      "text/html": [
       "<div>\n",
       "<style scoped>\n",
       "    .dataframe tbody tr th:only-of-type {\n",
       "        vertical-align: middle;\n",
       "    }\n",
       "\n",
       "    .dataframe tbody tr th {\n",
       "        vertical-align: top;\n",
       "    }\n",
       "\n",
       "    .dataframe thead th {\n",
       "        text-align: right;\n",
       "    }\n",
       "</style>\n",
       "<table border=\"1\" class=\"dataframe\">\n",
       "  <thead>\n",
       "    <tr style=\"text-align: right;\">\n",
       "      <th></th>\n",
       "      <th>GKSL</th>\n",
       "      <th>WKL</th>\n",
       "      <th>label</th>\n",
       "    </tr>\n",
       "  </thead>\n",
       "  <tbody>\n",
       "    <tr>\n",
       "      <th>0</th>\n",
       "      <td>집 불</td>\n",
       "      <td>집에 불이 났어요.</td>\n",
       "      <td>0</td>\n",
       "    </tr>\n",
       "    <tr>\n",
       "      <th>1</th>\n",
       "      <td>집 도둑 넘어오다</td>\n",
       "      <td>집에 도둑이 들어왔어요.</td>\n",
       "      <td>0</td>\n",
       "    </tr>\n",
       "    <tr>\n",
       "      <th>2</th>\n",
       "      <td>누가 교통사고</td>\n",
       "      <td>어떤 사람이 교통사고를 당했어요.</td>\n",
       "      <td>0</td>\n",
       "    </tr>\n",
       "    <tr>\n",
       "      <th>3</th>\n",
       "      <td>먹다 중간 목 실수 삼키다</td>\n",
       "      <td>식사를 하다가 목에 음식이 걸렸어요.</td>\n",
       "      <td>0</td>\n",
       "    </tr>\n",
       "    <tr>\n",
       "      <th>4</th>\n",
       "      <td>홍수 집 물 채우다</td>\n",
       "      <td>홍수가 나서 집이 물에 잠기고 있어요.</td>\n",
       "      <td>0</td>\n",
       "    </tr>\n",
       "    <tr>\n",
       "      <th>...</th>\n",
       "      <td>...</td>\n",
       "      <td>...</td>\n",
       "      <td>...</td>\n",
       "    </tr>\n",
       "    <tr>\n",
       "      <th>3046</th>\n",
       "      <td>도착 시간 저녁 9시 정도</td>\n",
       "      <td>도착시간은 오후 9시가 되겠습니다</td>\n",
       "      <td>0</td>\n",
       "    </tr>\n",
       "    <tr>\n",
       "      <th>3047</th>\n",
       "      <td>아이 지금 5 되다</td>\n",
       "      <td>아이가 다섯 살이 되었다</td>\n",
       "      <td>0</td>\n",
       "    </tr>\n",
       "    <tr>\n",
       "      <th>3048</th>\n",
       "      <td>잘 되다 부탁</td>\n",
       "      <td>잘 되길 바래</td>\n",
       "      <td>0</td>\n",
       "    </tr>\n",
       "    <tr>\n",
       "      <th>3049</th>\n",
       "      <td>미래 의사 원하다</td>\n",
       "      <td>커서 의사가 되고 싶다</td>\n",
       "      <td>0</td>\n",
       "    </tr>\n",
       "    <tr>\n",
       "      <th>3050</th>\n",
       "      <td>쉬다 날 때문에 공원 장소 사람 많다</td>\n",
       "      <td>휴일이 되어서인지 공원에 사람이 많다</td>\n",
       "      <td>0</td>\n",
       "    </tr>\n",
       "  </tbody>\n",
       "</table>\n",
       "<p>3040 rows × 3 columns</p>\n",
       "</div>"
      ],
      "text/plain": [
       "                      GKSL                    WKL  label\n",
       "0                      집 불             집에 불이 났어요.      0\n",
       "1                집 도둑 넘어오다          집에 도둑이 들어왔어요.      0\n",
       "2                  누가 교통사고     어떤 사람이 교통사고를 당했어요.      0\n",
       "3           먹다 중간 목 실수 삼키다   식사를 하다가 목에 음식이 걸렸어요.      0\n",
       "4               홍수 집 물 채우다  홍수가 나서 집이 물에 잠기고 있어요.      0\n",
       "...                    ...                    ...    ...\n",
       "3046        도착 시간 저녁 9시 정도     도착시간은 오후 9시가 되겠습니다      0\n",
       "3047            아이 지금 5 되다          아이가 다섯 살이 되었다      0\n",
       "3048               잘 되다 부탁                잘 되길 바래      0\n",
       "3049             미래 의사 원하다           커서 의사가 되고 싶다      0\n",
       "3050  쉬다 날 때문에 공원 장소 사람 많다   휴일이 되어서인지 공원에 사람이 많다      0\n",
       "\n",
       "[3040 rows x 3 columns]"
      ]
     },
     "execution_count": 1,
     "metadata": {},
     "output_type": "execute_result"
    }
   ],
   "source": [
    "import pandas as pd\n",
    "import warnings\n",
    "from kobert_tokenizer import KoBERTTokenizer\n",
    "warnings.simplefilter(action='ignore', category=FutureWarning)\n",
    "\n",
    "df = pd.read_csv('GKSL3k_edited.csv')\n",
    "df = df.drop_duplicates()\n",
    "df.drop(['video_num'], axis=1, inplace=True)\n",
    "df.drop(['question_w_q_morph'], axis=1, inplace=True)\n",
    "df.drop(['dataset'], axis=1, inplace=True)\n",
    "df.rename(columns={'Gloss level Korean Sign Language (GKSL) sentence': 'GKSL'}, inplace=True)\n",
    "df.rename(columns={'Word level Korean Language (WKL) sentence': 'WKL'}, inplace=True)\n",
    "\n",
    "\n",
    "# 뼈곳, #NAME? 행 & 바꾸다1, 와이파이1 & ?, '  ' 제거\n",
    "df = df[df['GKSL'].str.contains('뼈곳') == False]\n",
    "df = df[df['GKSL'].str.contains('#NAME?') == False]\n",
    "df['GKSL'] = df['GKSL'].str.replace('바꾸다1', '바꾸다')\n",
    "df['GKSL'] = df['GKSL'].str.replace('바꾸다2', '바꾸다')\n",
    "df['GKSL'] = df['GKSL'].str.replace('?', '')\n",
    "df['GKSL'] = df['GKSL'].str.replace('  ', ' ')\n",
    "df['GKSL'] = df['GKSL'].str.strip()\n",
    "df['GKSL'] = df.apply(lambda row: row['GKSL'] + ' ?' if row['question'] else row['GKSL'], axis=1)\n",
    "df['WKL'] = df['WKL'].str.replace('  ', ' ')\n",
    "df['WKL'] = df['WKL'].str.strip()\n",
    "df.drop(['question'], axis=1, inplace=True)\n",
    "df['label'] = df['WKL'].apply(lambda x: 1 if '?' in x else 0)\n",
    "df\n",
    "\n",
    "# filtered_df = df[(df['GKSL'].str.contains('\\?'))]\n",
    "# filtered_df = df[(df['WKL'].str.endswith('?')) & (df['question'] == False)]\n",
    "# filtered_df"
   ]
  },
  {
   "cell_type": "code",
   "execution_count": 2,
   "metadata": {},
   "outputs": [],
   "source": [
    "df.to_csv('GKSL3k_labeled.csv', index=False)"
   ]
  },
  {
   "cell_type": "code",
   "execution_count": 12,
   "metadata": {},
   "outputs": [
    {
     "name": "stderr",
     "output_type": "stream",
     "text": [
      "The tokenizer class you load from this checkpoint is not the same type as the class this function is called from. It may result in unexpected tokenization. \n",
      "The tokenizer class you load from this checkpoint is 'XLNetTokenizer'. \n",
      "The class this function is called from is 'KoBERTTokenizer'.\n"
     ]
    },
    {
     "data": {
      "text/html": [
       "<div>\n",
       "<style scoped>\n",
       "    .dataframe tbody tr th:only-of-type {\n",
       "        vertical-align: middle;\n",
       "    }\n",
       "\n",
       "    .dataframe tbody tr th {\n",
       "        vertical-align: top;\n",
       "    }\n",
       "\n",
       "    .dataframe thead th {\n",
       "        text-align: right;\n",
       "    }\n",
       "</style>\n",
       "<table border=\"1\" class=\"dataframe\">\n",
       "  <thead>\n",
       "    <tr style=\"text-align: right;\">\n",
       "      <th></th>\n",
       "      <th>GKSL</th>\n",
       "      <th>WKL</th>\n",
       "      <th>GKSL_encoded</th>\n",
       "      <th>WKL_encoded</th>\n",
       "    </tr>\n",
       "  </thead>\n",
       "  <tbody>\n",
       "    <tr>\n",
       "      <th>0</th>\n",
       "      <td>집 불</td>\n",
       "      <td>집에 불이 났어요.</td>\n",
       "      <td>[2, 4384, 2485, 3]</td>\n",
       "      <td>[2, 4384, 6896, 2485, 7096, 517, 5671, 6857, 5...</td>\n",
       "    </tr>\n",
       "    <tr>\n",
       "      <th>1</th>\n",
       "      <td>집 도둑 넘어오다</td>\n",
       "      <td>집에 도둑이 들어왔어요.</td>\n",
       "      <td>[2, 4384, 517, 5859, 5908, 1465, 6964, 5782, 3]</td>\n",
       "      <td>[2, 4384, 6896, 517, 5859, 5908, 7096, 1804, 6...</td>\n",
       "    </tr>\n",
       "    <tr>\n",
       "      <th>2</th>\n",
       "      <td>누가 교통사고</td>\n",
       "      <td>어떤 사람이 교통사고를 당했어요.</td>\n",
       "      <td>[2, 1527, 1113, 3]</td>\n",
       "      <td>[2, 3224, 2589, 1113, 6116, 1618, 7874, 54, 3]</td>\n",
       "    </tr>\n",
       "    <tr>\n",
       "      <th>3</th>\n",
       "      <td>먹다 중간 목 실수 삼키다</td>\n",
       "      <td>식사를 하다가 목에 음식이 걸렸어요.</td>\n",
       "      <td>[2, 2010, 5782, 4258, 2068, 3042, 2650, 7573, ...</td>\n",
       "      <td>[2, 3008, 6116, 4932, 5330, 2068, 6896, 3609, ...</td>\n",
       "    </tr>\n",
       "    <tr>\n",
       "      <th>4</th>\n",
       "      <td>홍수 집 물 채우다</td>\n",
       "      <td>홍수가 나서 집이 물에 잠기고 있어요.</td>\n",
       "      <td>[2, 5108, 6629, 4384, 2135, 4451, 7005, 5782, 3]</td>\n",
       "      <td>[2, 5108, 6630, 1381, 4384, 7096, 2135, 6896, ...</td>\n",
       "    </tr>\n",
       "    <tr>\n",
       "      <th>...</th>\n",
       "      <td>...</td>\n",
       "      <td>...</td>\n",
       "      <td>...</td>\n",
       "      <td>...</td>\n",
       "    </tr>\n",
       "    <tr>\n",
       "      <th>3035</th>\n",
       "      <td>도착 시간 저녁 9시 정도</td>\n",
       "      <td>도착시간은 오후 9시가 되겠습니다</td>\n",
       "      <td>[2, 1723, 2962, 3991, 627, 6705, 4099, 3]</td>\n",
       "      <td>[2, 1723, 6706, 7086, 3434, 627, 6705, 5330, 1...</td>\n",
       "    </tr>\n",
       "    <tr>\n",
       "      <th>3036</th>\n",
       "      <td>아이 지금 5 되다</td>\n",
       "      <td>아이가 다섯 살이 되었다</td>\n",
       "      <td>[2, 3121, 4299, 611, 1763, 5782, 3]</td>\n",
       "      <td>[2, 3121, 5330, 1571, 2643, 7096, 517, 5896, 3]</td>\n",
       "    </tr>\n",
       "    <tr>\n",
       "      <th>3037</th>\n",
       "      <td>잘 되다 부탁</td>\n",
       "      <td>잘 되길 바래</td>\n",
       "      <td>[2, 3942, 1763, 5782, 2458, 3]</td>\n",
       "      <td>[2, 3942, 1763, 5585, 2186, 6023, 3]</td>\n",
       "    </tr>\n",
       "    <tr>\n",
       "      <th>3038</th>\n",
       "      <td>미래 의사 원하다</td>\n",
       "      <td>커서 의사가 되고 싶다</td>\n",
       "      <td>[2, 2155, 3629, 3533, 7798, 3]</td>\n",
       "      <td>[2, 4652, 6553, 3629, 5330, 1764, 3072, 3]</td>\n",
       "    </tr>\n",
       "    <tr>\n",
       "      <th>3039</th>\n",
       "      <td>쉬다 날 때문에 공원 장소 사람 많다</td>\n",
       "      <td>휴일이 되어서인지 공원에 사람이 많다</td>\n",
       "      <td>[2, 2923, 5782, 1407, 1849, 517, 5463, 3962, 2...</td>\n",
       "      <td>[2, 5191, 7126, 7096, 1767, 6553, 7123, 1023, ...</td>\n",
       "    </tr>\n",
       "  </tbody>\n",
       "</table>\n",
       "<p>3040 rows × 4 columns</p>\n",
       "</div>"
      ],
      "text/plain": [
       "                      GKSL                    WKL  \\\n",
       "0                      집 불             집에 불이 났어요.   \n",
       "1                집 도둑 넘어오다          집에 도둑이 들어왔어요.   \n",
       "2                  누가 교통사고     어떤 사람이 교통사고를 당했어요.   \n",
       "3           먹다 중간 목 실수 삼키다   식사를 하다가 목에 음식이 걸렸어요.   \n",
       "4               홍수 집 물 채우다  홍수가 나서 집이 물에 잠기고 있어요.   \n",
       "...                    ...                    ...   \n",
       "3035        도착 시간 저녁 9시 정도     도착시간은 오후 9시가 되겠습니다   \n",
       "3036            아이 지금 5 되다          아이가 다섯 살이 되었다   \n",
       "3037               잘 되다 부탁                잘 되길 바래   \n",
       "3038             미래 의사 원하다           커서 의사가 되고 싶다   \n",
       "3039  쉬다 날 때문에 공원 장소 사람 많다   휴일이 되어서인지 공원에 사람이 많다   \n",
       "\n",
       "                                           GKSL_encoded  \\\n",
       "0                                    [2, 4384, 2485, 3]   \n",
       "1       [2, 4384, 517, 5859, 5908, 1465, 6964, 5782, 3]   \n",
       "2                                    [2, 1527, 1113, 3]   \n",
       "3     [2, 2010, 5782, 4258, 2068, 3042, 2650, 7573, ...   \n",
       "4      [2, 5108, 6629, 4384, 2135, 4451, 7005, 5782, 3]   \n",
       "...                                                 ...   \n",
       "3035          [2, 1723, 2962, 3991, 627, 6705, 4099, 3]   \n",
       "3036                [2, 3121, 4299, 611, 1763, 5782, 3]   \n",
       "3037                     [2, 3942, 1763, 5782, 2458, 3]   \n",
       "3038                     [2, 2155, 3629, 3533, 7798, 3]   \n",
       "3039  [2, 2923, 5782, 1407, 1849, 517, 5463, 3962, 2...   \n",
       "\n",
       "                                            WKL_encoded  \n",
       "0     [2, 4384, 6896, 2485, 7096, 517, 5671, 6857, 5...  \n",
       "1     [2, 4384, 6896, 517, 5859, 5908, 7096, 1804, 6...  \n",
       "2        [2, 3224, 2589, 1113, 6116, 1618, 7874, 54, 3]  \n",
       "3     [2, 3008, 6116, 4932, 5330, 2068, 6896, 3609, ...  \n",
       "4     [2, 5108, 6630, 1381, 4384, 7096, 2135, 6896, ...  \n",
       "...                                                 ...  \n",
       "3035  [2, 1723, 6706, 7086, 3434, 627, 6705, 5330, 1...  \n",
       "3036    [2, 3121, 5330, 1571, 2643, 7096, 517, 5896, 3]  \n",
       "3037               [2, 3942, 1763, 5585, 2186, 6023, 3]  \n",
       "3038         [2, 4652, 6553, 3629, 5330, 1764, 3072, 3]  \n",
       "3039  [2, 5191, 7126, 7096, 1767, 6553, 7123, 1023, ...  \n",
       "\n",
       "[3040 rows x 4 columns]"
      ]
     },
     "execution_count": 12,
     "metadata": {},
     "output_type": "execute_result"
    }
   ],
   "source": [
    "tokenizer = KoBERTTokenizer.from_pretrained('skt/kobert-base-v1')\n",
    "\n",
    "df = pd.read_csv('GKSL3k.csv')\n",
    "df['GKSL_encoded'] = df['GKSL'].apply(lambda x: tokenizer.encode(x, add_special_tokens=True))\n",
    "df['WKL_encoded'] = df['WKL'].apply(lambda x: tokenizer.encode(x, add_special_tokens=True))\n",
    "df"
   ]
  },
  {
   "cell_type": "code",
   "execution_count": 13,
   "metadata": {},
   "outputs": [],
   "source": [
    "df.to_csv('GKSL3k_final.csv', index=False)"
   ]
  },
  {
   "cell_type": "code",
   "execution_count": 14,
   "metadata": {},
   "outputs": [
    {
     "data": {
      "text/html": [
       "<div>\n",
       "<style scoped>\n",
       "    .dataframe tbody tr th:only-of-type {\n",
       "        vertical-align: middle;\n",
       "    }\n",
       "\n",
       "    .dataframe tbody tr th {\n",
       "        vertical-align: top;\n",
       "    }\n",
       "\n",
       "    .dataframe thead th {\n",
       "        text-align: right;\n",
       "    }\n",
       "</style>\n",
       "<table border=\"1\" class=\"dataframe\">\n",
       "  <thead>\n",
       "    <tr style=\"text-align: right;\">\n",
       "      <th></th>\n",
       "      <th>GKSL</th>\n",
       "      <th>WKL</th>\n",
       "    </tr>\n",
       "  </thead>\n",
       "  <tbody>\n",
       "    <tr>\n",
       "      <th>0</th>\n",
       "      <td>집 불</td>\n",
       "      <td>댁에 불이 났어요.</td>\n",
       "    </tr>\n",
       "    <tr>\n",
       "      <th>1</th>\n",
       "      <td>집 불</td>\n",
       "      <td>주택에 불이 났어요.</td>\n",
       "    </tr>\n",
       "    <tr>\n",
       "      <th>2</th>\n",
       "      <td>집 불</td>\n",
       "      <td>가옥에 불이 났어요.</td>\n",
       "    </tr>\n",
       "    <tr>\n",
       "      <th>3</th>\n",
       "      <td>집 불</td>\n",
       "      <td>세대에 불이 났어요.</td>\n",
       "    </tr>\n",
       "    <tr>\n",
       "      <th>4</th>\n",
       "      <td>도착 10분 전</td>\n",
       "      <td>10분 내로 당도합니다.</td>\n",
       "    </tr>\n",
       "    <tr>\n",
       "      <th>...</th>\n",
       "      <td>...</td>\n",
       "      <td>...</td>\n",
       "    </tr>\n",
       "    <tr>\n",
       "      <th>13042</th>\n",
       "      <td>배우다 곳 다니다</td>\n",
       "      <td>학원에 다니다</td>\n",
       "    </tr>\n",
       "    <tr>\n",
       "      <th>13043</th>\n",
       "      <td>캐리어 차 어디 곳 ?</td>\n",
       "      <td>캐리어 차를 재는 곳은 어디인가요?</td>\n",
       "    </tr>\n",
       "    <tr>\n",
       "      <th>13044</th>\n",
       "      <td>중 사이 곳 내리다 맞다</td>\n",
       "      <td>중간정류장에서 내려주세요.</td>\n",
       "    </tr>\n",
       "    <tr>\n",
       "      <th>13045</th>\n",
       "      <td>무덤 장소 곳 가다</td>\n",
       "      <td>묘지로 가주세요.</td>\n",
       "    </tr>\n",
       "    <tr>\n",
       "      <th>13046</th>\n",
       "      <td>안심 불량 사용 안되다</td>\n",
       "      <td>안심이 안되네요.</td>\n",
       "    </tr>\n",
       "  </tbody>\n",
       "</table>\n",
       "<p>12529 rows × 2 columns</p>\n",
       "</div>"
      ],
      "text/plain": [
       "                GKSL                  WKL\n",
       "0                집 불           댁에 불이 났어요.\n",
       "1                집 불          주택에 불이 났어요.\n",
       "2                집 불          가옥에 불이 났어요.\n",
       "3                집 불          세대에 불이 났어요.\n",
       "4           도착 10분 전        10분 내로 당도합니다.\n",
       "...              ...                  ...\n",
       "13042      배우다 곳 다니다              학원에 다니다\n",
       "13043   캐리어 차 어디 곳 ?  캐리어 차를 재는 곳은 어디인가요?\n",
       "13044  중 사이 곳 내리다 맞다       중간정류장에서 내려주세요.\n",
       "13045     무덤 장소 곳 가다            묘지로 가주세요.\n",
       "13046   안심 불량 사용 안되다            안심이 안되네요.\n",
       "\n",
       "[12529 rows x 2 columns]"
      ]
     },
     "execution_count": 14,
     "metadata": {},
     "output_type": "execute_result"
    }
   ],
   "source": [
    "df = pd.read_csv('GKSL13k_edited.csv')\n",
    "df = df.drop_duplicates()\n",
    "df.drop(['idx'], axis=1, inplace=True)\n",
    "df.drop(['augmentation_method'], axis=1, inplace=True)\n",
    "df.rename(columns={'Gloss level Korean Sign Language (GKSL) sentence': 'GKSL'}, inplace=True)\n",
    "df.rename(columns={'Word level Korean Language (WKL) sentence': 'WKL'}, inplace=True)\n",
    "\n",
    "df = df[df['GKSL'].str.contains('동작') == False]\n",
    "df = df[df['GKSL'].str.contains('대학교') == False]\n",
    "df = df[df['WKL'].str.contains('대학교') == False]\n",
    "df['GKSL'] = df['GKSL'].str.replace('  ', ' ')\n",
    "df['GKSL'] = df['GKSL'].str.replace('뼈곳', '곳')\n",
    "df['GKSL'] = df['GKSL'].str.replace('와이파이1', '와이파이')\n",
    "df['GKSL'] = df['GKSL'].str.replace('와이파이2', '와이파이')\n",
    "df['GKSL'] = df['GKSL'].str.replace('바꾸다1', '바꾸다')\n",
    "df['GKSL'] = df['GKSL'].str.replace('바꾸다2', '바꾸다')\n",
    "df['GKSL'] = df['GKSL'].str.replace('T 동아리', '팀')\n",
    "df['GKSL'] = df['GKSL'].str.replace('T 승용차', '택시')\n",
    "df['GKSL'] = df['GKSL'].str.replace('ㅈ 오늘', '지금')\n",
    "df['GKSL'] = df['GKSL'].str.replace('ㅈ 세계', '지구')\n",
    "df['GKSL'] = df['GKSL'].str.replace('ㅈ 두다', '주차')\n",
    "df['GKSL'] = df['GKSL'].str.replace('광 주', '광주')\n",
    "df['GKSL'] = df['GKSL'].str.replace('?', '')\n",
    "df['GKSL'] = df.apply(lambda row: row['GKSL'] + ' ?' if '?' in row['WKL'] else row['GKSL'], axis=1)\n",
    "df['GKSL'] = df['GKSL'].str.strip()\n",
    "df['WKL'] = df['WKL'].str.replace('tax refund ', '')\n",
    "df['WKL'] = df['WKL'].str.replace('  ', ' ')\n",
    "df['WKL'] = df['WKL'].str.strip()\n",
    "df"
   ]
  },
  {
   "cell_type": "code",
   "execution_count": 15,
   "metadata": {},
   "outputs": [],
   "source": [
    "df['GKSL_encoded'] = df['GKSL'].apply(lambda x: tokenizer.encode(x, add_special_tokens=True))\n",
    "df['WKL_encoded'] = df['WKL'].apply(lambda x: tokenizer.encode(x, add_special_tokens=True))\n",
    "df.to_csv('GKSL13k_final.csv', index=False)"
   ]
  },
  {
   "cell_type": "code",
   "execution_count": 23,
   "metadata": {},
   "outputs": [
    {
     "data": {
      "text/html": [
       "<div>\n",
       "<style scoped>\n",
       "    .dataframe tbody tr th:only-of-type {\n",
       "        vertical-align: middle;\n",
       "    }\n",
       "\n",
       "    .dataframe tbody tr th {\n",
       "        vertical-align: top;\n",
       "    }\n",
       "\n",
       "    .dataframe thead th {\n",
       "        text-align: right;\n",
       "    }\n",
       "</style>\n",
       "<table border=\"1\" class=\"dataframe\">\n",
       "  <thead>\n",
       "    <tr style=\"text-align: right;\">\n",
       "      <th></th>\n",
       "      <th>GKSL</th>\n",
       "      <th>WKL</th>\n",
       "    </tr>\n",
       "  </thead>\n",
       "  <tbody>\n",
       "    <tr>\n",
       "      <th>1565</th>\n",
       "      <td>쉽다</td>\n",
       "      <td>쉬운</td>\n",
       "    </tr>\n",
       "    <tr>\n",
       "      <th>2186</th>\n",
       "      <td>춥다</td>\n",
       "      <td>추운</td>\n",
       "    </tr>\n",
       "  </tbody>\n",
       "</table>\n",
       "</div>"
      ],
      "text/plain": [
       "     GKSL WKL\n",
       "1565   쉽다  쉬운\n",
       "2186   춥다  추운"
      ]
     },
     "execution_count": 23,
     "metadata": {},
     "output_type": "execute_result"
    }
   ],
   "source": [
    "df = pd.read_csv('GKSL13k(edited).csv')\n",
    "df = df.drop_duplicates()\n",
    "df.drop(['idx'], axis=1, inplace=True)\n",
    "df.drop(['augmentation_method'], axis=1, inplace=True)\n",
    "df.rename(columns={'Gloss level Korean Sign Language (GKSL) sentence': 'GKSL'}, inplace=True)\n",
    "df.rename(columns={'Word level Korean Language (WKL) sentence': 'WKL'}, inplace=True)\n",
    "filtered_df = df[df['WKL'].str.endswith('운')]\n",
    "filtered_df"
   ]
  },
  {
   "cell_type": "code",
   "execution_count": 7,
   "metadata": {
    "ExecuteTime": {
     "end_time": "2023-10-03T14:13:56.770906144Z",
     "start_time": "2023-10-03T14:13:56.302787213Z"
    }
   },
   "outputs": [],
   "source": [
    "import pandas as pd\n",
    "\n",
    "def append_ending(row):\n",
    "    if row['gloss'][-1] not in '.?!':\n",
    "        row['gloss'] += ' ' + row['spoken'][-1]\n",
    "    return row\n",
    "\n",
    "def label_based_on_ending(spoken):\n",
    "    if spoken[-1] == '.':\n",
    "        return 0\n",
    "    elif spoken[-1] == '?':\n",
    "        return 1\n",
    "    elif spoken[-1] == '!':\n",
    "        return 2\n",
    "    else:\n",
    "        return None\n",
    "\n",
    "df = pd.read_csv('GKSL13k(final).csv')\n",
    "df['spoken'] = df['spoken'].apply(lambda x: x if x[-1] in '.?!' else x + '.')\n",
    "df = df.apply(append_ending, axis=1)\n",
    "df['label'] = df['spoken'].apply(label_based_on_ending)\n",
    "df.to_csv('GKSL13k(final)_.csv', index=False)"
   ]
  },
  {
   "cell_type": "code",
   "execution_count": 11,
   "outputs": [
    {
     "name": "stdout",
     "output_type": "stream",
     "text": [
      "나는 어린 아이들에게 도덕적 가치를 가르치는 프로그램을 개발했다. 36\n",
      "나는 산에서 야생 동물을 만났습니다. 그들이 나를 공격할 것이라고 생각합니다. 43\n",
      "여기 서대문구 홍제동 한양아파트인데 옥상에서 사람이 떨어지려고해요. 37\n"
     ]
    }
   ],
   "source": [
    "df = pd.read_csv('../MY_DATA/mydata(edited).csv')\n",
    "longest_string_row = df['spoken'].str.len().idxmax()\n",
    "longest_string = df.loc[longest_string_row, 'spoken']\n",
    "print(longest_string, len(longest_string))\n",
    "\n",
    "df = pd.read_csv('GKSL13k(final)_.csv')\n",
    "longest_string_row = df['spoken'].str.len().idxmax()\n",
    "longest_string = df.loc[longest_string_row, 'spoken']\n",
    "print(longest_string, len(longest_string))\n",
    "\n",
    "df = pd.read_csv('GKSL3k(final)_.csv')\n",
    "longest_string_row = df['spoken'].str.len().idxmax()\n",
    "longest_string = df.loc[longest_string_row, 'spoken']\n",
    "print(longest_string, len(longest_string))"
   ],
   "metadata": {
    "collapsed": false,
    "ExecuteTime": {
     "end_time": "2023-10-03T15:08:05.371763540Z",
     "start_time": "2023-10-03T15:08:05.337556931Z"
    }
   }
  },
  {
   "cell_type": "code",
   "execution_count": 2,
   "outputs": [],
   "source": [
    "import pandas as pd\n",
    "\n",
    "df = pd.read_csv('GKSL3k(final)_.csv')\n",
    "df = df.sample(frac=1).reset_index(drop=True)\n",
    "df.to_csv('GKSL3k(final)_mix.csv', index=False)"
   ],
   "metadata": {
    "collapsed": false,
    "ExecuteTime": {
     "end_time": "2023-10-10T05:09:13.636079399Z",
     "start_time": "2023-10-10T05:09:13.422734305Z"
    }
   }
  },
  {
   "cell_type": "code",
   "execution_count": 17,
   "outputs": [
    {
     "data": {
      "text/plain": "               gloss               spoken                       combined\n0                집 불           댁에 불이 났어요.                  집 불댁에 불이 났어요.\n1                집 불          주택에 불이 났어요.                 집 불주택에 불이 났어요.\n2                집 불          가옥에 불이 났어요.                 집 불가옥에 불이 났어요.\n3                집 불          세대에 불이 났어요.                 집 불세대에 불이 났어요.\n4           도착 10분 전        10분 내로 당도합니다.          도착 10분 전10분 내로 당도합니다.\n...              ...                  ...                            ...\n13042      배우다 곳 다니다              학원에 다니다               배우다 곳 다니다학원에 다니다\n13043     캐리어 차 어디 곳  캐리어 차를 재는 곳은 어디인가요?  캐리어 차 어디 곳캐리어 차를 재는 곳은 어디인가요?\n13044  중 사이 곳 내리다 맞다       중간정류장에서 내려주세요.    중 사이 곳 내리다 맞다중간정류장에서 내려주세요.\n13045     무덤 장소 곳 가다            묘지로 가주세요.            무덤 장소 곳 가다묘지로 가주세요.\n13046   안심 불량 사용 안되다            안심이 안되네요.          안심 불량 사용 안되다안심이 안되네요.\n\n[9279 rows x 3 columns]",
      "text/html": "<div>\n<style scoped>\n    .dataframe tbody tr th:only-of-type {\n        vertical-align: middle;\n    }\n\n    .dataframe tbody tr th {\n        vertical-align: top;\n    }\n\n    .dataframe thead th {\n        text-align: right;\n    }\n</style>\n<table border=\"1\" class=\"dataframe\">\n  <thead>\n    <tr style=\"text-align: right;\">\n      <th></th>\n      <th>gloss</th>\n      <th>spoken</th>\n      <th>combined</th>\n    </tr>\n  </thead>\n  <tbody>\n    <tr>\n      <th>0</th>\n      <td>집 불</td>\n      <td>댁에 불이 났어요.</td>\n      <td>집 불댁에 불이 났어요.</td>\n    </tr>\n    <tr>\n      <th>1</th>\n      <td>집 불</td>\n      <td>주택에 불이 났어요.</td>\n      <td>집 불주택에 불이 났어요.</td>\n    </tr>\n    <tr>\n      <th>2</th>\n      <td>집 불</td>\n      <td>가옥에 불이 났어요.</td>\n      <td>집 불가옥에 불이 났어요.</td>\n    </tr>\n    <tr>\n      <th>3</th>\n      <td>집 불</td>\n      <td>세대에 불이 났어요.</td>\n      <td>집 불세대에 불이 났어요.</td>\n    </tr>\n    <tr>\n      <th>4</th>\n      <td>도착 10분 전</td>\n      <td>10분 내로 당도합니다.</td>\n      <td>도착 10분 전10분 내로 당도합니다.</td>\n    </tr>\n    <tr>\n      <th>...</th>\n      <td>...</td>\n      <td>...</td>\n      <td>...</td>\n    </tr>\n    <tr>\n      <th>13042</th>\n      <td>배우다 곳 다니다</td>\n      <td>학원에 다니다</td>\n      <td>배우다 곳 다니다학원에 다니다</td>\n    </tr>\n    <tr>\n      <th>13043</th>\n      <td>캐리어 차 어디 곳</td>\n      <td>캐리어 차를 재는 곳은 어디인가요?</td>\n      <td>캐리어 차 어디 곳캐리어 차를 재는 곳은 어디인가요?</td>\n    </tr>\n    <tr>\n      <th>13044</th>\n      <td>중 사이 곳 내리다 맞다</td>\n      <td>중간정류장에서 내려주세요.</td>\n      <td>중 사이 곳 내리다 맞다중간정류장에서 내려주세요.</td>\n    </tr>\n    <tr>\n      <th>13045</th>\n      <td>무덤 장소 곳 가다</td>\n      <td>묘지로 가주세요.</td>\n      <td>무덤 장소 곳 가다묘지로 가주세요.</td>\n    </tr>\n    <tr>\n      <th>13046</th>\n      <td>안심 불량 사용 안되다</td>\n      <td>안심이 안되네요.</td>\n      <td>안심 불량 사용 안되다안심이 안되네요.</td>\n    </tr>\n  </tbody>\n</table>\n<p>9279 rows × 3 columns</p>\n</div>"
     },
     "execution_count": 17,
     "metadata": {},
     "output_type": "execute_result"
    }
   ],
   "source": [
    "import pandas as pd\n",
    "\n",
    "df = pd.read_csv('GKSL13k.csv')\n",
    "df.drop(['augmentation_method'], axis=1, inplace=True)\n",
    "df.drop(['idx'], axis=1, inplace=True)\n",
    "df.rename(columns={'Gloss level Korean Sign Language (GKSL) sentence': 'gloss'}, inplace=True)\n",
    "df.rename(columns={'Word level Korean Language (WKL) sentence': 'spoken'}, inplace=True)\n",
    "df['gloss'] = df['gloss'].str.replace('  ', ' ')\n",
    "df['combined'] = df['gloss'] + df['spoken']\n",
    "df = df[df['combined'].str.len() < 32]\n",
    "df.to_csv('GKSL13k_train.csv')\n",
    "df"
   ],
   "metadata": {
    "collapsed": false,
    "ExecuteTime": {
     "end_time": "2023-10-25T14:40:50.473909373Z",
     "start_time": "2023-10-25T14:40:50.416729838Z"
    }
   }
  },
  {
   "cell_type": "code",
   "execution_count": 18,
   "outputs": [
    {
     "data": {
      "text/plain": "           gloss                 spoken                         combined\n0            집 불             집에 불이 났어요.                    집 불집에 불이 났어요.\n1      집 도둑 넘어오다          집에 도둑이 들어왔어요.           집 도둑 넘어오다집에 도둑이 들어왔어요.\n2        누가 교통사고     어떤 사람이 교통사고를 당했어요.        누가 교통사고어떤 사람이 교통사고를 당했어요.\n4     홍수 집 물 채우다  홍수가 나서 집이 물에 잠기고 있어요.  홍수 집 물 채우다홍수가 나서 집이 물에 잠기고 있어요.\n6        누가 자살 중   어떤 사람이 자살을 시도하고 있어요.      누가 자살 중어떤 사람이 자살을 시도하고 있어요.\n...          ...                    ...                              ...\n3033   친하다 애인 가능     친한 친구는 애인이 될 수도 있다      친하다 애인 가능친한 친구는 애인이 될 수도 있다\n3034          되다                     되다                             되다되다\n3036  아이 지금 5 되다          아이가 다섯 살이 되었다          아이 지금 5 되다아이가 다섯 살이 되었다\n3037     잘 되다 부탁                잘 되길 바래                   잘 되다 부탁잘 되길 바래\n3038   미래 의사 원하다           커서 의사가 되고 싶다            미래 의사 원하다커서 의사가 되고 싶다\n\n[2467 rows x 3 columns]",
      "text/html": "<div>\n<style scoped>\n    .dataframe tbody tr th:only-of-type {\n        vertical-align: middle;\n    }\n\n    .dataframe tbody tr th {\n        vertical-align: top;\n    }\n\n    .dataframe thead th {\n        text-align: right;\n    }\n</style>\n<table border=\"1\" class=\"dataframe\">\n  <thead>\n    <tr style=\"text-align: right;\">\n      <th></th>\n      <th>gloss</th>\n      <th>spoken</th>\n      <th>combined</th>\n    </tr>\n  </thead>\n  <tbody>\n    <tr>\n      <th>0</th>\n      <td>집 불</td>\n      <td>집에 불이 났어요.</td>\n      <td>집 불집에 불이 났어요.</td>\n    </tr>\n    <tr>\n      <th>1</th>\n      <td>집 도둑 넘어오다</td>\n      <td>집에 도둑이 들어왔어요.</td>\n      <td>집 도둑 넘어오다집에 도둑이 들어왔어요.</td>\n    </tr>\n    <tr>\n      <th>2</th>\n      <td>누가 교통사고</td>\n      <td>어떤 사람이 교통사고를 당했어요.</td>\n      <td>누가 교통사고어떤 사람이 교통사고를 당했어요.</td>\n    </tr>\n    <tr>\n      <th>4</th>\n      <td>홍수 집 물 채우다</td>\n      <td>홍수가 나서 집이 물에 잠기고 있어요.</td>\n      <td>홍수 집 물 채우다홍수가 나서 집이 물에 잠기고 있어요.</td>\n    </tr>\n    <tr>\n      <th>6</th>\n      <td>누가 자살 중</td>\n      <td>어떤 사람이 자살을 시도하고 있어요.</td>\n      <td>누가 자살 중어떤 사람이 자살을 시도하고 있어요.</td>\n    </tr>\n    <tr>\n      <th>...</th>\n      <td>...</td>\n      <td>...</td>\n      <td>...</td>\n    </tr>\n    <tr>\n      <th>3033</th>\n      <td>친하다 애인 가능</td>\n      <td>친한 친구는 애인이 될 수도 있다</td>\n      <td>친하다 애인 가능친한 친구는 애인이 될 수도 있다</td>\n    </tr>\n    <tr>\n      <th>3034</th>\n      <td>되다</td>\n      <td>되다</td>\n      <td>되다되다</td>\n    </tr>\n    <tr>\n      <th>3036</th>\n      <td>아이 지금 5 되다</td>\n      <td>아이가 다섯 살이 되었다</td>\n      <td>아이 지금 5 되다아이가 다섯 살이 되었다</td>\n    </tr>\n    <tr>\n      <th>3037</th>\n      <td>잘 되다 부탁</td>\n      <td>잘 되길 바래</td>\n      <td>잘 되다 부탁잘 되길 바래</td>\n    </tr>\n    <tr>\n      <th>3038</th>\n      <td>미래 의사 원하다</td>\n      <td>커서 의사가 되고 싶다</td>\n      <td>미래 의사 원하다커서 의사가 되고 싶다</td>\n    </tr>\n  </tbody>\n</table>\n<p>2467 rows × 3 columns</p>\n</div>"
     },
     "execution_count": 18,
     "metadata": {},
     "output_type": "execute_result"
    }
   ],
   "source": [
    "import pandas as pd\n",
    "\n",
    "df = pd.read_csv('GKSL3k(final).csv')\n",
    "df['gloss'] = df['gloss'].str.replace('  ', ' ')\n",
    "df['combined'] = df['gloss'] + df['spoken']\n",
    "df = df[df['combined'].str.len() < 32]\n",
    "df.to_csv('GKSL3k_train.csv')\n",
    "df"
   ],
   "metadata": {
    "collapsed": false,
    "ExecuteTime": {
     "end_time": "2023-10-26T04:11:50.656698791Z",
     "start_time": "2023-10-26T04:11:50.612897732Z"
    }
   }
  },
  {
   "cell_type": "code",
   "execution_count": 8,
   "outputs": [],
   "source": [
    "import pandas as pd\n",
    "\n",
    "df = pd.read_csv('../MY_DATA/shots/gloss2text/0-shot.csv')\n",
    "df = df.sample(frac=1).reset_index(drop=True)\n",
    "train_df = df[:int(len(df) * 0.8)]\n",
    "test_df = df[int(len(df) * 0.8):]\n",
    "train_df.to_csv('../MY_DATA/split_train.csv', index=False)\n",
    "test_df.to_csv('../MY_DATA/split_test.csv', index=False)"
   ],
   "metadata": {
    "collapsed": false,
    "ExecuteTime": {
     "end_time": "2023-11-01T03:48:37.666806576Z",
     "start_time": "2023-11-01T03:48:37.648635869Z"
    }
   }
  },
  {
   "cell_type": "code",
   "execution_count": 4,
   "outputs": [],
   "source": [
    "gksl3k = 'GKSL3k.csv'\n",
    "gksl13k = 'GKSL13k.csv'\n",
    "df1 = pd.read_csv(gksl3k)\n",
    "df2 = pd.read_csv(gksl13k)\n",
    "gloss_combined = pd.concat([df1['gloss'], df2['gloss']], ignore_index=True)\n",
    "spoken_combined = pd.concat([df1['spoken'], df2['spoken']], ignore_index=True)\n",
    "\n",
    "df = pd.DataFrame({\n",
    "    'gloss': gloss_combined,\n",
    "    'spoken': spoken_combined\n",
    "})\n",
    "\n",
    "df = df.sample(frac=1).reset_index(drop=True)\n",
    "train_df = df[:int(len(df) * 0.8)]\n",
    "test_df = df[int(len(df) * 0.8):]\n",
    "train_df.to_csv('GKSL_split_train.csv', index=False)\n",
    "test_df.to_csv('GKSL_split_test.csv', index=False)"
   ],
   "metadata": {
    "collapsed": false,
    "ExecuteTime": {
     "end_time": "2023-11-01T01:57:36.175277892Z",
     "start_time": "2023-11-01T01:57:36.133869901Z"
    }
   }
  },
  {
   "cell_type": "code",
   "execution_count": null,
   "outputs": [],
   "source": [],
   "metadata": {
    "collapsed": false
   }
  }
 ],
 "metadata": {
  "kernelspec": {
   "display_name": "kobert",
   "language": "python",
   "name": "python3"
  },
  "language_info": {
   "codemirror_mode": {
    "name": "ipython",
    "version": 3
   },
   "file_extension": ".py",
   "mimetype": "text/x-python",
   "name": "python",
   "nbconvert_exporter": "python",
   "pygments_lexer": "ipython3",
   "version": "3.9.16"
  },
  "orig_nbformat": 4
 },
 "nbformat": 4,
 "nbformat_minor": 2
}
