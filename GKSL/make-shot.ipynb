{
 "cells": [
  {
   "cell_type": "code",
   "execution_count": 10,
   "id": "initial_id",
   "metadata": {
    "collapsed": true,
    "ExecuteTime": {
     "end_time": "2023-10-26T11:52:52.620327683Z",
     "start_time": "2023-10-26T11:52:52.573217546Z"
    }
   },
   "outputs": [],
   "source": [
    "import pandas as pd\n",
    "\n",
    "# df = pd.read_csv('../mydata(edited).csv')\n",
    "# df['gloss'] = df['gloss'].str.strip()\n",
    "# df['spoken'] = df['spoken'].str.strip()\n",
    "# df.drop(columns='label', inplace=True)\n",
    "# df['gloss'] = df['gloss'].str.replace('가능', ' 가능')\n",
    "# df['gloss'] = df['gloss'].str.replace('  ', ' ')\n",
    "# df = df.sample(frac=1).reset_index(drop=True)\n",
    "# df.to_csv('gloss2text/0-shot.csv', index=False)"
   ]
  },
  {
   "cell_type": "code",
   "execution_count": 11,
   "outputs": [
    {
     "data": {
      "text/plain": "                                                gloss            spoken\n0     병원 다음 내리다 ? > 병원 지나서 내려드릴까요?\\n에어컨 불량 잘 안되다 ? >         에어컨이 안되나요?\n1              버스 곳 맞다 > 버스정류장에서 내려주세요.\\n마포대교 가다 ? >     마포대교로 건너가드릴까요?\n2       단말기터치 고장 잘 안되다 > 카드 인식이 안되네요.\\n지하철 빨리 오다오다 >   이번 열차는 급행 열차입니다.\n3                사람 계산 틀리다 ? > 인원 수가 맞지 않나요?\\n안전벨트 >        안전벨트를 매주세요.\n4               대로 다음 차내리다 > 큰 길 지나서 내려주세요.\\n기분 좋다 >           아 기분이 좋다\n...                                               ...               ...\n1228                  손 작다 > 손이 작다\\n은행 저기 곳 다음 내리다 >      은행 지나서 내려주세요.\n1229      또 궁금하다 있다 물어보다 > 더 궁금한게 있으면 물어보세요\\n학교 저기 >        학교로 들어가주세요.\n1230                  건너다 내리다 > 건너편에서 내려주세요.\\n궁금하다 >               궁금하다\n1231                       아니다 > 아니요.\\n집 버스 거리 1시간 >   집까지 버스를 타면 1시간이다\n1232              나 너 너무 좋다 > 난 네가 너무 좋아\\n부서 만들다 끝 >          동아리를 만들었어\n\n[1233 rows x 2 columns]",
      "text/html": "<div>\n<style scoped>\n    .dataframe tbody tr th:only-of-type {\n        vertical-align: middle;\n    }\n\n    .dataframe tbody tr th {\n        vertical-align: top;\n    }\n\n    .dataframe thead th {\n        text-align: right;\n    }\n</style>\n<table border=\"1\" class=\"dataframe\">\n  <thead>\n    <tr style=\"text-align: right;\">\n      <th></th>\n      <th>gloss</th>\n      <th>spoken</th>\n    </tr>\n  </thead>\n  <tbody>\n    <tr>\n      <th>0</th>\n      <td>병원 다음 내리다 ? &gt; 병원 지나서 내려드릴까요?\\n에어컨 불량 잘 안되다 ? &gt;</td>\n      <td>에어컨이 안되나요?</td>\n    </tr>\n    <tr>\n      <th>1</th>\n      <td>버스 곳 맞다 &gt; 버스정류장에서 내려주세요.\\n마포대교 가다 ? &gt;</td>\n      <td>마포대교로 건너가드릴까요?</td>\n    </tr>\n    <tr>\n      <th>2</th>\n      <td>단말기터치 고장 잘 안되다 &gt; 카드 인식이 안되네요.\\n지하철 빨리 오다오다 &gt;</td>\n      <td>이번 열차는 급행 열차입니다.</td>\n    </tr>\n    <tr>\n      <th>3</th>\n      <td>사람 계산 틀리다 ? &gt; 인원 수가 맞지 않나요?\\n안전벨트 &gt;</td>\n      <td>안전벨트를 매주세요.</td>\n    </tr>\n    <tr>\n      <th>4</th>\n      <td>대로 다음 차내리다 &gt; 큰 길 지나서 내려주세요.\\n기분 좋다 &gt;</td>\n      <td>아 기분이 좋다</td>\n    </tr>\n    <tr>\n      <th>...</th>\n      <td>...</td>\n      <td>...</td>\n    </tr>\n    <tr>\n      <th>1228</th>\n      <td>손 작다 &gt; 손이 작다\\n은행 저기 곳 다음 내리다 &gt;</td>\n      <td>은행 지나서 내려주세요.</td>\n    </tr>\n    <tr>\n      <th>1229</th>\n      <td>또 궁금하다 있다 물어보다 &gt; 더 궁금한게 있으면 물어보세요\\n학교 저기 &gt;</td>\n      <td>학교로 들어가주세요.</td>\n    </tr>\n    <tr>\n      <th>1230</th>\n      <td>건너다 내리다 &gt; 건너편에서 내려주세요.\\n궁금하다 &gt;</td>\n      <td>궁금하다</td>\n    </tr>\n    <tr>\n      <th>1231</th>\n      <td>아니다 &gt; 아니요.\\n집 버스 거리 1시간 &gt;</td>\n      <td>집까지 버스를 타면 1시간이다</td>\n    </tr>\n    <tr>\n      <th>1232</th>\n      <td>나 너 너무 좋다 &gt; 난 네가 너무 좋아\\n부서 만들다 끝 &gt;</td>\n      <td>동아리를 만들었어</td>\n    </tr>\n  </tbody>\n</table>\n<p>1233 rows × 2 columns</p>\n</div>"
     },
     "execution_count": 11,
     "metadata": {},
     "output_type": "execute_result"
    }
   ],
   "source": [
    "df = pd.read_csv('GKSL3k_train.csv')\n",
    "df = df.sample(frac=1).reset_index(drop=True)\n",
    "\n",
    "df_1 = pd.DataFrame(columns=['gloss', 'spoken'])\n",
    "for idx in range(0, len(df.index)-1, 2):\n",
    "    new_row = pd.DataFrame([[f\"{df.loc[idx, 'gloss']} > {df.loc[idx, 'spoken']}\"\n",
    "                             f\"\\n{df.loc[idx+1, 'gloss']} > \", df.loc[idx+1, 'spoken']]], columns=['gloss', 'spoken'])\n",
    "    df_1 = pd.concat([df_1, new_row], ignore_index=True)\n",
    "df_1.to_csv('GKSL3k_train-1.csv', index=False)\n",
    "df_1"
   ],
   "metadata": {
    "collapsed": false,
    "ExecuteTime": {
     "end_time": "2023-10-26T11:52:53.088162799Z",
     "start_time": "2023-10-26T11:52:52.781142971Z"
    }
   },
   "id": "319734efabcfe765"
  },
  {
   "cell_type": "code",
   "execution_count": 12,
   "outputs": [
    {
     "data": {
      "text/plain": "                                                 gloss           spoken\n0    에어컨 사용 불가능 안되다 > 에어컨이 안되네요.\\n지하철 가다 빨리 방법 ? > ...  탑승수속은 어디에서 하나요?\n1    느리다 > 느리다\\n아이 사라지다 실종 ? > 아이를 잃어버리셨나요?\\n살다 어디 ...          어디서 살아?\n2       가르치다 > 가르치다\\n지갑 잃어버리다 없다 > 지갑을 잃어버렸습니다.\\n원래 >         원래 그렇습니다.\n3    항공 잠 곳 ? > 공항 내 수면실이 어디에 있나요?\\n닭 먹다 원하다 > 치킨 먹...       지금 내려드릴까요?\n4    도착 곳 알려주다 ? > 목적지를 알려드릴까요?\\n이름 무엇 ? > 이름이 어떻게 ...   버스정류장에서 내려주세요.\n..                                                 ...              ...\n817  춥다 끄다 ? > 에어컨을 꺼드릴까요?\\n서울농아인협회 차내리다 > 서울농아인협회로...     계단은 어디에 있나요?\n818  청음회관 차내리다 오케이 ? > 청음회관에서 내려드릴까요?\\n장소 기다리다 > 여기...  신호등 지나서 내려드릴까요?\n819  알다 ? > 아시겠죠?\\n물품보관 잘 안되다 죽다 ? > 물품보관함이 안되나요?\\n...        지름길로 갈까요?\n820  경찰 부르다 ? > 경찰을 불러드릴까요?\\n한국농아인협회 차내리다 ? > 한국농아인...   소방서 지나서 내려주세요.\n821  역무원 부르다 ? > 역무원을 불러드릴까요?\\n아이 혼자 방황 > 아이가 혼자 방황...  사거리 지나서 내려드릴까요?\n\n[822 rows x 2 columns]",
      "text/html": "<div>\n<style scoped>\n    .dataframe tbody tr th:only-of-type {\n        vertical-align: middle;\n    }\n\n    .dataframe tbody tr th {\n        vertical-align: top;\n    }\n\n    .dataframe thead th {\n        text-align: right;\n    }\n</style>\n<table border=\"1\" class=\"dataframe\">\n  <thead>\n    <tr style=\"text-align: right;\">\n      <th></th>\n      <th>gloss</th>\n      <th>spoken</th>\n    </tr>\n  </thead>\n  <tbody>\n    <tr>\n      <th>0</th>\n      <td>에어컨 사용 불가능 안되다 &gt; 에어컨이 안되네요.\\n지하철 가다 빨리 방법 ? &gt; ...</td>\n      <td>탑승수속은 어디에서 하나요?</td>\n    </tr>\n    <tr>\n      <th>1</th>\n      <td>느리다 &gt; 느리다\\n아이 사라지다 실종 ? &gt; 아이를 잃어버리셨나요?\\n살다 어디 ...</td>\n      <td>어디서 살아?</td>\n    </tr>\n    <tr>\n      <th>2</th>\n      <td>가르치다 &gt; 가르치다\\n지갑 잃어버리다 없다 &gt; 지갑을 잃어버렸습니다.\\n원래 &gt;</td>\n      <td>원래 그렇습니다.</td>\n    </tr>\n    <tr>\n      <th>3</th>\n      <td>항공 잠 곳 ? &gt; 공항 내 수면실이 어디에 있나요?\\n닭 먹다 원하다 &gt; 치킨 먹...</td>\n      <td>지금 내려드릴까요?</td>\n    </tr>\n    <tr>\n      <th>4</th>\n      <td>도착 곳 알려주다 ? &gt; 목적지를 알려드릴까요?\\n이름 무엇 ? &gt; 이름이 어떻게 ...</td>\n      <td>버스정류장에서 내려주세요.</td>\n    </tr>\n    <tr>\n      <th>...</th>\n      <td>...</td>\n      <td>...</td>\n    </tr>\n    <tr>\n      <th>817</th>\n      <td>춥다 끄다 ? &gt; 에어컨을 꺼드릴까요?\\n서울농아인협회 차내리다 &gt; 서울농아인협회로...</td>\n      <td>계단은 어디에 있나요?</td>\n    </tr>\n    <tr>\n      <th>818</th>\n      <td>청음회관 차내리다 오케이 ? &gt; 청음회관에서 내려드릴까요?\\n장소 기다리다 &gt; 여기...</td>\n      <td>신호등 지나서 내려드릴까요?</td>\n    </tr>\n    <tr>\n      <th>819</th>\n      <td>알다 ? &gt; 아시겠죠?\\n물품보관 잘 안되다 죽다 ? &gt; 물품보관함이 안되나요?\\n...</td>\n      <td>지름길로 갈까요?</td>\n    </tr>\n    <tr>\n      <th>820</th>\n      <td>경찰 부르다 ? &gt; 경찰을 불러드릴까요?\\n한국농아인협회 차내리다 ? &gt; 한국농아인...</td>\n      <td>소방서 지나서 내려주세요.</td>\n    </tr>\n    <tr>\n      <th>821</th>\n      <td>역무원 부르다 ? &gt; 역무원을 불러드릴까요?\\n아이 혼자 방황 &gt; 아이가 혼자 방황...</td>\n      <td>사거리 지나서 내려드릴까요?</td>\n    </tr>\n  </tbody>\n</table>\n<p>822 rows × 2 columns</p>\n</div>"
     },
     "execution_count": 12,
     "metadata": {},
     "output_type": "execute_result"
    }
   ],
   "source": [
    "df_2 = pd.DataFrame(columns=['gloss', 'spoken'])\n",
    "df = df.sample(frac=1).reset_index(drop=True)\n",
    "\n",
    "for idx in range(0, len(df.index)-1, 3):\n",
    "    new_row = pd.DataFrame([[f\"{df.loc[idx, 'gloss']} > {df.loc[idx, 'spoken']}\"\n",
    "                             f\"\\n{df.loc[idx+1, 'gloss']} > {df.loc[idx+1, 'spoken']}\"\n",
    "                             f\"\\n{df.loc[idx+2, 'gloss']} > \", df.loc[idx+2, 'spoken']]], columns=['gloss', 'spoken'])\n",
    "    df_2 = pd.concat([df_2, new_row], ignore_index=True)\n",
    "df_2.to_csv('GKSL3k_train-2.csv', index=False)\n",
    "df_2"
   ],
   "metadata": {
    "collapsed": false,
    "ExecuteTime": {
     "end_time": "2023-10-26T11:52:53.287692698Z",
     "start_time": "2023-10-26T11:52:53.086578613Z"
    }
   },
   "id": "a9b76d9386e524b8"
  },
  {
   "cell_type": "code",
   "execution_count": 13,
   "outputs": [
    {
     "data": {
      "text/plain": "                                                 gloss              spoken\n0    어떻게 ? > 어떻게 하나요?\\n비자 책 없다 방법 ? > 여권이 없습니다. 어떻게...              현금입니다.\n1    공항 내리다 가다 ? > 김포공항으로 갈까요?\\n4사람 > 모두 4명입니다.\\n약 ...            차가 막힙니다.\n2    대로 다음 도착 차내리다 > 큰 길 지나서 내려주세요.\\n알다 ? > 아시겠어요?\\...        계단은 어디에 있나요?\n3    대로 다음 도착 내리다 > 큰 길 지나서 내려주세요.\\n지하철 ? > 지하철 승강장...      터널 지나서 내려드릴까요?\n4    나 자유 느끼다 원하다 > 자유를 느끼고 싶다\\n택시 돈 되다 ? > 현금도 되나요...    아파트 단지 안으로 가주세요.\n..                                                 ...                 ...\n611  지름길 차내리다 가다 ? > 지름길로 갈까요?\\n저기 내리다 맞다 > 저기서 내려주...      우체국 지나서 내려주세요.\n612  항공 표 곳 ? > 항공사 카운터는 어디에 있습니까?\\n자판기 고장 > 자판기가 안...              다와갑니다.\n613  자판기 고장 죽다 > 자판기가 안되네요.\\n자판기 안되다 ? > 자판기가 안되나요?...     할머니가 갑자기 쓰러지셨어요\n614  세금 되돌리다 돈받다 어디 ? > 세금환급을 어디서 받나요?\\n또 궁금하다 있다 물...    너무 힘들어서 위로 받고 싶다\n615  카드 1회 되다 ? > 1회용 카드도 되나요?\\n보건소 곳 다음 여기 > 보건소 지...  공항 내 샤워실은 어디에 있나요?\n\n[616 rows x 2 columns]",
      "text/html": "<div>\n<style scoped>\n    .dataframe tbody tr th:only-of-type {\n        vertical-align: middle;\n    }\n\n    .dataframe tbody tr th {\n        vertical-align: top;\n    }\n\n    .dataframe thead th {\n        text-align: right;\n    }\n</style>\n<table border=\"1\" class=\"dataframe\">\n  <thead>\n    <tr style=\"text-align: right;\">\n      <th></th>\n      <th>gloss</th>\n      <th>spoken</th>\n    </tr>\n  </thead>\n  <tbody>\n    <tr>\n      <th>0</th>\n      <td>어떻게 ? &gt; 어떻게 하나요?\\n비자 책 없다 방법 ? &gt; 여권이 없습니다. 어떻게...</td>\n      <td>현금입니다.</td>\n    </tr>\n    <tr>\n      <th>1</th>\n      <td>공항 내리다 가다 ? &gt; 김포공항으로 갈까요?\\n4사람 &gt; 모두 4명입니다.\\n약 ...</td>\n      <td>차가 막힙니다.</td>\n    </tr>\n    <tr>\n      <th>2</th>\n      <td>대로 다음 도착 차내리다 &gt; 큰 길 지나서 내려주세요.\\n알다 ? &gt; 아시겠어요?\\...</td>\n      <td>계단은 어디에 있나요?</td>\n    </tr>\n    <tr>\n      <th>3</th>\n      <td>대로 다음 도착 내리다 &gt; 큰 길 지나서 내려주세요.\\n지하철 ? &gt; 지하철 승강장...</td>\n      <td>터널 지나서 내려드릴까요?</td>\n    </tr>\n    <tr>\n      <th>4</th>\n      <td>나 자유 느끼다 원하다 &gt; 자유를 느끼고 싶다\\n택시 돈 되다 ? &gt; 현금도 되나요...</td>\n      <td>아파트 단지 안으로 가주세요.</td>\n    </tr>\n    <tr>\n      <th>...</th>\n      <td>...</td>\n      <td>...</td>\n    </tr>\n    <tr>\n      <th>611</th>\n      <td>지름길 차내리다 가다 ? &gt; 지름길로 갈까요?\\n저기 내리다 맞다 &gt; 저기서 내려주...</td>\n      <td>우체국 지나서 내려주세요.</td>\n    </tr>\n    <tr>\n      <th>612</th>\n      <td>항공 표 곳 ? &gt; 항공사 카운터는 어디에 있습니까?\\n자판기 고장 &gt; 자판기가 안...</td>\n      <td>다와갑니다.</td>\n    </tr>\n    <tr>\n      <th>613</th>\n      <td>자판기 고장 죽다 &gt; 자판기가 안되네요.\\n자판기 안되다 ? &gt; 자판기가 안되나요?...</td>\n      <td>할머니가 갑자기 쓰러지셨어요</td>\n    </tr>\n    <tr>\n      <th>614</th>\n      <td>세금 되돌리다 돈받다 어디 ? &gt; 세금환급을 어디서 받나요?\\n또 궁금하다 있다 물...</td>\n      <td>너무 힘들어서 위로 받고 싶다</td>\n    </tr>\n    <tr>\n      <th>615</th>\n      <td>카드 1회 되다 ? &gt; 1회용 카드도 되나요?\\n보건소 곳 다음 여기 &gt; 보건소 지...</td>\n      <td>공항 내 샤워실은 어디에 있나요?</td>\n    </tr>\n  </tbody>\n</table>\n<p>616 rows × 2 columns</p>\n</div>"
     },
     "execution_count": 13,
     "metadata": {},
     "output_type": "execute_result"
    }
   ],
   "source": [
    "df_3 = pd.DataFrame(columns=['gloss', 'spoken'])\n",
    "df = df.sample(frac=1).reset_index(drop=True)\n",
    "\n",
    "for idx in range(0, len(df.index)-3, 4):\n",
    "    new_row = pd.DataFrame([[f\"{df.loc[idx, 'gloss']} > {df.loc[idx, 'spoken']}\"\n",
    "                             f\"\\n{df.loc[idx+1, 'gloss']} > {df.loc[idx+1, 'spoken']}\"\n",
    "                             f\"\\n{df.loc[idx+2, 'gloss']} > {df.loc[idx+2, 'spoken']}\"\n",
    "                             f\"\\n{df.loc[idx+3, 'gloss']} > \", df.loc[idx+3, 'spoken']]], columns=['gloss', 'spoken'])\n",
    "    df_3 = pd.concat([df_3, new_row], ignore_index=True)\n",
    "df_3.to_csv('GKSL3k_train-3.csv', index=False)\n",
    "df_3"
   ],
   "metadata": {
    "collapsed": false,
    "ExecuteTime": {
     "end_time": "2023-10-26T11:52:53.465779332Z",
     "start_time": "2023-10-26T11:52:53.308059585Z"
    }
   },
   "id": "22d7cc88b2192c9a"
  },
  {
   "cell_type": "code",
   "execution_count": 16,
   "outputs": [
    {
     "data": {
      "text/plain": "                                                 gloss                spoken\n0    카드 고장 잘 안되다 ? > 카드 인식이 안되나요?\\n나사렛 내리다 ? > 나사렛대...                만원입니다.\n1    샛길 저기 다음 곳 > 골목 지나서 내려주세요.\\n불편하다 > 불편합니다.\\n택시 ...            에어컨이 안되네요.\n2    배우다 목적 학교 가다 > 배우기 위해 학교에 갔다\\n청음회관 차내리다 오케이 ? ...                다와가나요?\n3    밤 12시 후 돈 추가 > 심야 할증 요금이 적용됩니다.\\n아파트 가다 > 아파트 ...           사슴이 달리면 빠르다\n4    다르다 카드 > 다른 카드를 주세요.\\n여기 맞다 > 여기서 내려주세요.\\n항공 ?...     비행기를 취소 할 수 있을까요?\n..                                                 ...                   ...\n488  가방 실종 잃어버리다 > 가방을 잃어버렸습니다.\\n핸드폰 실종 잃어버리다 > 휴대폰...        신호등 지나서 내려주세요.\n489  명동 내리다 > 명동역으로 가주세요.\\n아기 모유 어디 ? > 유아 수유실은 어디에...           에어컨 좀 꺼주세요.\n490  노트북 없다 실종 > 노트북을 잃어버렸습니다.\\n나사렛 내리다 > 나사렛대학교로 가...          성격이 달라서 이혼했다\n491  키 작다 힘 세다 > 키는 작아도 힘은 세다\\n지하철 정기권 사다 원하다 > 정기승...          환전은 어디서 하나요?\n492  손바닥찍다 가다 > 이 주소로 가주세요.\\n카드 사용 안되다 고장 > 카드 인식이 ...  근처에 있는 건물이 붕괴되고 있어요.\n\n[493 rows x 2 columns]",
      "text/html": "<div>\n<style scoped>\n    .dataframe tbody tr th:only-of-type {\n        vertical-align: middle;\n    }\n\n    .dataframe tbody tr th {\n        vertical-align: top;\n    }\n\n    .dataframe thead th {\n        text-align: right;\n    }\n</style>\n<table border=\"1\" class=\"dataframe\">\n  <thead>\n    <tr style=\"text-align: right;\">\n      <th></th>\n      <th>gloss</th>\n      <th>spoken</th>\n    </tr>\n  </thead>\n  <tbody>\n    <tr>\n      <th>0</th>\n      <td>카드 고장 잘 안되다 ? &gt; 카드 인식이 안되나요?\\n나사렛 내리다 ? &gt; 나사렛대...</td>\n      <td>만원입니다.</td>\n    </tr>\n    <tr>\n      <th>1</th>\n      <td>샛길 저기 다음 곳 &gt; 골목 지나서 내려주세요.\\n불편하다 &gt; 불편합니다.\\n택시 ...</td>\n      <td>에어컨이 안되네요.</td>\n    </tr>\n    <tr>\n      <th>2</th>\n      <td>배우다 목적 학교 가다 &gt; 배우기 위해 학교에 갔다\\n청음회관 차내리다 오케이 ? ...</td>\n      <td>다와가나요?</td>\n    </tr>\n    <tr>\n      <th>3</th>\n      <td>밤 12시 후 돈 추가 &gt; 심야 할증 요금이 적용됩니다.\\n아파트 가다 &gt; 아파트 ...</td>\n      <td>사슴이 달리면 빠르다</td>\n    </tr>\n    <tr>\n      <th>4</th>\n      <td>다르다 카드 &gt; 다른 카드를 주세요.\\n여기 맞다 &gt; 여기서 내려주세요.\\n항공 ?...</td>\n      <td>비행기를 취소 할 수 있을까요?</td>\n    </tr>\n    <tr>\n      <th>...</th>\n      <td>...</td>\n      <td>...</td>\n    </tr>\n    <tr>\n      <th>488</th>\n      <td>가방 실종 잃어버리다 &gt; 가방을 잃어버렸습니다.\\n핸드폰 실종 잃어버리다 &gt; 휴대폰...</td>\n      <td>신호등 지나서 내려주세요.</td>\n    </tr>\n    <tr>\n      <th>489</th>\n      <td>명동 내리다 &gt; 명동역으로 가주세요.\\n아기 모유 어디 ? &gt; 유아 수유실은 어디에...</td>\n      <td>에어컨 좀 꺼주세요.</td>\n    </tr>\n    <tr>\n      <th>490</th>\n      <td>노트북 없다 실종 &gt; 노트북을 잃어버렸습니다.\\n나사렛 내리다 &gt; 나사렛대학교로 가...</td>\n      <td>성격이 달라서 이혼했다</td>\n    </tr>\n    <tr>\n      <th>491</th>\n      <td>키 작다 힘 세다 &gt; 키는 작아도 힘은 세다\\n지하철 정기권 사다 원하다 &gt; 정기승...</td>\n      <td>환전은 어디서 하나요?</td>\n    </tr>\n    <tr>\n      <th>492</th>\n      <td>손바닥찍다 가다 &gt; 이 주소로 가주세요.\\n카드 사용 안되다 고장 &gt; 카드 인식이 ...</td>\n      <td>근처에 있는 건물이 붕괴되고 있어요.</td>\n    </tr>\n  </tbody>\n</table>\n<p>493 rows × 2 columns</p>\n</div>"
     },
     "execution_count": 16,
     "metadata": {},
     "output_type": "execute_result"
    }
   ],
   "source": [
    "df_4 = pd.DataFrame(columns=['gloss', 'spoken'])\n",
    "df = df.sample(frac=1).reset_index(drop=True)\n",
    "\n",
    "for idx in range(0, len(df.index)-2, 5):\n",
    "    new_row = pd.DataFrame([[f\"{df.loc[idx, 'gloss']} > {df.loc[idx, 'spoken']}\"\n",
    "                             f\"\\n{df.loc[idx + 1, 'gloss']} > {df.loc[idx + 1, 'spoken']}\"\n",
    "                             f\"\\n{df.loc[idx + 2, 'gloss']} > {df.loc[idx + 2, 'spoken']}\"\n",
    "                             f\"\\n{df.loc[idx + 3, 'gloss']} > {df.loc[idx + 3, 'spoken']}\"\n",
    "                             f\"\\n{df.loc[idx + 4, 'gloss']} > \", df.loc[idx + 4, 'spoken']]],\n",
    "                           columns=['gloss', 'spoken'])\n",
    "    df_4 = pd.concat([df_4, new_row], ignore_index=True)\n",
    "df_4.to_csv('GKSL3k_train-4.csv', index=False)\n",
    "df_4"
   ],
   "metadata": {
    "collapsed": false,
    "ExecuteTime": {
     "end_time": "2023-10-26T11:53:02.210490088Z",
     "start_time": "2023-10-26T11:53:02.081518900Z"
    }
   },
   "id": "4d4c4292055922be"
  },
  {
   "cell_type": "code",
   "execution_count": 5,
   "outputs": [
    {
     "data": {
      "text/plain": "                                                 spoken                 gloss\n0     나는 그 소식에 충격을 받았다. > 나 그 소식 충격 받다 .\\n그 추억은 시간이 ...  그 추억 시간 흐르다 변하다 않다 .\n1     그 추억은 시간이 흘러도 변하지 않아. > 그 추억 시간 흐르다 변하다 않다 .\\n...             행운 별 보다 ?\n2            행운의 별을 봤어? > 행운 별 보다 ?\\n생일은 한 해에 한 번뿐이야 >        생일 한 해 한 번뿐이다 .\n3     생일은 한 해에 한 번뿐이야 > 생일 한 해 한 번뿐이다 .\\n허브 키우는 건 내게...      허브 키우다 나 휴식 있다 .\n4     허브 키우는 건 내게 휴식이야. > 허브 키우다 나 휴식 있다 .\\n교과서 언제 구...           교과서 언제 구입 ?\n...                                                 ...                   ...\n2758  나는 새로운 언어를 가르치는 것을 좋아한다. > 나 새로운 언어 가르치다 것 좋아하...        토요일 영화 보다 가다 ?\n2759  토요일에 영화 보러 갈래? > 토요일 영화 보다 가다 ?\\n세상에는 아직 모르는 것...   세상 아직 모르다 것 너무 많다 .\n2760  세상에는 아직 모르는 것이 너무 많아 > 세상 아직 모르다 것 너무 많다 .\\n방송...     방송 광고 이 제품 궁금하다 .\n2761  방송 광고 속 이 제품 궁금해. > 방송 광고 이 제품 궁금하다 .\\n대학에서 강연...            대학 강연 듣다 .\n2762   대학에서 강연을 들었다. > 대학 강연 듣다 .\\n그녀는 내 얘기를 믿지 않았다. >        그녀 나 얘기 믿다 않다 .\n\n[2763 rows x 2 columns]",
      "text/html": "<div>\n<style scoped>\n    .dataframe tbody tr th:only-of-type {\n        vertical-align: middle;\n    }\n\n    .dataframe tbody tr th {\n        vertical-align: top;\n    }\n\n    .dataframe thead th {\n        text-align: right;\n    }\n</style>\n<table border=\"1\" class=\"dataframe\">\n  <thead>\n    <tr style=\"text-align: right;\">\n      <th></th>\n      <th>spoken</th>\n      <th>gloss</th>\n    </tr>\n  </thead>\n  <tbody>\n    <tr>\n      <th>0</th>\n      <td>나는 그 소식에 충격을 받았다. &gt; 나 그 소식 충격 받다 .\\n그 추억은 시간이 ...</td>\n      <td>그 추억 시간 흐르다 변하다 않다 .</td>\n    </tr>\n    <tr>\n      <th>1</th>\n      <td>그 추억은 시간이 흘러도 변하지 않아. &gt; 그 추억 시간 흐르다 변하다 않다 .\\n...</td>\n      <td>행운 별 보다 ?</td>\n    </tr>\n    <tr>\n      <th>2</th>\n      <td>행운의 별을 봤어? &gt; 행운 별 보다 ?\\n생일은 한 해에 한 번뿐이야 &gt;</td>\n      <td>생일 한 해 한 번뿐이다 .</td>\n    </tr>\n    <tr>\n      <th>3</th>\n      <td>생일은 한 해에 한 번뿐이야 &gt; 생일 한 해 한 번뿐이다 .\\n허브 키우는 건 내게...</td>\n      <td>허브 키우다 나 휴식 있다 .</td>\n    </tr>\n    <tr>\n      <th>4</th>\n      <td>허브 키우는 건 내게 휴식이야. &gt; 허브 키우다 나 휴식 있다 .\\n교과서 언제 구...</td>\n      <td>교과서 언제 구입 ?</td>\n    </tr>\n    <tr>\n      <th>...</th>\n      <td>...</td>\n      <td>...</td>\n    </tr>\n    <tr>\n      <th>2758</th>\n      <td>나는 새로운 언어를 가르치는 것을 좋아한다. &gt; 나 새로운 언어 가르치다 것 좋아하...</td>\n      <td>토요일 영화 보다 가다 ?</td>\n    </tr>\n    <tr>\n      <th>2759</th>\n      <td>토요일에 영화 보러 갈래? &gt; 토요일 영화 보다 가다 ?\\n세상에는 아직 모르는 것...</td>\n      <td>세상 아직 모르다 것 너무 많다 .</td>\n    </tr>\n    <tr>\n      <th>2760</th>\n      <td>세상에는 아직 모르는 것이 너무 많아 &gt; 세상 아직 모르다 것 너무 많다 .\\n방송...</td>\n      <td>방송 광고 이 제품 궁금하다 .</td>\n    </tr>\n    <tr>\n      <th>2761</th>\n      <td>방송 광고 속 이 제품 궁금해. &gt; 방송 광고 이 제품 궁금하다 .\\n대학에서 강연...</td>\n      <td>대학 강연 듣다 .</td>\n    </tr>\n    <tr>\n      <th>2762</th>\n      <td>대학에서 강연을 들었다. &gt; 대학 강연 듣다 .\\n그녀는 내 얘기를 믿지 않았다. &gt;</td>\n      <td>그녀 나 얘기 믿다 않다 .</td>\n    </tr>\n  </tbody>\n</table>\n<p>2763 rows × 2 columns</p>\n</div>"
     },
     "execution_count": 5,
     "metadata": {},
     "output_type": "execute_result"
    }
   ],
   "source": [
    "df_1 = pd.DataFrame(columns=['spoken', 'gloss'])\n",
    "df = df.sample(frac=1).reset_index(drop=True)\n",
    "\n",
    "for idx in range(0, len(df.index)-1, 1):\n",
    "    new_row = pd.DataFrame([[f\"{df.loc[idx, 'spoken']} > {df.loc[idx, 'gloss']}\"\n",
    "                             f\"\\n{df.loc[idx+1, 'spoken']} > \", df.loc[idx+1, 'gloss']]], columns=['spoken', 'gloss'])\n",
    "    df_1 = pd.concat([df_1, new_row], ignore_index=True)\n",
    "df_1.to_csv('text2gloss/1-shot.csv', index=False)\n",
    "df_1"
   ],
   "metadata": {
    "collapsed": false,
    "ExecuteTime": {
     "end_time": "2023-10-10T12:38:23.401311395Z",
     "start_time": "2023-10-10T12:38:22.719979573Z"
    }
   },
   "id": "b5f9fb881c9db738"
  },
  {
   "cell_type": "code",
   "execution_count": 6,
   "outputs": [
    {
     "data": {
      "text/plain": "                                                 spoken  \\\n0     아이들과 학교 행사 참석했어. > 아이 학교 행사 참석 하다 .\\n광개토대왕은 어떤...   \n1     시험 어려웠어요? > 시험 어렵다 ?\\n이 사건 대해 어떻게 생각하시나요? > 이 ...   \n2     학교 도서관에서 공부하려고 해. > 학교 도서관 공부 하다 .\\n인터넷 연결 없이 ...   \n3     팝업 광고가 계속 나와요. 어떻게 막나요? > 팝업 광고 계속 나오다 . 어떻게 막...   \n4     이 작품은 어떤 주제로 쓰였나요? > 이 작품 주제 무엇 ?\\n하루 종일 빗물이 내...   \n...                                                 ...   \n1376  이번 주 트레이닝 스케줄 알려줄 수 있어? > 이번 주 트레이닝 스케줄 알다 주다 ...   \n1377  명동은 왜 그 이름이 붙었을까요? > 명동 왜 그 이름 붙다 ?\\n음식이 신선해 보...   \n1378  5월의 마지막 주말에 휴가를 냈어 > 5월 마지막 주말 휴가 내다 .\\n약속 장소에...   \n1379  휴식은 충분히 취하셔야 해요. > 휴식 충분하다 취하다 해요 .\\n독서를 통해 세상...   \n1380  오늘 수업 내용이 어려웠다. > 오늘 수업 내용 어렵다 .\\n저기 뭐 먹는 곳 있어...   \n\n                        gloss  \n0                    시험 어렵다 ?  \n1              학교 도서관 공부 하다 .  \n2     팝업 광고 계속 나오다 . 어떻게 막다 ?  \n3                이 작품 주제 무엇 ?  \n4            주차 인증 어디 받다 가능 ?  \n...                       ...  \n1376           명동 왜 그 이름 붙다 ?  \n1377        5월 마지막 주말 휴가 내다 .  \n1378         휴식 충분하다 취하다 해요 .  \n1379           오늘 수업 내용 어렵다 .  \n1380          나 좋아하다 드라마 추천 ?  \n\n[1381 rows x 2 columns]",
      "text/html": "<div>\n<style scoped>\n    .dataframe tbody tr th:only-of-type {\n        vertical-align: middle;\n    }\n\n    .dataframe tbody tr th {\n        vertical-align: top;\n    }\n\n    .dataframe thead th {\n        text-align: right;\n    }\n</style>\n<table border=\"1\" class=\"dataframe\">\n  <thead>\n    <tr style=\"text-align: right;\">\n      <th></th>\n      <th>spoken</th>\n      <th>gloss</th>\n    </tr>\n  </thead>\n  <tbody>\n    <tr>\n      <th>0</th>\n      <td>아이들과 학교 행사 참석했어. &gt; 아이 학교 행사 참석 하다 .\\n광개토대왕은 어떤...</td>\n      <td>시험 어렵다 ?</td>\n    </tr>\n    <tr>\n      <th>1</th>\n      <td>시험 어려웠어요? &gt; 시험 어렵다 ?\\n이 사건 대해 어떻게 생각하시나요? &gt; 이 ...</td>\n      <td>학교 도서관 공부 하다 .</td>\n    </tr>\n    <tr>\n      <th>2</th>\n      <td>학교 도서관에서 공부하려고 해. &gt; 학교 도서관 공부 하다 .\\n인터넷 연결 없이 ...</td>\n      <td>팝업 광고 계속 나오다 . 어떻게 막다 ?</td>\n    </tr>\n    <tr>\n      <th>3</th>\n      <td>팝업 광고가 계속 나와요. 어떻게 막나요? &gt; 팝업 광고 계속 나오다 . 어떻게 막...</td>\n      <td>이 작품 주제 무엇 ?</td>\n    </tr>\n    <tr>\n      <th>4</th>\n      <td>이 작품은 어떤 주제로 쓰였나요? &gt; 이 작품 주제 무엇 ?\\n하루 종일 빗물이 내...</td>\n      <td>주차 인증 어디 받다 가능 ?</td>\n    </tr>\n    <tr>\n      <th>...</th>\n      <td>...</td>\n      <td>...</td>\n    </tr>\n    <tr>\n      <th>1376</th>\n      <td>이번 주 트레이닝 스케줄 알려줄 수 있어? &gt; 이번 주 트레이닝 스케줄 알다 주다 ...</td>\n      <td>명동 왜 그 이름 붙다 ?</td>\n    </tr>\n    <tr>\n      <th>1377</th>\n      <td>명동은 왜 그 이름이 붙었을까요? &gt; 명동 왜 그 이름 붙다 ?\\n음식이 신선해 보...</td>\n      <td>5월 마지막 주말 휴가 내다 .</td>\n    </tr>\n    <tr>\n      <th>1378</th>\n      <td>5월의 마지막 주말에 휴가를 냈어 &gt; 5월 마지막 주말 휴가 내다 .\\n약속 장소에...</td>\n      <td>휴식 충분하다 취하다 해요 .</td>\n    </tr>\n    <tr>\n      <th>1379</th>\n      <td>휴식은 충분히 취하셔야 해요. &gt; 휴식 충분하다 취하다 해요 .\\n독서를 통해 세상...</td>\n      <td>오늘 수업 내용 어렵다 .</td>\n    </tr>\n    <tr>\n      <th>1380</th>\n      <td>오늘 수업 내용이 어려웠다. &gt; 오늘 수업 내용 어렵다 .\\n저기 뭐 먹는 곳 있어...</td>\n      <td>나 좋아하다 드라마 추천 ?</td>\n    </tr>\n  </tbody>\n</table>\n<p>1381 rows × 2 columns</p>\n</div>"
     },
     "execution_count": 6,
     "metadata": {},
     "output_type": "execute_result"
    }
   ],
   "source": [
    "df_2 = pd.DataFrame(columns=['spoken', 'gloss'])\n",
    "df = df.sample(frac=1).reset_index(drop=True)\n",
    "\n",
    "for idx in range(0, len(df.index)-2, 2):\n",
    "    new_row = pd.DataFrame([[f\"{df.loc[idx, 'spoken']} > {df.loc[idx, 'gloss']}\"\n",
    "                             f\"\\n{df.loc[idx+1, 'spoken']} > {df.loc[idx+1, 'gloss']}\"\n",
    "                             f\"\\n{df.loc[idx+2, 'spoken']} > \", df.loc[idx+2, 'gloss']]], columns=['spoken', 'gloss'])\n",
    "    df_2 = pd.concat([df_2, new_row], ignore_index=True)\n",
    "df_2.to_csv('text2gloss/2-shot.csv', index=False)\n",
    "df_2"
   ],
   "metadata": {
    "collapsed": false,
    "ExecuteTime": {
     "end_time": "2023-10-10T12:38:23.762152966Z",
     "start_time": "2023-10-10T12:38:23.402250016Z"
    }
   },
   "id": "1847bbeaa1e64ed4"
  },
  {
   "cell_type": "code",
   "execution_count": 7,
   "outputs": [
    {
     "data": {
      "text/plain": "                                                spoken  \\\n0    저기 앞에서 좌회전 해주세요. > 저기 앞 좌회전 하다 .\\n공항 내 라운지 위치를...   \n1    테이블 정리 좀 해주세요. > 테이블 정리하다 .\\n작년 여름에는 해외여행을 갔다....   \n2    이 웹사이트 접속하면 컴퓨터가 느려져요. > 이 웹사이트 접속하다 컴퓨터 느리다 ....   \n3    이메일이 계속 스팸으로 오는데요. > 이메일 스팸으로 오다 .\\n그와의 관계가 복잡...   \n4    물고기는 빛을 따라 헤엄쳐 > 물고기 빛 따르다 헤엄치다 .\\n인터뷰 질문 몇 개 ...   \n..                                                 ...   \n916  운전하시면서 라디오 듣기 좋아하시나요? > 운전하다 라디오 듣다 좋아하다 ?\\n방송...   \n917  아기에게 모자를 씌웠어. > 아기 모자 씌우다 .\\n대게시즌이 시작됐다. > 대게 ...   \n918  바다보다는 산이 좋아? > 바다 보다 산 좋다 ?\\n영화 볼래요? > 영화 보다 ?...   \n919  물 마시고 다시 시작하자. > 물 마시다 다시 시작 하다 .\\n그 영화에 대한 나의...   \n920  아버지와의 기억은 나의 보물이야. > 아버지 기억 나 보물이다 .\\n여기 무료 와이...   \n\n                       gloss  \n0                 테이블 정리하다 .  \n1      이 웹사이트 접속하다 컴퓨터 느리다 .  \n2              이메일 스팸으로 오다 .  \n3           물고기 빛 따르다 헤엄치다 .  \n4         브라우저 홈페이지 설정 바꾸다 ?  \n..                       ...  \n916              아기 모자 씌우다 .  \n917             바다 보다 산 좋다 ?  \n918         물 마시다 다시 시작 하다 .  \n919          아버지 기억 나 보물이다 .  \n920  아르헨티나 부에노스아이레스 탱고 배우다 .  \n\n[921 rows x 2 columns]",
      "text/html": "<div>\n<style scoped>\n    .dataframe tbody tr th:only-of-type {\n        vertical-align: middle;\n    }\n\n    .dataframe tbody tr th {\n        vertical-align: top;\n    }\n\n    .dataframe thead th {\n        text-align: right;\n    }\n</style>\n<table border=\"1\" class=\"dataframe\">\n  <thead>\n    <tr style=\"text-align: right;\">\n      <th></th>\n      <th>spoken</th>\n      <th>gloss</th>\n    </tr>\n  </thead>\n  <tbody>\n    <tr>\n      <th>0</th>\n      <td>저기 앞에서 좌회전 해주세요. &gt; 저기 앞 좌회전 하다 .\\n공항 내 라운지 위치를...</td>\n      <td>테이블 정리하다 .</td>\n    </tr>\n    <tr>\n      <th>1</th>\n      <td>테이블 정리 좀 해주세요. &gt; 테이블 정리하다 .\\n작년 여름에는 해외여행을 갔다....</td>\n      <td>이 웹사이트 접속하다 컴퓨터 느리다 .</td>\n    </tr>\n    <tr>\n      <th>2</th>\n      <td>이 웹사이트 접속하면 컴퓨터가 느려져요. &gt; 이 웹사이트 접속하다 컴퓨터 느리다 ....</td>\n      <td>이메일 스팸으로 오다 .</td>\n    </tr>\n    <tr>\n      <th>3</th>\n      <td>이메일이 계속 스팸으로 오는데요. &gt; 이메일 스팸으로 오다 .\\n그와의 관계가 복잡...</td>\n      <td>물고기 빛 따르다 헤엄치다 .</td>\n    </tr>\n    <tr>\n      <th>4</th>\n      <td>물고기는 빛을 따라 헤엄쳐 &gt; 물고기 빛 따르다 헤엄치다 .\\n인터뷰 질문 몇 개 ...</td>\n      <td>브라우저 홈페이지 설정 바꾸다 ?</td>\n    </tr>\n    <tr>\n      <th>...</th>\n      <td>...</td>\n      <td>...</td>\n    </tr>\n    <tr>\n      <th>916</th>\n      <td>운전하시면서 라디오 듣기 좋아하시나요? &gt; 운전하다 라디오 듣다 좋아하다 ?\\n방송...</td>\n      <td>아기 모자 씌우다 .</td>\n    </tr>\n    <tr>\n      <th>917</th>\n      <td>아기에게 모자를 씌웠어. &gt; 아기 모자 씌우다 .\\n대게시즌이 시작됐다. &gt; 대게 ...</td>\n      <td>바다 보다 산 좋다 ?</td>\n    </tr>\n    <tr>\n      <th>918</th>\n      <td>바다보다는 산이 좋아? &gt; 바다 보다 산 좋다 ?\\n영화 볼래요? &gt; 영화 보다 ?...</td>\n      <td>물 마시다 다시 시작 하다 .</td>\n    </tr>\n    <tr>\n      <th>919</th>\n      <td>물 마시고 다시 시작하자. &gt; 물 마시다 다시 시작 하다 .\\n그 영화에 대한 나의...</td>\n      <td>아버지 기억 나 보물이다 .</td>\n    </tr>\n    <tr>\n      <th>920</th>\n      <td>아버지와의 기억은 나의 보물이야. &gt; 아버지 기억 나 보물이다 .\\n여기 무료 와이...</td>\n      <td>아르헨티나 부에노스아이레스 탱고 배우다 .</td>\n    </tr>\n  </tbody>\n</table>\n<p>921 rows × 2 columns</p>\n</div>"
     },
     "execution_count": 7,
     "metadata": {},
     "output_type": "execute_result"
    }
   ],
   "source": [
    "df_3 = pd.DataFrame(columns=['spoken', 'gloss'])\n",
    "df = df.sample(frac=1).reset_index(drop=True)\n",
    "\n",
    "for idx in range(0, len(df.index)-1, 3):\n",
    "    new_row = pd.DataFrame([[f\"{df.loc[idx, 'spoken']} > {df.loc[idx, 'gloss']}\"\n",
    "                             f\"\\n{df.loc[idx+1, 'spoken']} > {df.loc[idx+1, 'gloss']}\"\n",
    "                             f\"\\n{df.loc[idx+2, 'spoken']} > {df.loc[idx+2, 'gloss']}\"\n",
    "                             f\"\\n{df.loc[idx+3, 'spoken']} > \", df.loc[idx+3, 'gloss']]], columns=['spoken', 'gloss'])\n",
    "    df_3 = pd.concat([df_3, new_row], ignore_index=True)\n",
    "df_3.to_csv('text2gloss/3-shot.csv', index=False)\n",
    "df_3"
   ],
   "metadata": {
    "collapsed": false,
    "ExecuteTime": {
     "end_time": "2023-10-10T12:38:24.020799587Z",
     "start_time": "2023-10-10T12:38:23.765397555Z"
    }
   },
   "id": "f725bfc425d8d13a"
  },
  {
   "cell_type": "code",
   "execution_count": 8,
   "outputs": [
    {
     "name": "stdout",
     "output_type": "stream",
     "text": [
      "0-shot\n",
      "gloss: 11, spoken: 12\n",
      "2764\n",
      "1-shot\n",
      "gloss: 34, spoken: 12\n",
      "1382\n",
      "2-shot\n",
      "gloss: 55, spoken: 12\n",
      "921\n",
      "3-shot\n",
      "gloss: 75, spoken: 12\n",
      "691\n"
     ]
    }
   ],
   "source": [
    "from transformers import GPT2TokenizerFast as GPT2T\n",
    "\n",
    "U_TKN, S_TKN = '<usr>', '<sys>'\n",
    "BOS, EOS = '</s>', '</s>'\n",
    "MASK, SENT, UNK, PAD = '<mask>', '<sent>', '<unk>', '<pad>'\n",
    "\n",
    "TKNZR = GPT2T.from_pretrained('skt/kogpt2-base-v2', bos_token=BOS, eos_token=EOS,\n",
    "                                           unk_token=UNK, pad_token=PAD, mask_token=MASK)\n",
    "\n",
    "def tokenize_question(TKNZR, question):\n",
    "    return TKNZR.tokenize(U_TKN + question + EOS)\n",
    "\n",
    "def tokenize_answer(TKNZR, answer):\n",
    "    return TKNZR.tokenize(S_TKN + answer + EOS)\n",
    "\n",
    "for i in range(4, 5):\n",
    "    df = pd.read_csv(f'gloss2text/{i}-shot.csv')\n",
    "    len_g, len_s = 0, 0\n",
    "    for idx in range(len(df.index)):\n",
    "        len_g += len(tokenize_question(TKNZR, df.loc[idx, 'gloss']))\n",
    "        len_s += len(tokenize_answer(TKNZR, df.loc[idx, 'spoken']))\n",
    "    print(f'{i}-shot')\n",
    "    print(f'gloss: {int(len_g/len(df.index) * 1.25)}, spoken: {int(len_s/len(df.index) * 1.25)}')\n",
    "    print(len(df.index))\n",
    "    "
   ],
   "metadata": {
    "collapsed": false,
    "ExecuteTime": {
     "end_time": "2023-10-10T12:38:30.582648011Z",
     "start_time": "2023-10-10T12:38:24.023928636Z"
    }
   },
   "id": "44d356fdc940b1a3"
  },
  {
   "cell_type": "code",
   "execution_count": 9,
   "outputs": [
    {
     "data": {
      "text/plain": "28.791666666666668"
     },
     "execution_count": 9,
     "metadata": {},
     "output_type": "execute_result"
    }
   ],
   "source": [
    "1382 / 48"
   ],
   "metadata": {
    "collapsed": false,
    "ExecuteTime": {
     "end_time": "2023-10-10T12:38:30.621484376Z",
     "start_time": "2023-10-10T12:38:30.579150718Z"
    }
   },
   "id": "c72d539bbd351501"
  },
  {
   "cell_type": "code",
   "execution_count": 10,
   "outputs": [],
   "source": [
    "df = pd.read_csv('gloss2text/0-shot.csv')\n",
    "df = df.sample(frac=1).reset_index(drop=True)\n",
    "df.to_csv('gloss2text/0-shot.csv', index=False)"
   ],
   "metadata": {
    "collapsed": false,
    "ExecuteTime": {
     "end_time": "2023-10-10T12:38:30.621603458Z",
     "start_time": "2023-10-10T12:38:30.621226023Z"
    }
   },
   "id": "b2d60ee9f79d82bd"
  },
  {
   "cell_type": "code",
   "execution_count": null,
   "outputs": [],
   "source": [],
   "metadata": {
    "collapsed": false
   },
   "id": "c849a04915187fc2"
  }
 ],
 "metadata": {
  "kernelspec": {
   "display_name": "Python 3",
   "language": "python",
   "name": "python3"
  },
  "language_info": {
   "codemirror_mode": {
    "name": "ipython",
    "version": 2
   },
   "file_extension": ".py",
   "mimetype": "text/x-python",
   "name": "python",
   "nbconvert_exporter": "python",
   "pygments_lexer": "ipython2",
   "version": "2.7.6"
  }
 },
 "nbformat": 4,
 "nbformat_minor": 5
}
