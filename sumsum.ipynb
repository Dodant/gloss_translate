{
 "cells": [
  {
   "cell_type": "code",
   "execution_count": 4,
   "id": "initial_id",
   "metadata": {
    "collapsed": true,
    "ExecuteTime": {
     "end_time": "2023-10-22T13:07:25.688270736Z",
     "start_time": "2023-10-22T13:07:24.968491379Z"
    }
   },
   "outputs": [
    {
     "name": "stdout",
     "output_type": "stream",
     "text": [
      "55\n"
     ]
    }
   ],
   "source": [
    "import copy\n",
    "\n",
    "n = int(input())\n",
    "\n",
    "if n == 1:\n",
    "    print(1)\n",
    "elif n == 2:\n",
    "    print(2)\n",
    "else:\n",
    "    fibo = [0] * n\n",
    "    fibo[0] = 1\n",
    "    fibo[1] = 2\n",
    "\n",
    "    for i in range(2, n):\n",
    "        fibo[i] = fibo[i-1] + fibo[i-2]\n",
    "\n",
    "    print(fibo[-1]%10007)"
   ]
  },
  {
   "cell_type": "code",
   "execution_count": 32,
   "outputs": [
    {
     "name": "stdout",
     "output_type": "stream",
     "text": [
      "208 40\n"
     ]
    }
   ],
   "source": [
    "N, M, B = map(int, input().split())\n",
    "land = [list(map(int, input().split())) for _ in range(N)]\n",
    "\n",
    "max_height = max(map(max, land))\n",
    "min_height = min(map(min, land))\n",
    "\n",
    "time_answer = 1000000000\n",
    "high_answer = 1000000000\n",
    "\n",
    "def makeheight(land, N, M, height, inventory, time_answer):\n",
    "    time = 0\n",
    "    for i in range(N):\n",
    "        for j in range(M):\n",
    "            if land[i][j] < height:\n",
    "                time += height - land[i][j]\n",
    "                inventory -= height - land[i][j]\n",
    "            elif land[i][j] > height:\n",
    "                time += 2 * (land[i][j] - height)\n",
    "                inventory += land[i][j] - height\n",
    "            if time > time_answer:\n",
    "                return False, 1000000000\n",
    "    if inventory < 0:\n",
    "        return False, 1000000000\n",
    "    return True, time\n",
    "\n",
    "for i in range(min_height, max_height+1):\n",
    "    inventory = B\n",
    "    tf, time = makeheight(land, N, M, i, inventory, time_answer)\n",
    "    if tf:\n",
    "        if time < time_answer:\n",
    "            time_answer = time\n",
    "            high_answer = i\n",
    "        elif time == time_answer:\n",
    "            if i > high_answer:\n",
    "                high_answer = i\n",
    "                \n",
    "print(time_answer, high_answer)\n",
    "\n"
   ],
   "metadata": {
    "collapsed": false,
    "ExecuteTime": {
     "end_time": "2023-10-22T14:15:25.066554826Z",
     "start_time": "2023-10-22T14:14:59.579453039Z"
    }
   },
   "id": "5920eaaed26122a0"
  },
  {
   "cell_type": "code",
   "execution_count": 14,
   "outputs": [
    {
     "ename": "AttributeError",
     "evalue": "'list' object has no attribute 'rindex'",
     "output_type": "error",
     "traceback": [
      "\u001B[0;31m---------------------------------------------------------------------------\u001B[0m",
      "\u001B[0;31mAttributeError\u001B[0m                            Traceback (most recent call last)",
      "Cell \u001B[0;32mIn[14], line 1\u001B[0m\n\u001B[0;32m----> 1\u001B[0m \u001B[43m[\u001B[49m\u001B[38;5;241;43m1\u001B[39;49m\u001B[43m,\u001B[49m\u001B[38;5;241;43m2\u001B[39;49m\u001B[43m,\u001B[49m\u001B[38;5;241;43m3\u001B[39;49m\u001B[43m,\u001B[49m\u001B[38;5;241;43m4\u001B[39;49m\u001B[43m,\u001B[49m\u001B[38;5;241;43m4\u001B[39;49m\u001B[43m,\u001B[49m\u001B[38;5;241;43m4\u001B[39;49m\u001B[43m]\u001B[49m\u001B[38;5;241;43m.\u001B[39;49m\u001B[43mrindex\u001B[49m(\u001B[38;5;241m4\u001B[39m)\n",
      "\u001B[0;31mAttributeError\u001B[0m: 'list' object has no attribute 'rindex'"
     ]
    }
   ],
   "source": [],
   "metadata": {
    "collapsed": false,
    "ExecuteTime": {
     "end_time": "2023-10-22T13:42:07.000547031Z",
     "start_time": "2023-10-22T13:42:06.956093081Z"
    }
   },
   "id": "ad3f6054fa9a8314"
  },
  {
   "cell_type": "code",
   "execution_count": 52,
   "outputs": [
    {
     "name": "stdout",
     "output_type": "stream",
     "text": [
      "5004\n",
      "2502\n",
      "3753\n",
      "4378\n",
      "4691\n",
      "4847\n",
      "4925\n",
      "4964\n",
      "4984\n",
      "4994\n",
      "4999\n",
      "5001\n",
      "5002\n",
      "5003\n",
      "5003\n"
     ]
    }
   ],
   "source": [
    "K, N = map(int, input().split())\n",
    "lan = [int(input()) for _ in range(K)]\n",
    "\n",
    "def binsch(lan, N, st, end):\n",
    "    if st > end: return end\n",
    "    mid = (st + end) // 2\n",
    "    c = 0\n",
    "    for i in lan: c += i // mid\n",
    "    if c < N: return binsch(lan, N, st, mid-1)\n",
    "    else: return binsch(lan, N, mid+1, end)\n",
    "\n",
    "if K == 1:\n",
    "    print(lan[0] // N)\n",
    "else:   \n",
    "    print(binsch(lan, N, 1, max(lan)))"
   ],
   "metadata": {
    "collapsed": false,
    "ExecuteTime": {
     "end_time": "2023-10-22T15:03:03.858830807Z",
     "start_time": "2023-10-22T15:02:56.754406847Z"
    }
   },
   "id": "7ae7a08cad757be6"
  },
  {
   "cell_type": "code",
   "execution_count": 53,
   "outputs": [
    {
     "name": "stdout",
     "output_type": "stream",
     "text": [
      "3\n",
      "5\n",
      "7\n",
      "11\n",
      "13\n"
     ]
    }
   ],
   "source": [
    "M, N = map(int, input().split())\n",
    "che = [False, False] + [True] * (N-1)\n",
    "\n",
    "for i in range(2, int(N**0.5)+1):\n",
    "    if che[i]:\n",
    "        for j in range(2*i, N+1, i):\n",
    "            che[j] = False\n",
    "\n",
    "for i in range(M, N+1):\n",
    "    if che[i]:\n",
    "        print(i)\n"
   ],
   "metadata": {
    "collapsed": false,
    "ExecuteTime": {
     "end_time": "2023-10-22T15:08:33.988680107Z",
     "start_time": "2023-10-22T15:08:32.613171040Z"
    }
   },
   "id": "5ae86f3fb6465338"
  },
  {
   "cell_type": "code",
   "execution_count": 68,
   "outputs": [
    {
     "name": "stdout",
     "output_type": "stream",
     "text": [
      "[0, 0, 1, 1, 2, 3, 2, 3, 3, 2, 3, 4, 3, 4, 4, 4, 4]\n",
      "4\n"
     ]
    }
   ],
   "source": [
    "N = int(input())\n",
    "ls = [0, 0] + [100] * (N-1)\n",
    "\n",
    "for i in range(2, N+1):\n",
    "    temp = 0\n",
    "    if i % 3 == 0 and i % 2 == 0:\n",
    "        ls[i] = min(ls[i//3], ls[i//2], ls[i-1]) + 1\n",
    "    elif i % 3 == 0:\n",
    "        ls[i] = min(ls[i//3], ls[i-1]) + 1\n",
    "    elif i % 2 == 0:\n",
    "        ls[i] = min(ls[i//2], ls[i-1]) + 1\n",
    "    else:\n",
    "        ls[i] = ls[i-1] + 1\n",
    "\n",
    "print(ls[-1])"
   ],
   "metadata": {
    "collapsed": false,
    "ExecuteTime": {
     "end_time": "2023-10-22T15:26:37.028546611Z",
     "start_time": "2023-10-22T15:26:36.191477142Z"
    }
   },
   "id": "1bf2b1c27663fe06"
  },
  {
   "cell_type": "code",
   "execution_count": 69,
   "outputs": [
    {
     "name": "stdout",
     "output_type": "stream",
     "text": [
      "100\n"
     ]
    }
   ],
   "source": [
    "N = int(input())\n",
    "ls = [0, 0] + [100] * (N-1)\n",
    "\n",
    "for i in range(2, N):\n",
    "    if i % 3 == 0 and i % 2 == 0:\n",
    "        ls[i] = min(ls[i//3], ls[i//2], ls[i-1]) + 1\n",
    "    elif i % 3 == 0:\n",
    "        ls[i] = min(ls[i//3], ls[i-1]) + 1\n",
    "    elif i % 2 == 0:\n",
    "        ls[i] = min(ls[i//2], ls[i-1]) + 1\n",
    "    else:\n",
    "        ls[i] = ls[i-1] + 1\n",
    "\n",
    "print(ls[-1])"
   ],
   "metadata": {
    "collapsed": false,
    "ExecuteTime": {
     "end_time": "2023-10-22T15:27:42.582735747Z",
     "start_time": "2023-10-22T15:27:40.636246248Z"
    }
   },
   "id": "f576d1b1af89f43d"
  },
  {
   "cell_type": "code",
   "execution_count": 70,
   "outputs": [
    {
     "name": "stdout",
     "output_type": "stream",
     "text": [
      "32\n"
     ]
    }
   ],
   "source": [
    "N, K = map(int, input().split())\n",
    "ls = [int(input()) for _ in range(N)]\n",
    "ls.reverse()\n",
    "answer = 0\n",
    "\n",
    "for i in range(N):\n",
    "    answer += K // ls[i]\n",
    "    K %= ls[i]\n",
    "\n",
    "print(answer)"
   ],
   "metadata": {
    "collapsed": false,
    "ExecuteTime": {
     "end_time": "2023-10-22T15:33:37.912936503Z",
     "start_time": "2023-10-22T15:33:32.362317682Z"
    }
   },
   "id": "e8be66c5414e1ee5"
  },
  {
   "cell_type": "code",
   "execution_count": 93,
   "outputs": [
    {
     "name": "stdout",
     "output_type": "stream",
     "text": [
      "4\n"
     ]
    }
   ],
   "source": [
    "T = int(input())\n",
    "\n",
    "def dist(x, y):\n",
    "    answer = 0\n",
    "    if x[0] != y[0]:\n",
    "        answer += 1\n",
    "    if x[1] != y[1]:\n",
    "        answer += 1\n",
    "    if x[2] != y[2]:\n",
    "        answer += 1\n",
    "    if x[3] != y[3]:\n",
    "        answer += 1\n",
    "    return answer\n",
    "\n",
    "\n",
    "def dist2(x,y,z):\n",
    "    return dist(x,y) + dist(y,z) + dist(z,x)\n",
    "\n",
    "from itertools import combinations\n",
    "\n",
    "for i in range(T):\n",
    "    N = int(input())\n",
    "    ls = list(input().split())\n",
    "    if N > 32:\n",
    "        print(0)\n",
    "        continue\n",
    "    flag = False\n",
    "    dct = {}\n",
    "    two_list = []\n",
    "    \n",
    "    for j in ls:\n",
    "        if j in dct:\n",
    "            dct[j] += 1\n",
    "        else:\n",
    "            dct[j] = 1\n",
    "\n",
    "    for i in dct:\n",
    "        if dct[i] >= 3:\n",
    "            print(0)\n",
    "            flag = True\n",
    "            break\n",
    "        if dct[i] == 2:\n",
    "            two_list.append(i)\n",
    "    if flag:\n",
    "        continue\n",
    "    \n",
    "    lls = list(set(ls))\n",
    "    ds = []\n",
    "\n",
    "    for i in two_list:\n",
    "        for j in dct:\n",
    "            if i == j:\n",
    "                continue\n",
    "            else:\n",
    "                ds.append(2 * dist(i, j))\n",
    "\n",
    "    for j in combinations(lls, 3):\n",
    "        ds.append(dist2(*j))\n",
    "    print(min(ds))\n",
    "    \n",
    "    \n"
   ],
   "metadata": {
    "collapsed": false,
    "ExecuteTime": {
     "end_time": "2023-10-23T15:56:29.651699287Z",
     "start_time": "2023-10-23T15:56:24.259016216Z"
    }
   },
   "id": "7520fef5ce2c8c09"
  },
  {
   "cell_type": "code",
   "execution_count": 16,
   "outputs": [
    {
     "name": "stdout",
     "output_type": "stream",
     "text": [
      "199\n"
     ]
    }
   ],
   "source": [
    "from collections import deque\n",
    "\n",
    "with open('input.txt', 'r') as f:\n",
    "    N, M = map(int, f.readline().split())\n",
    "    ls = [[i for i in f.readline().rstrip()] for _ in range(N)]\n",
    "    visited = [[False for _ in range(M)] for _ in range(N)]\n",
    "\n",
    "    dx = [0, 0, 1, -1]\n",
    "    dy = [1, -1, 0, 0]\n",
    "    \n",
    "    q = deque()\n",
    "    q.append([0, 0, 1])\n",
    "    out = False\n",
    "    while q:\n",
    "        cur = q.popleft()\n",
    "        if visited[cur[0]][cur[1]]:\n",
    "            continue\n",
    "        visited[cur[0]][cur[1]] = True\n",
    "        for i in range(4):\n",
    "            nx, ny = cur[0] + dx[i], cur[1] + dy[i]\n",
    "            if nx < 0 or nx >= N or ny < 0 or ny >= M: continue\n",
    "            if visited[nx][ny] or ls[nx][ny] == '0': continue\n",
    "            q.append([nx, ny, cur[2]+1])\n",
    "            if nx == N-1 and ny == M-1:\n",
    "                print(cur[2]+1)\n",
    "                out = True\n",
    "                break\n",
    "        if out:\n",
    "            break"
   ],
   "metadata": {
    "collapsed": false,
    "ExecuteTime": {
     "end_time": "2023-10-24T05:24:07.105888989Z",
     "start_time": "2023-10-24T05:24:07.043102146Z"
    }
   },
   "id": "1f5cfab553ec069b"
  },
  {
   "cell_type": "code",
   "execution_count": 3,
   "outputs": [
    {
     "name": "stdout",
     "output_type": "stream",
     "text": [
      "15\n"
     ]
    }
   ],
   "source": [
    "from collections import deque\n",
    "\n",
    "\n",
    "N, M = map(int, input().split())\n",
    "ls = [[i for i in input().strip()] for _ in range(N)]\n",
    "visited = [[False for _ in range(M)] for _ in range(N)]\n",
    "\n",
    "dx = [0, 0, 1, -1]\n",
    "dy = [1, -1, 0, 0]\n",
    "\n",
    "q = deque()\n",
    "q.append([0, 0, 1])\n",
    "out = False\n",
    "while q:\n",
    "    cur = q.popleft()\n",
    "    if visited[cur[0]][cur[1]]:\n",
    "        continue\n",
    "    visited[cur[0]][cur[1]] = True\n",
    "    for i in range(4):\n",
    "        nx, ny = cur[0] + dx[i], cur[1] + dy[i]\n",
    "        if nx < 0 or nx >= N or ny < 0 or ny >= M: continue\n",
    "        if visited[nx][ny] or ls[nx][ny] == '0': continue\n",
    "        q.append([nx, ny, cur[2]+1])\n",
    "        if nx == N-1 and ny == M-1:\n",
    "            print(cur[2]+1)\n",
    "            out = True\n",
    "            break\n",
    "    if out:\n",
    "        break"
   ],
   "metadata": {
    "collapsed": false,
    "ExecuteTime": {
     "end_time": "2023-10-24T04:51:43.298323922Z",
     "start_time": "2023-10-24T04:51:28.361425874Z"
    }
   },
   "id": "3c5c069de3d85286"
  },
  {
   "cell_type": "code",
   "execution_count": 17,
   "outputs": [
    {
     "name": "stdout",
     "output_type": "stream",
     "text": [
      "7\n",
      "44\n",
      "274\n"
     ]
    }
   ],
   "source": [
    "N = int(input())\n",
    "for i in range(N):\n",
    "    M = int(input())\n",
    "    ls = [0, 1, 2, 4] + [0] * (M-3)\n",
    "    if M < 4:\n",
    "        print(ls[M])\n",
    "        continue\n",
    "    for j in range(4, M+1):\n",
    "        ls[j] = ls[j-1] + ls[j-2] + ls[j-3]\n",
    "    print(ls[M])"
   ],
   "metadata": {
    "collapsed": false,
    "ExecuteTime": {
     "end_time": "2023-10-24T05:37:35.032838497Z",
     "start_time": "2023-10-24T05:37:29.656729165Z"
    }
   },
   "id": "1b981510978b5b53"
  },
  {
   "cell_type": "code",
   "execution_count": 19,
   "outputs": [
    {
     "name": "stdout",
     "output_type": "stream",
     "text": [
      "5 8\n",
      "10946 17711\n"
     ]
    }
   ],
   "source": [
    "N = int(input())\n",
    "for i in range(N):\n",
    "    M = int(input())\n",
    "    ls = [[1,0], [0,1]] + [[0,0] for _ in range(M-1)]\n",
    "    if M < 2:\n",
    "        print(ls[M][0], ls[M][1])\n",
    "        continue\n",
    "    for j in range(2, M+1):\n",
    "        ls[j] = [ls[j-1][0] + ls[j-2][0], ls[j-1][1] + ls[j-2][1]]\n",
    "    print(ls[M][0], ls[M][1])"
   ],
   "metadata": {
    "collapsed": false,
    "ExecuteTime": {
     "end_time": "2023-10-24T05:45:15.749115672Z",
     "start_time": "2023-10-24T05:45:12.323650674Z"
    }
   },
   "id": "796c368786f03924"
  },
  {
   "cell_type": "code",
   "execution_count": 27,
   "outputs": [
    {
     "name": "stdout",
     "output_type": "stream",
     "text": [
      "4\n"
     ]
    }
   ],
   "source": [
    "from collections import deque\n",
    "\n",
    "N = int(input())\n",
    "M = int(input())\n",
    "ls = [list(map(int, input().split())) for _ in range(M)]\n",
    "gr = [[0 for _ in range(N)] for _ in range(N)]\n",
    "\n",
    "for l, r in ls:\n",
    "    gr[l-1][r-1] = 1\n",
    "    gr[r-1][l-1] = 1\n",
    "\n",
    "visited = [False for _ in range(N)]\n",
    "\n",
    "q = deque()\n",
    "q.append(0)\n",
    "\n",
    "cnt = 0\n",
    "while q:\n",
    "    cur = q.popleft()\n",
    "    if visited[cur]: continue\n",
    "    visited[cur] = True\n",
    "    cnt += 1\n",
    "    for i in range(N):\n",
    "        if gr[cur][i] == 1 and not visited[i]:\n",
    "            q.append(i)\n",
    "print(cnt-1)\n",
    "    "
   ],
   "metadata": {
    "collapsed": false,
    "ExecuteTime": {
     "end_time": "2023-10-24T05:58:26.856324877Z",
     "start_time": "2023-10-24T05:58:18.622085862Z"
    }
   },
   "id": "964bf6385901fe24"
  },
  {
   "cell_type": "code",
   "execution_count": 23,
   "outputs": [
    {
     "name": "stdout",
     "output_type": "stream",
     "text": [
      "[[0, 0, 0, 0, 1], [0, 0, 0, 0, 0], [1, 1, 1, 1, 1]]\n",
      "[[0, 0, 0, 0, 2], [0, 0, 0, 0, 0], [3, 3, 3, 3, 3]]\n",
      "2\n"
     ]
    }
   ],
   "source": [
    "from collections import deque\n",
    "\n",
    "with open('input.txt', 'r') as f:\n",
    "    N = int(f.readline().rstrip())\n",
    "    for case in range(N):\n",
    "        M, B, K = map(int, f.readline().split())\n",
    "        ls = [[0 for _ in range(M)] for _ in range(B)]\n",
    "        visited = [[False for _ in range(M)] for _ in range(B)]\n",
    "        for i in range(K):\n",
    "            x, y = map(int, f.readline().split())\n",
    "            ls[y][x] = 1\n",
    "\n",
    "        dx = [0, 0, 1, -1]\n",
    "        dy = [1, -1, 0, 0]\n",
    "        \n",
    "        cnt = 2\n",
    "        for i in range(B):\n",
    "            for j in range(M):\n",
    "                if ls[i][j] == 1 and not visited[i][j]:\n",
    "                    q = deque()\n",
    "                    q.append([i, j])\n",
    "                    \n",
    "                    while q:\n",
    "                        cur = q.popleft()\n",
    "                        if visited[cur[0]][cur[1]]: continue\n",
    "                        visited[cur[0]][cur[1]] = True\n",
    "                        ls[cur[0]][cur[1]] = cnt\n",
    "                        \n",
    "                        for k in range(4):\n",
    "                            nx, ny = cur[0] + dx[k], cur[1] + dy[k]\n",
    "                            if nx < 0 or nx >= B or ny < 0 or ny >= M: continue\n",
    "                            if visited[nx][ny] or ls[nx][ny] == 0: continue\n",
    "                            q.append([nx, ny])\n",
    "                    cnt += 1\n",
    "\n",
    "        print(cnt-2)"
   ],
   "metadata": {
    "collapsed": false,
    "ExecuteTime": {
     "end_time": "2023-10-24T06:46:44.840427605Z",
     "start_time": "2023-10-24T06:46:44.796946241Z"
    }
   },
   "id": "cb216292d1db9645"
  },
  {
   "cell_type": "code",
   "execution_count": 3,
   "outputs": [
    {
     "name": "stdout",
     "output_type": "stream",
     "text": [
      "1\n"
     ]
    }
   ],
   "source": [
    "from collections import deque\n",
    "\n",
    "N = int(input())\n",
    "for case in range(N):\n",
    "    M, B, K = map(int, input().split())\n",
    "    ls = [[0 for _ in range(M)] for _ in range(B)]\n",
    "    visited = [[False for _ in range(M)] for _ in range(B)]\n",
    "    for i in range(K):\n",
    "        x, y = map(int, input().split())\n",
    "        ls[y][x] = 1\n",
    "\n",
    "    dx = [0, 0, 1, -1]\n",
    "    dy = [1, -1, 0, 0]\n",
    "    \n",
    "    cnt = 2\n",
    "    for i in range(B):\n",
    "        for j in range(M):\n",
    "            if ls[i][j] == 1 and not visited[i][j]:\n",
    "                q = deque()\n",
    "                q.append([i, j])\n",
    "                \n",
    "                while q:\n",
    "                    cur = q.popleft()\n",
    "                    if visited[cur[0]][cur[1]]: continue\n",
    "                    visited[cur[0]][cur[1]] = True\n",
    "                    ls[cur[0]][cur[1]] = cnt\n",
    "                    \n",
    "                    for k in range(4):\n",
    "                        nx, ny = cur[0] + dx[k], cur[1] + dy[k]\n",
    "                        if nx < 0 or nx >= B or ny < 0 or ny >= M: continue\n",
    "                        if visited[nx][ny] or ls[nx][ny] == 0: continue\n",
    "                        q.append([nx, ny])\n",
    "                cnt += 1\n",
    "\n",
    "    print(cnt-2)"
   ],
   "metadata": {
    "collapsed": false,
    "ExecuteTime": {
     "end_time": "2023-10-24T06:31:56.666055748Z",
     "start_time": "2023-10-24T06:31:51.001726940Z"
    }
   },
   "id": "251125d411dd32cf"
  },
  {
   "cell_type": "code",
   "execution_count": 77,
   "outputs": [
    {
     "name": "stdout",
     "output_type": "stream",
     "text": [
      "75\n"
     ]
    }
   ],
   "source": [
    "N = int(input())\n",
    "ls = [0] + [int(input()) for i in range(N)]\n",
    "# ls = [0] + list(map(int, input().split()))\n",
    "\n",
    "if N == 1:\n",
    "    print(ls[1])\n",
    "elif N == 2:\n",
    "    print(ls[1] + ls[2])\n",
    "elif N == 3:\n",
    "    print(max(ls[1] + ls[3], ls[2] + ls[3]))\n",
    "else:\n",
    "    dp = [0] * (N+1)\n",
    "    dp[0] = 0\n",
    "    dp[1] = ls[1]\n",
    "    dp[2] = ls[1] + ls[2]\n",
    "    dp[3] = max(ls[1] + ls[3], ls[2] + ls[3])\n",
    "    for i in range(4, N+1):\n",
    "        dp[i] = max(dp[i-3] + ls[i-1], dp[i-2]) + ls[i]\n",
    "    print(dp[-1])\n",
    "\n"
   ],
   "metadata": {
    "collapsed": false,
    "ExecuteTime": {
     "end_time": "2023-10-24T08:00:43.131430398Z",
     "start_time": "2023-10-24T08:00:33.921265796Z"
    }
   },
   "id": "24994f4070801456"
  },
  {
   "cell_type": "code",
   "execution_count": 82,
   "outputs": [
    {
     "name": "stdout",
     "output_type": "stream",
     "text": [
      "7326\n"
     ]
    }
   ],
   "source": [
    "N = int(input())\n",
    "ls = [1,3,5] + [0] * (N-3)\n",
    "if N < 3:\n",
    "    print(ls[N-1])\n",
    "else:\n",
    "    for i in range(3, N):\n",
    "        ls[i] = ls[i-1] % 10007 + (2 * ls[i-2]) % 10007\n",
    "    print(ls[N-1] % 10007)"
   ],
   "metadata": {
    "collapsed": false,
    "ExecuteTime": {
     "end_time": "2023-10-24T08:19:34.854393235Z",
     "start_time": "2023-10-24T08:19:33.395940580Z"
    }
   },
   "id": "fd8c8cdedfeff5c1"
  },
  {
   "cell_type": "code",
   "execution_count": 93,
   "outputs": [
    {
     "name": "stdout",
     "output_type": "stream",
     "text": [
      "<   space   >ecaps ecaps ecaps<    spa   c e>\n"
     ]
    }
   ],
   "source": [
    "from collections import deque\n",
    "\n",
    "S = deque(list(input()))\n",
    "\n",
    "st = deque()\n",
    "tag_st = deque()\n",
    "answer = ''\n",
    "\n",
    "while S:\n",
    "    c = S.popleft()\n",
    "    if c == '<':\n",
    "        while st:\n",
    "            answer += st.pop()\n",
    "        tag_st.append(c)\n",
    "        while S:\n",
    "            c = S.popleft()\n",
    "            if c == '>':\n",
    "                tag_st.append(c)\n",
    "                break\n",
    "            else:\n",
    "                tag_st.append(c)\n",
    "        while tag_st:\n",
    "            answer += tag_st.popleft()\n",
    "    elif c == ' ':\n",
    "        while st:\n",
    "            answer += st.pop()\n",
    "        answer += ' '\n",
    "    else:\n",
    "        st.append(c)\n",
    "\n",
    "while st:\n",
    "    answer += st.pop()\n",
    "\n",
    "print(answer)        \n",
    "        \n",
    "    \n",
    "    "
   ],
   "metadata": {
    "collapsed": false,
    "ExecuteTime": {
     "end_time": "2023-10-24T08:41:23.171523159Z",
     "start_time": "2023-10-24T08:41:19.699161887Z"
    }
   },
   "id": "1082f2b328ce64bc"
  },
  {
   "cell_type": "code",
   "execution_count": 83,
   "outputs": [
    {
     "ename": "AttributeError",
     "evalue": "'str' object has no attribute 'pop'",
     "output_type": "error",
     "traceback": [
      "\u001B[0;31m---------------------------------------------------------------------------\u001B[0m",
      "\u001B[0;31mAttributeError\u001B[0m                            Traceback (most recent call last)",
      "Cell \u001B[0;32mIn[83], line 1\u001B[0m\n\u001B[0;32m----> 1\u001B[0m \u001B[38;5;124;43m'\u001B[39;49m\u001B[38;5;124;43mqwe\u001B[39;49m\u001B[38;5;124;43m'\u001B[39;49m\u001B[38;5;241;43m.\u001B[39;49m\u001B[43mpop\u001B[49m()\n",
      "\u001B[0;31mAttributeError\u001B[0m: 'str' object has no attribute 'pop'"
     ]
    }
   ],
   "source": [
    "'qwe'.pop()"
   ],
   "metadata": {
    "collapsed": false,
    "ExecuteTime": {
     "end_time": "2023-10-24T08:35:24.233386472Z",
     "start_time": "2023-10-24T08:35:24.182250843Z"
    }
   },
   "id": "33573e45ade8ba7e"
  },
  {
   "cell_type": "code",
   "execution_count": 84,
   "outputs": [
    {
     "data": {
      "text/plain": "'q'"
     },
     "execution_count": 84,
     "metadata": {},
     "output_type": "execute_result"
    }
   ],
   "source": [
    "deque('qwe').popleft()"
   ],
   "metadata": {
    "collapsed": false,
    "ExecuteTime": {
     "end_time": "2023-10-24T08:36:00.789559857Z",
     "start_time": "2023-10-24T08:36:00.743161780Z"
    }
   },
   "id": "26fb1f2ac394d49c"
  },
  {
   "cell_type": "code",
   "execution_count": 122,
   "outputs": [
    {
     "name": "stdout",
     "output_type": "stream",
     "text": [
      "[[3, 5], [5, 7], [12, 14], [1, 4], [8, 11], [5, 9], [6, 10], [8, 12], [3, 8], [0, 6], [2, 13]]\n",
      "[[0, 6], [1, 4], [2, 13], [3, 5], [3, 8], [5, 7], [5, 9], [6, 10], [8, 11], [8, 12], [12, 14]]\n",
      "[[1, 4], [3, 5], [0, 6], [5, 7], [3, 8], [5, 9], [6, 10], [8, 11], [8, 12], [2, 13], [12, 14]]\n"
     ]
    }
   ],
   "source": [
    "# N = int(input())\n",
    "# ls = [list(map(int, input().split())) for _ in range(N)]\n",
    "\n",
    "\n",
    "N = 11\n",
    "ls = [[1,4],[3,5],[0,6],[5,7],[3,8],[5,9],[6,10],[8,11],[8,12],[2,13],[12,14]]\n",
    "\n",
    "st_ls = sorted(ls, key=lambda x: (x[0], x[1]-x[0]))\n",
    "end_ls = sorted(ls, key=lambda x: (x[1], x[0]))\n",
    "sub_ls = sorted(ls, key=lambda x: (x[1]-x[0], x[0]))\n",
    "\n",
    "print(sub_ls)\n",
    "print(st_ls)\n",
    "print(end_ls)"
   ],
   "metadata": {
    "collapsed": false,
    "ExecuteTime": {
     "end_time": "2023-10-24T09:32:22.892352752Z",
     "start_time": "2023-10-24T09:32:22.849654806Z"
    }
   },
   "id": "27bd297c5a91c286"
  },
  {
   "cell_type": "code",
   "execution_count": 125,
   "outputs": [
    {
     "name": "stdout",
     "output_type": "stream",
     "text": [
      "4\n"
     ]
    }
   ],
   "source": [
    "# import sys\n",
    "# input = sys.stdin.readline\n",
    "\n",
    "N = int(input())\n",
    "ls = [list(map(int, input().split())) for _ in range(N)]\n",
    "\n",
    "# N = 11\n",
    "# ls = [[1,4],[3,5],[0,6],[5,7],[3,8],[5,9],[6,10],[8,11],[8,12],[2,13],[12,14]]\n",
    "\n",
    "end_ls = sorted(ls, key=lambda x: (x[1], x[0]))\n",
    "ll = [0] * N\n",
    "\n",
    "cnt = 1\n",
    "end_time = end_ls[0][1]\n",
    "for k in range(1, N):\n",
    "    if end_time <= end_ls[k][0]:\n",
    "        cnt += 1\n",
    "        end_time = end_ls[k][1]\n",
    "\n",
    "print(cnt)\n",
    "        "
   ],
   "metadata": {
    "collapsed": false,
    "ExecuteTime": {
     "end_time": "2023-10-24T09:34:27.312340495Z",
     "start_time": "2023-10-24T09:34:27.269754881Z"
    }
   },
   "id": "edd6d25cec887ec4"
  },
  {
   "cell_type": "code",
   "execution_count": 166,
   "outputs": [
    {
     "name": "stdout",
     "output_type": "stream",
     "text": [
      "{5}\n",
      "{5, 6}\n",
      "{4, 5, 6}\n",
      "{10, 4, 5, 6}\n",
      "{4, 5, 6, 7, 10}\n",
      "{4, 5, 6, 7, 10, 12}\n",
      "{3, 4, 5, 6, 7, 10, 12}\n",
      "{3, 4, 5, 6, 7, 8, 10, 12}\n",
      "{3, 4, 5, 6, 7, 8, 10, 11, 12}\n",
      "{3, 4, 5, 6, 7, 8, 9, 10, 11, 12}\n",
      "{3, 4, 5, 6, 7, 8, 9, 10, 11, 12, 20}\n",
      "{3, 4, 5, 6, 7, 8, 9, 10, 11, 12, 20}\n",
      "{3, 4, 5, 6, 7, 8, 9, 10, 11, 12, 14, 20}\n",
      "{3, 4, 5, 6, 7, 8, 9, 10, 11, 12, 13, 14, 20}\n",
      "{3, 4, 5, 6, 7, 8, 9, 10, 11, 12, 13, 14, 20}\n",
      "{3, 4, 5, 6, 7, 8, 9, 10, 11, 12, 13, 14, 20, 24}\n",
      "{2, 3, 4, 5, 6, 7, 8, 9, 10, 11, 12, 13, 14, 20, 24}\n",
      "{2, 3, 4, 5, 6, 7, 8, 9, 10, 11, 12, 13, 14, 20, 24}\n",
      "{2, 3, 4, 5, 6, 7, 8, 9, 10, 11, 12, 13, 14, 16, 20, 24}\n",
      "{2, 3, 4, 5, 6, 7, 8, 9, 10, 11, 12, 13, 14, 16, 20, 22, 24}\n",
      "{2, 3, 4, 5, 6, 7, 8, 9, 10, 11, 12, 13, 14, 16, 18, 20, 22, 24}\n",
      "{2, 3, 4, 5, 6, 7, 8, 9, 10, 11, 12, 13, 14, 16, 18, 20, 21, 22, 24}\n",
      "{2, 3, 4, 5, 6, 7, 8, 9, 10, 11, 12, 13, 14, 16, 18, 19, 20, 21, 22, 24}\n",
      "{2, 3, 4, 5, 6, 7, 8, 9, 10, 11, 12, 13, 14, 16, 18, 19, 20, 21, 22, 24, 40}\n",
      "{2, 3, 4, 5, 6, 7, 8, 9, 10, 11, 12, 13, 14, 16, 18, 19, 20, 21, 22, 24, 40}\n",
      "{2, 3, 4, 5, 6, 7, 8, 9, 10, 11, 12, 13, 14, 15, 16, 18, 19, 20, 21, 22, 24, 40}\n",
      "{2, 3, 4, 5, 6, 7, 8, 9, 10, 11, 12, 13, 14, 15, 16, 18, 19, 20, 21, 22, 24, 40}\n",
      "{2, 3, 4, 5, 6, 7, 8, 9, 10, 11, 12, 13, 14, 15, 16, 18, 19, 20, 21, 22, 24, 28, 40}\n",
      "{2, 3, 4, 5, 6, 7, 8, 9, 10, 11, 12, 13, 14, 15, 16, 18, 19, 20, 21, 22, 24, 26, 28, 40}\n",
      "{2, 3, 4, 5, 6, 7, 8, 9, 10, 11, 12, 13, 14, 15, 16, 18, 19, 20, 21, 22, 24, 26, 28, 40}\n",
      "{2, 3, 4, 5, 6, 7, 8, 9, 10, 11, 12, 13, 14, 15, 16, 18, 19, 20, 21, 22, 24, 25, 26, 28, 40}\n",
      "{2, 3, 4, 5, 6, 7, 8, 9, 10, 11, 12, 13, 14, 15, 16, 18, 19, 20, 21, 22, 23, 24, 25, 26, 28, 40}\n",
      "{2, 3, 4, 5, 6, 7, 8, 9, 10, 11, 12, 13, 14, 15, 16, 18, 19, 20, 21, 22, 23, 24, 25, 26, 28, 40, 48}\n",
      "{1, 2, 3, 4, 5, 6, 7, 8, 9, 10, 11, 12, 13, 14, 15, 16, 18, 19, 20, 21, 22, 23, 24, 25, 26, 28, 40, 48}\n",
      "{1, 2, 3, 4, 5, 6, 7, 8, 9, 10, 11, 12, 13, 14, 15, 16, 18, 19, 20, 21, 22, 23, 24, 25, 26, 28, 40, 48}\n",
      "{1, 2, 3, 4, 5, 6, 7, 8, 9, 10, 11, 12, 13, 14, 15, 16, 17, 18, 19, 20, 21, 22, 23, 24, 25, 26, 28, 40, 48}\n",
      "{1, 2, 3, 4, 5, 6, 7, 8, 9, 10, 11, 12, 13, 14, 15, 16, 17, 18, 19, 20, 21, 22, 23, 24, 25, 26, 28, 40, 48}\n",
      "{1, 2, 3, 4, 5, 6, 7, 8, 9, 10, 11, 12, 13, 14, 15, 16, 17, 18, 19, 20, 21, 22, 23, 24, 25, 26, 28, 32, 40, 48}\n",
      "{1, 2, 3, 4, 5, 6, 7, 8, 9, 10, 11, 12, 13, 14, 15, 16, 17, 18, 19, 20, 21, 22, 23, 24, 25, 26, 28, 32, 40, 48}\n",
      "{1, 2, 3, 4, 5, 6, 7, 8, 9, 10, 11, 12, 13, 14, 15, 16, 17, 18, 19, 20, 21, 22, 23, 24, 25, 26, 28, 32, 40, 48}\n",
      "{1, 2, 3, 4, 5, 6, 7, 8, 9, 10, 11, 12, 13, 14, 15, 16, 17, 18, 19, 20, 21, 22, 23, 24, 25, 26, 28, 32, 40, 44, 48}\n",
      "{1, 2, 3, 4, 5, 6, 7, 8, 9, 10, 11, 12, 13, 14, 15, 16, 17, 18, 19, 20, 21, 22, 23, 24, 25, 26, 28, 32, 40, 44, 48}\n",
      "{1, 2, 3, 4, 5, 6, 7, 8, 9, 10, 11, 12, 13, 14, 15, 16, 17, 18, 19, 20, 21, 22, 23, 24, 25, 26, 28, 32, 40, 44, 48}\n",
      "{1, 2, 3, 4, 5, 6, 7, 8, 9, 10, 11, 12, 13, 14, 15, 16, 17, 18, 19, 20, 21, 22, 23, 24, 25, 26, 28, 32, 36, 40, 44, 48}\n",
      "{1, 2, 3, 4, 5, 6, 7, 8, 9, 10, 11, 12, 13, 14, 15, 16, 17, 18, 19, 20, 21, 22, 23, 24, 25, 26, 28, 32, 36, 40, 42, 44, 48}\n",
      "{1, 2, 3, 4, 5, 6, 7, 8, 9, 10, 11, 12, 13, 14, 15, 16, 17, 18, 19, 20, 21, 22, 23, 24, 25, 26, 28, 32, 36, 38, 40, 42, 44, 48}\n",
      "{1, 2, 3, 4, 5, 6, 7, 8, 9, 10, 11, 12, 13, 14, 15, 16, 17, 18, 19, 20, 21, 22, 23, 24, 25, 26, 28, 32, 36, 38, 40, 41, 42, 44, 48}\n",
      "{1, 2, 3, 4, 5, 6, 7, 8, 9, 10, 11, 12, 13, 14, 15, 16, 17, 18, 19, 20, 21, 22, 23, 24, 25, 26, 28, 32, 36, 38, 39, 40, 41, 42, 44, 48}\n",
      "{1, 2, 3, 4, 5, 6, 7, 8, 9, 10, 11, 12, 13, 14, 15, 16, 17, 18, 19, 20, 21, 22, 23, 24, 25, 26, 28, 32, 36, 38, 39, 40, 41, 42, 44, 48, 80}\n",
      "{1, 2, 3, 4, 5, 6, 7, 8, 9, 10, 11, 12, 13, 14, 15, 16, 17, 18, 19, 20, 21, 22, 23, 24, 25, 26, 28, 32, 36, 38, 39, 40, 41, 42, 44, 48, 80}\n",
      "{1, 2, 3, 4, 5, 6, 7, 8, 9, 10, 11, 12, 13, 14, 15, 16, 17, 18, 19, 20, 21, 22, 23, 24, 25, 26, 28, 32, 36, 38, 39, 40, 41, 42, 44, 48, 80}\n",
      "{1, 2, 3, 4, 5, 6, 7, 8, 9, 10, 11, 12, 13, 14, 15, 16, 17, 18, 19, 20, 21, 22, 23, 24, 25, 26, 28, 32, 36, 38, 39, 40, 41, 42, 44, 48, 80}\n",
      "{1, 2, 3, 4, 5, 6, 7, 8, 9, 10, 11, 12, 13, 14, 15, 16, 17, 18, 19, 20, 21, 22, 23, 24, 25, 26, 28, 30, 32, 36, 38, 39, 40, 41, 42, 44, 48, 80}\n",
      "{1, 2, 3, 4, 5, 6, 7, 8, 9, 10, 11, 12, 13, 14, 15, 16, 17, 18, 19, 20, 21, 22, 23, 24, 25, 26, 28, 30, 32, 36, 38, 39, 40, 41, 42, 44, 48, 80}\n",
      "{1, 2, 3, 4, 5, 6, 7, 8, 9, 10, 11, 12, 13, 14, 15, 16, 17, 18, 19, 20, 21, 22, 23, 24, 25, 26, 28, 29, 30, 32, 36, 38, 39, 40, 41, 42, 44, 48, 80}\n",
      "{1, 2, 3, 4, 5, 6, 7, 8, 9, 10, 11, 12, 13, 14, 15, 16, 17, 18, 19, 20, 21, 22, 23, 24, 25, 26, 27, 28, 29, 30, 32, 36, 38, 39, 40, 41, 42, 44, 48, 80}\n",
      "{1, 2, 3, 4, 5, 6, 7, 8, 9, 10, 11, 12, 13, 14, 15, 16, 17, 18, 19, 20, 21, 22, 23, 24, 25, 26, 27, 28, 29, 30, 32, 36, 38, 39, 40, 41, 42, 44, 48, 56, 80}\n",
      "{1, 2, 3, 4, 5, 6, 7, 8, 9, 10, 11, 12, 13, 14, 15, 16, 17, 18, 19, 20, 21, 22, 23, 24, 25, 26, 27, 28, 29, 30, 32, 36, 38, 39, 40, 41, 42, 44, 48, 56, 80}\n",
      "{1, 2, 3, 4, 5, 6, 7, 8, 9, 10, 11, 12, 13, 14, 15, 16, 17, 18, 19, 20, 21, 22, 23, 24, 25, 26, 27, 28, 29, 30, 32, 36, 38, 39, 40, 41, 42, 44, 48, 56, 80}\n",
      "{1, 2, 3, 4, 5, 6, 7, 8, 9, 10, 11, 12, 13, 14, 15, 16, 17, 18, 19, 20, 21, 22, 23, 24, 25, 26, 27, 28, 29, 30, 32, 36, 38, 39, 40, 41, 42, 44, 48, 52, 56, 80}\n",
      "{1, 2, 3, 4, 5, 6, 7, 8, 9, 10, 11, 12, 13, 14, 15, 16, 17, 18, 19, 20, 21, 22, 23, 24, 25, 26, 27, 28, 29, 30, 32, 36, 38, 39, 40, 41, 42, 44, 48, 52, 56, 80}\n",
      "{1, 2, 3, 4, 5, 6, 7, 8, 9, 10, 11, 12, 13, 14, 15, 16, 17, 18, 19, 20, 21, 22, 23, 24, 25, 26, 27, 28, 29, 30, 32, 36, 38, 39, 40, 41, 42, 44, 48, 52, 56, 80}\n",
      "{1, 2, 3, 4, 5, 6, 7, 8, 9, 10, 11, 12, 13, 14, 15, 16, 17, 18, 19, 20, 21, 22, 23, 24, 25, 26, 27, 28, 29, 30, 32, 36, 38, 39, 40, 41, 42, 44, 48, 50, 52, 56, 80}\n",
      "{1, 2, 3, 4, 5, 6, 7, 8, 9, 10, 11, 12, 13, 14, 15, 16, 17, 18, 19, 20, 21, 22, 23, 24, 25, 26, 27, 28, 29, 30, 32, 36, 38, 39, 40, 41, 42, 44, 46, 48, 50, 52, 56, 80}\n",
      "{1, 2, 3, 4, 5, 6, 7, 8, 9, 10, 11, 12, 13, 14, 15, 16, 17, 18, 19, 20, 21, 22, 23, 24, 25, 26, 27, 28, 29, 30, 32, 36, 38, 39, 40, 41, 42, 44, 46, 48, 49, 50, 52, 56, 80}\n",
      "{1, 2, 3, 4, 5, 6, 7, 8, 9, 10, 11, 12, 13, 14, 15, 16, 17, 18, 19, 20, 21, 22, 23, 24, 25, 26, 27, 28, 29, 30, 32, 36, 38, 39, 40, 41, 42, 44, 46, 47, 48, 49, 50, 52, 56, 80}\n",
      "{1, 2, 3, 4, 5, 6, 7, 8, 9, 10, 11, 12, 13, 14, 15, 16, 17, 18, 19, 20, 21, 22, 23, 24, 25, 26, 27, 28, 29, 30, 32, 36, 38, 39, 40, 41, 42, 44, 46, 47, 48, 49, 50, 52, 56, 80, 96}\n",
      "{0, 1, 2, 3, 4, 5, 6, 7, 8, 9, 10, 11, 12, 13, 14, 15, 16, 17, 18, 19, 20, 21, 22, 23, 24, 25, 26, 27, 28, 29, 30, 32, 36, 38, 39, 40, 41, 42, 44, 46, 47, 48, 49, 50, 52, 56, 80, 96}\n",
      "{0, 1, 2, 3, 4, 5, 6, 7, 8, 9, 10, 11, 12, 13, 14, 15, 16, 17, 18, 19, 20, 21, 22, 23, 24, 25, 26, 27, 28, 29, 30, 32, 36, 38, 39, 40, 41, 42, 44, 46, 47, 48, 49, 50, 52, 56, 80, 96}\n",
      "{0, 1, 2, 3, 4, 5, 6, 7, 8, 9, 10, 11, 12, 13, 14, 15, 16, 17, 18, 19, 20, 21, 22, 23, 24, 25, 26, 27, 28, 29, 30, 32, 36, 38, 39, 40, 41, 42, 44, 46, 47, 48, 49, 50, 52, 56, 80, 96}\n",
      "{0, 1, 2, 3, 4, 5, 6, 7, 8, 9, 10, 11, 12, 13, 14, 15, 16, 17, 18, 19, 20, 21, 22, 23, 24, 25, 26, 27, 28, 29, 30, 32, 34, 36, 38, 39, 40, 41, 42, 44, 46, 47, 48, 49, 50, 52, 56, 80, 96}\n",
      "{0, 1, 2, 3, 4, 5, 6, 7, 8, 9, 10, 11, 12, 13, 14, 15, 16, 17, 18, 19, 20, 21, 22, 23, 24, 25, 26, 27, 28, 29, 30, 32, 34, 36, 38, 39, 40, 41, 42, 44, 46, 47, 48, 49, 50, 52, 56, 80, 96}\n",
      "{0, 1, 2, 3, 4, 5, 6, 7, 8, 9, 10, 11, 12, 13, 14, 15, 16, 17, 18, 19, 20, 21, 22, 23, 24, 25, 26, 27, 28, 29, 30, 32, 33, 34, 36, 38, 39, 40, 41, 42, 44, 46, 47, 48, 49, 50, 52, 56, 80, 96}\n",
      "{0, 1, 2, 3, 4, 5, 6, 7, 8, 9, 10, 11, 12, 13, 14, 15, 16, 17, 18, 19, 20, 21, 22, 23, 24, 25, 26, 27, 28, 29, 30, 31, 32, 33, 34, 36, 38, 39, 40, 41, 42, 44, 46, 47, 48, 49, 50, 52, 56, 80, 96}\n",
      "{0, 1, 2, 3, 4, 5, 6, 7, 8, 9, 10, 11, 12, 13, 14, 15, 16, 17, 18, 19, 20, 21, 22, 23, 24, 25, 26, 27, 28, 29, 30, 31, 32, 33, 34, 36, 38, 39, 40, 41, 42, 44, 46, 47, 48, 49, 50, 52, 56, 64, 80, 96}\n",
      "{0, 1, 2, 3, 4, 5, 6, 7, 8, 9, 10, 11, 12, 13, 14, 15, 16, 17, 18, 19, 20, 21, 22, 23, 24, 25, 26, 27, 28, 29, 30, 31, 32, 33, 34, 36, 38, 39, 40, 41, 42, 44, 46, 47, 48, 49, 50, 52, 56, 64, 80, 96}\n",
      "{0, 1, 2, 3, 4, 5, 6, 7, 8, 9, 10, 11, 12, 13, 14, 15, 16, 17, 18, 19, 20, 21, 22, 23, 24, 25, 26, 27, 28, 29, 30, 31, 32, 33, 34, 36, 38, 39, 40, 41, 42, 44, 46, 47, 48, 49, 50, 52, 56, 64, 80, 96}\n",
      "{0, 1, 2, 3, 4, 5, 6, 7, 8, 9, 10, 11, 12, 13, 14, 15, 16, 17, 18, 19, 20, 21, 22, 23, 24, 25, 26, 27, 28, 29, 30, 31, 32, 33, 34, 36, 38, 39, 40, 41, 42, 44, 45, 46, 47, 48, 49, 50, 52, 56, 64, 80, 96}\n",
      "{0, 1, 2, 3, 4, 5, 6, 7, 8, 9, 10, 11, 12, 13, 14, 15, 16, 17, 18, 19, 20, 21, 22, 23, 24, 25, 26, 27, 28, 29, 30, 31, 32, 33, 34, 36, 38, 39, 40, 41, 42, 43, 44, 45, 46, 47, 48, 49, 50, 52, 56, 64, 80, 96}\n",
      "{0, 1, 2, 3, 4, 5, 6, 7, 8, 9, 10, 11, 12, 13, 14, 15, 16, 17, 18, 19, 20, 21, 22, 23, 24, 25, 26, 27, 28, 29, 30, 31, 32, 33, 34, 36, 38, 39, 40, 41, 42, 43, 44, 45, 46, 47, 48, 49, 50, 52, 56, 64, 80, 88, 96}\n",
      "{0, 1, 2, 3, 4, 5, 6, 7, 8, 9, 10, 11, 12, 13, 14, 15, 16, 17, 18, 19, 20, 21, 22, 23, 24, 25, 26, 27, 28, 29, 30, 31, 32, 33, 34, 36, 38, 39, 40, 41, 42, 43, 44, 45, 46, 47, 48, 49, 50, 52, 56, 64, 80, 88, 96}\n",
      "{0, 1, 2, 3, 4, 5, 6, 7, 8, 9, 10, 11, 12, 13, 14, 15, 16, 17, 18, 19, 20, 21, 22, 23, 24, 25, 26, 27, 28, 29, 30, 31, 32, 33, 34, 36, 38, 39, 40, 41, 42, 43, 44, 45, 46, 47, 48, 49, 50, 52, 56, 64, 80, 88, 96}\n",
      "{0, 1, 2, 3, 4, 5, 6, 7, 8, 9, 10, 11, 12, 13, 14, 15, 16, 17, 18, 19, 20, 21, 22, 23, 24, 25, 26, 27, 28, 29, 30, 31, 32, 33, 34, 36, 37, 38, 39, 40, 41, 42, 43, 44, 45, 46, 47, 48, 49, 50, 52, 56, 64, 80, 88, 96}\n",
      "5\n"
     ]
    }
   ],
   "source": [
    "from collections import deque\n",
    "\n",
    "N, M = map(int, input().split())\n",
    "q = deque()\n",
    "q.append([N, 0])\n",
    "bind = set()\n",
    "\n",
    "if N > M:\n",
    "    print(N-M)\n",
    "else:\n",
    "    while q:\n",
    "        c = q.popleft()\n",
    "        bind.add(c[0])\n",
    "        if c[0] > 100001: continue\n",
    "        if c[0] == M:\n",
    "            print(c[1])\n",
    "            break\n",
    "        else:\n",
    "            if c[0]+1 not in bind: q.append([c[0]+1, c[1]+1])\n",
    "            if c[0]-1 not in bind: q.append([c[0]-1, c[1]+1])\n",
    "            if c[0]*2 not in bind and c[0]*2 < 300001: q.append([c[0]*2, c[1]+1])\n",
    " "
   ],
   "metadata": {
    "collapsed": false,
    "ExecuteTime": {
     "end_time": "2023-10-24T13:39:45.611942684Z",
     "start_time": "2023-10-24T13:39:44.765065810Z"
    }
   },
   "id": "538c00ab776f61ee"
  },
  {
   "cell_type": "code",
   "execution_count": 167,
   "outputs": [
    {
     "name": "stdout",
     "output_type": "stream",
     "text": [
      "12\n",
      "9\n",
      "1\n"
     ]
    }
   ],
   "source": [
    "import sys\n",
    "input = sys.stdin.readline\n",
    "\n",
    "N, M = map(int, input().rstrip().split())\n",
    "ls = list(map(int, input().rstrip().split()))\n",
    "\n",
    "for i in range(1, N):\n",
    "    ls[i] += ls[i-1]\n",
    "for i in range(M):\n",
    "    a, b = map(int, input().rstrip().split())\n",
    "    if a == 1:\n",
    "        print(ls[b-1])\n",
    "    else:\n",
    "        print(ls[b-1] - ls[a-2])\n",
    "        "
   ],
   "metadata": {
    "collapsed": false,
    "ExecuteTime": {
     "end_time": "2023-10-24T13:47:28.455909922Z",
     "start_time": "2023-10-24T13:47:17.627636698Z"
    }
   },
   "id": "926197bda08d819"
  },
  {
   "cell_type": "code",
   "execution_count": 10,
   "outputs": [
    {
     "name": "stdout",
     "output_type": "stream",
     "text": [
      "-1\n",
      "1\n",
      "0\n",
      "-1\n",
      "-1\n",
      "1\n",
      "1\n",
      "-2\n",
      "2\n",
      "0\n"
     ]
    }
   ],
   "source": [
    "import heapq\n",
    "import sys\n",
    "input = sys.stdin.readline\n",
    "\n",
    "absq = []\n",
    "othe = dict()\n",
    "heapq.heapify(absq)\n",
    "\n",
    "N = int(input())\n",
    "for i in range(N):\n",
    "    M = int(input().rstrip())\n",
    "    \n",
    "    if M == 0:\n",
    "        if not absq and 0 == sum(othe.values()):\n",
    "            print(0)\n",
    "        else:\n",
    "            v = heapq.heappop(absq)\n",
    "            if -v in othe and othe[-v] >= 1:\n",
    "                print(-v)\n",
    "                othe[-v] -= 1\n",
    "            elif v in othe and othe[v] >= 1:\n",
    "                print(v)\n",
    "                othe[v] -= 1\n",
    "    else:\n",
    "        if M in othe: othe[M] += 1\n",
    "        else: othe[M] = 1\n",
    "        heapq.heappush(absq, abs(M))"
   ],
   "metadata": {
    "collapsed": false,
    "ExecuteTime": {
     "end_time": "2023-10-25T07:10:30.594584932Z",
     "start_time": "2023-10-25T07:10:15.929350856Z"
    }
   },
   "id": "4df0ff63f0823026"
  },
  {
   "cell_type": "code",
   "execution_count": 7,
   "outputs": [
    {
     "data": {
      "text/plain": "deque([3])"
     },
     "execution_count": 7,
     "metadata": {},
     "output_type": "execute_result"
    }
   ],
   "source": [
    "from collections import deque\n",
    "\n",
    "q = deque()\n",
    "q.append(3)\n",
    "q.append(1)\n",
    "q.remove(1)\n",
    "q"
   ],
   "metadata": {
    "collapsed": false,
    "ExecuteTime": {
     "end_time": "2023-10-25T07:01:41.541964507Z",
     "start_time": "2023-10-25T07:01:41.488077866Z"
    }
   },
   "id": "abb871d0b4be9208"
  },
  {
   "cell_type": "code",
   "execution_count": 179,
   "outputs": [
    {
     "name": "stdout",
     "output_type": "stream",
     "text": [
      "0\n",
      "1\n"
     ]
    }
   ],
   "source": [
    "def check(arr):\n",
    "    return len(set(sum(arr, []))) == 1, arr[0][0]\n",
    "\n",
    "colors = [0, 0]\n",
    "\n",
    "def divide(arr):\n",
    "    n = len(arr)\n",
    "    result, color = check(arr)\n",
    "    if result: colors[color] += 1\n",
    "    else:\n",
    "        divide([i[:n//2] for i in arr[:n//2]])\n",
    "        divide([i[n//2:] for i in arr[:n//2]])\n",
    "        divide([i[:n//2] for i in arr[n//2:]])\n",
    "        divide([i[n//2:] for i in arr[n//2:]])\n",
    "    \n",
    "\n",
    "N = int(input())\n",
    "ls = [list(map(int, input().split())) for _ in range(N)]\n",
    "divide(ls)\n",
    "print(colors[0])\n",
    "print(colors[1])\n",
    "\n",
    "\n"
   ],
   "metadata": {
    "collapsed": false,
    "ExecuteTime": {
     "end_time": "2023-10-24T14:14:03.310958527Z",
     "start_time": "2023-10-24T14:13:58.319915403Z"
    }
   },
   "id": "82586582a49bc55b"
  },
  {
   "cell_type": "code",
   "execution_count": 2,
   "outputs": [
    {
     "ename": "NameError",
     "evalue": "name 'deque' is not defined",
     "output_type": "error",
     "traceback": [
      "\u001B[0;31m---------------------------------------------------------------------------\u001B[0m",
      "\u001B[0;31mNameError\u001B[0m                                 Traceback (most recent call last)",
      "Cell \u001B[0;32mIn[2], line 15\u001B[0m\n\u001B[1;32m     12\u001B[0m         \u001B[38;5;28;01mif\u001B[39;00m ls[i][j] \u001B[38;5;241m==\u001B[39m \u001B[38;5;241m2\u001B[39m: st_point \u001B[38;5;241m=\u001B[39m [i, j, \u001B[38;5;241m0\u001B[39m]\n\u001B[1;32m     13\u001B[0m         \u001B[38;5;28;01mif\u001B[39;00m ls[i][j] \u001B[38;5;241m==\u001B[39m \u001B[38;5;241m1\u001B[39m: ls[i][j] \u001B[38;5;241m=\u001B[39m \u001B[38;5;241m-\u001B[39m\u001B[38;5;241m1\u001B[39m\n\u001B[0;32m---> 15\u001B[0m q \u001B[38;5;241m=\u001B[39m \u001B[43mdeque\u001B[49m()\n\u001B[1;32m     16\u001B[0m q\u001B[38;5;241m.\u001B[39mappend(st_point)\n\u001B[1;32m     18\u001B[0m \u001B[38;5;28;01mwhile\u001B[39;00m q:\n",
      "\u001B[0;31mNameError\u001B[0m: name 'deque' is not defined"
     ]
    }
   ],
   "source": [
    "from collections import deque\n",
    "import sys\n",
    "input = sys.stdin.readline\n",
    "\n",
    "N, M = map(int, input().split())\n",
    "ls = [list(map(int, input().rstrip().split())) for _ in range(N)]\n",
    "visited = [[False for _ in range(M)] for _ in range(N)]\n",
    "\n",
    "dx = [0, 0, 1, -1]\n",
    "dy = [1, -1, 0, 0]\n",
    "\n",
    "st_point = [0, 0, 0]\n",
    "\n",
    "for i in range(N):\n",
    "    for j in range(M):\n",
    "        if ls[i][j] == 2: st_point = [i, j, 0]\n",
    "        if ls[i][j] == 1: ls[i][j] = -1\n",
    "\n",
    "q = deque()\n",
    "q.append(st_point)\n",
    "\n",
    "while q:\n",
    "    c = q.popleft()\n",
    "    if visited[c[0]][c[1]]: continue\n",
    "    visited[c[0]][c[1]] = True\n",
    "    ls[c[0]][c[1]] = c[2]\n",
    "    \n",
    "    for i in range(4):\n",
    "        nx, ny = c[0] + dx[i], c[1] + dy[i]\n",
    "        if nx < 0 or nx >= N or ny < 0 or ny >= M: continue\n",
    "        if visited[nx][ny] or ls[nx][ny] == 0: continue\n",
    "        q.append([nx, ny, c[2]+1])\n",
    "\n",
    "for i in range(N):\n",
    "    for j in range(M):\n",
    "        print(ls[i][j], end=' ')\n",
    "    print()"
   ],
   "metadata": {
    "collapsed": false,
    "ExecuteTime": {
     "end_time": "2023-10-24T14:29:29.171809719Z",
     "start_time": "2023-10-24T14:29:19.441275215Z"
    }
   },
   "id": "654ee6df7d229a63"
  },
  {
   "cell_type": "code",
   "execution_count": null,
   "outputs": [],
   "source": [
    "N = int(input())\n",
    "st = set()\n",
    "\n",
    "for i in range(N):\n",
    "    a = input().split()\n",
    "    if len(a) == 2:\n",
    "        if a[0]== 'add':\n",
    "            st.add(int(a[1]))\n",
    "        elif a[0] == 'remove':\n",
    "            if int(a[1]) in st:\n",
    "                st.remove(int(a[1]))\n",
    "        elif a[0] == 'check':\n",
    "            if int(a[1]) in st:\n",
    "                print(1)\n",
    "            else:\n",
    "                print(0)\n",
    "        elif a[0] == 'toggle':\n",
    "            if int(a[1]) in st:\n",
    "                st.remove(int(a[1]))\n",
    "            else:\n",
    "                st.add(int(a[1]))\n",
    "    else:\n",
    "        if a[0] == 'all':\n",
    "            st = set([i for i in range(1, 21)])\n",
    "        elif a[0] == 'empty':\n",
    "            st = set()"
   ],
   "metadata": {
    "collapsed": false
   },
   "id": "ab88346c21dac59d"
  },
  {
   "cell_type": "code",
   "execution_count": 8,
   "outputs": [
    {
     "name": "stdout",
     "output_type": "stream",
     "text": [
      "262143\n"
     ]
    }
   ],
   "source": [
    "N, r, c = map(int, input().split())\n",
    "\n",
    "def check(N, r, c):\n",
    "    if N == 0:\n",
    "        return 0\n",
    "    if N == 1:\n",
    "        if r == 0 and c == 0: return 0\n",
    "        elif r == 0 and c == 1: return 1\n",
    "        elif r == 1 and c == 0: return 2\n",
    "        else: return 3\n",
    "    else:\n",
    "        if r < 2**(N-1) and c < 2**(N-1):\n",
    "            return check(N-1, r, c)\n",
    "        elif r < 2**(N-1) and c >= 2**(N-1):\n",
    "            return check(N-1, r, c-2**(N-1)) + 2**(2*(N-1))\n",
    "        elif r >= 2**(N-1) and c < 2**(N-1):\n",
    "            return check(N-1, r-2**(N-1), c) + 2**(2*(N-1)) * 2\n",
    "        else:\n",
    "            return check(N-1, r-2**(N-1), c-2**(N-1)) + 2**(2*(N-1)) * 3\n",
    "        \n",
    "print(check(N, r, c))"
   ],
   "metadata": {
    "collapsed": false,
    "ExecuteTime": {
     "end_time": "2023-10-24T15:02:04.764474781Z",
     "start_time": "2023-10-24T15:02:01.518327199Z"
    }
   },
   "id": "f6f6a3e270b414d5"
  },
  {
   "cell_type": "code",
   "execution_count": null,
   "outputs": [],
   "source": [
    "N = int(input())\n",
    "\n",
    "for i in range(N):\n",
    "    x1, y1, r1, x2, y2, r2 = map(int, input().split())\n",
    "    d = ((x1-x2)**2 + (y1-y2)**2)**0.5\n",
    "    if d == r1 + r2:\n",
    "        print(1)\n",
    "    elif d > r1 + r2:\n",
    "        print(0)\n",
    "    else:\n",
    "        if d == 0 and r1 == r2:\n",
    "            print(-1)\n",
    "        elif d == 0 and r1 != r2:\n",
    "            print(0)\n",
    "        else:\n",
    "            if d + min(r1, r2) == max(r1, r2):\n",
    "                print(1)\n",
    "            elif d + min(r1, r2) < max(r1, r2):\n",
    "                print(0)\n",
    "            else:\n",
    "                print(2)"
   ],
   "metadata": {
    "collapsed": false
   },
   "id": "edb6ca39ce15993a"
  },
  {
   "cell_type": "code",
   "execution_count": 44,
   "outputs": [
    {
     "name": "stdout",
     "output_type": "stream",
     "text": [
      "1\n"
     ]
    }
   ],
   "source": [
    "N, M = map(int, input().split())\n",
    "ls = list(map(int, input().split()))\n",
    "# N, M = 4, 11\n",
    "# ls = [1, 3, 3, 10]\n",
    "st = 0\n",
    "end = max(ls)\n",
    "\n",
    "while st <= end:\n",
    "    mid = (st + end) // 2\n",
    "    cnt = 0\n",
    "    for i in ls:\n",
    "        if i > mid:\n",
    "            cnt += i - mid\n",
    "    if cnt >= M:\n",
    "        st = mid + 1\n",
    "    else:\n",
    "        end = mid - 1\n",
    "    \n",
    "print(end)\n",
    "    \n"
   ],
   "metadata": {
    "collapsed": false,
    "ExecuteTime": {
     "end_time": "2023-10-25T06:17:51.548360542Z",
     "start_time": "2023-10-25T06:17:51.506129268Z"
    }
   },
   "id": "acd8ac85147fade5"
  },
  {
   "cell_type": "code",
   "execution_count": 25,
   "outputs": [
    {
     "name": "stdout",
     "output_type": "stream",
     "text": [
      "4 3\n",
      "[[1, 1, 1, 2, 2], [1, 1, 2, 2, 2], [2, 2, 2, 3, 3], [2, 2, 3, 3, 3], [3, 3, 3, 3, 3]]\n"
     ]
    }
   ],
   "source": [
    "from collections import deque\n",
    "import copy\n",
    "N = int(input())\n",
    "paint = [list(map(str, input())) for _ in range(N)]\n",
    "visited = [[False] * N for i in range(N)]\n",
    "faint = copy.deepcopy(paint)\n",
    "\n",
    "dx = [0,0,1,-1]\n",
    "dy = [1,-1,0,0]\n",
    "\n",
    "q = deque()\n",
    "cnt = 1\n",
    "for i in range(N):\n",
    "    for j in range(N):\n",
    "        if visited[i][j]: continue\n",
    "        q.append([i,j,cnt])\n",
    "        color = paint[i][j]\n",
    "        while q:\n",
    "            cur = q.popleft()\n",
    "            if visited[cur[0]][cur[1]]: continue\n",
    "            if color != paint[cur[0]][cur[1]]: continue\n",
    "            visited[cur[0]][cur[1]] = True\n",
    "            paint[cur[0]][cur[1]] = cnt\n",
    "            for k in range(4):\n",
    "                nx, ny = cur[0] + dx[k], cur[1] + dy[k]\n",
    "                if nx < 0 or nx >= N or ny < 0 or ny >= N: continue\n",
    "                q.append([nx, ny, cnt])\n",
    "        cnt += 1\n",
    "\n",
    "q = deque()\n",
    "cnt_ = 1\n",
    "\n",
    "for i in range(N):\n",
    "    for j in range(N):\n",
    "        if faint[i][j] == 'G':\n",
    "            faint[i][j] = 'R'\n",
    "            \n",
    "visited = [[False] * N for i in range(N)]\n",
    "\n",
    "for i in range(N):\n",
    "    for j in range(N):\n",
    "        if visited[i][j]: continue\n",
    "        q.append([i,j,cnt_])\n",
    "        color = faint[i][j]\n",
    "        while q:\n",
    "            cur = q.popleft()\n",
    "            if visited[cur[0]][cur[1]]: continue\n",
    "            if color != faint[cur[0]][cur[1]] : continue\n",
    "            visited[cur[0]][cur[1]] = True\n",
    "            faint[cur[0]][cur[1]] = cnt_\n",
    "            for k in range(4):\n",
    "                nx, ny = cur[0] + dx[k], cur[1] + dy[k]\n",
    "                if nx < 0 or nx >= N or ny < 0 or ny >= N: continue\n",
    "                q.append([nx, ny, cnt_])\n",
    "        cnt_ += 1        \n",
    "\n",
    "print(max(sum(paint, [])), max(sum(faint, [])))"
   ],
   "metadata": {
    "collapsed": false,
    "ExecuteTime": {
     "end_time": "2023-10-25T07:39:46.798941877Z",
     "start_time": "2023-10-25T07:39:46.788268702Z"
    }
   },
   "id": "64f4bb96ff631562"
  },
  {
   "cell_type": "code",
   "execution_count": 77,
   "outputs": [
    {
     "name": "stdout",
     "output_type": "stream",
     "text": [
      "[[[1, 1, 1, 1], [1, 1, 1, 1], [1, 1, 1, 1]],\n",
      " [[1, 1, 1, 1], [-1, -1, -1, -1], [1, 1, 1, -1]]]\n",
      "[[[True, True, True, True], [True, True, True, True], [True, True, True, True]],\n",
      " [[True, True, True, True],\n",
      "  [False, False, False, False],\n",
      "  [True, True, True, False]]]\n",
      "0\n"
     ]
    }
   ],
   "source": [
    "from collections import deque\n",
    "import sys\n",
    "\n",
    "N, M, H = map(int, input().split())\n",
    "boxes = [[list(map(int, sys.stdin.readline().split())) for _ in range(M)] for _ in range(H)]\n",
    "visited = [[[False] * N for j in range(M)] for i in range(H)]\n",
    "\n",
    "dx = [0,0,0,0,1,-1]\n",
    "dy = [0,0,1,-1,0,0]\n",
    "dz = [1,-1,0,0,0,0]\n",
    "\n",
    "q = deque()\n",
    "\n",
    "for i in range(H):\n",
    "    for j in range(M):\n",
    "        for k in range(N):\n",
    "            if boxes[i][j][k] == 1:\n",
    "                q.append([i,j,k,1])\n",
    "                visited[i][j][k] = True\n",
    "        \n",
    "while q:\n",
    "    z, x, y, cc = q.popleft()\n",
    "    if boxes[z][x][y] == 1: pass\n",
    "    elif boxes[z][x][y] == 0:\n",
    "        visited[z][x][y] = True\n",
    "        boxes[z][x][y] = cc\n",
    "    else: continue\n",
    "        \n",
    "    for w in range(6):\n",
    "        nz, nx, ny = z+dz[w], x+dx[w], y+dy[w]\n",
    "        if nz < 0 or nx < 0 or ny < 0 or nz >= H or nx >= M or ny >= N: continue\n",
    "        if not visited[nz][nx][ny]: q.append([nz,nx,ny,cc+1])\n",
    "\n",
    "max_v = 0\n",
    "for i in range(H):\n",
    "    for j in range(M):\n",
    "        for k in range(N):\n",
    "            if boxes[i][j][k] > max_v: max_v = boxes[i][j][k]\n",
    "            if boxes[i][j][k] == 0:\n",
    "                print(-1)\n",
    "                exit(0)\n",
    "print(max_v - 1)\n",
    "\n",
    "\n"
   ],
   "metadata": {
    "collapsed": false,
    "ExecuteTime": {
     "end_time": "2023-10-25T08:46:27.142928441Z",
     "start_time": "2023-10-25T08:46:06.620156844Z"
    }
   },
   "id": "82927c95bb78d386"
  },
  {
   "cell_type": "code",
   "execution_count": 32,
   "outputs": [
    {
     "name": "stdout",
     "output_type": "stream",
     "text": [
      "[[[0, 0, 0, 0, 0], [0, 0, 0, 0, 0], [0, 0, 0, 0, 0]], [[0, 0, 0, 0, 0], [0, 0, 0, 0, 0], [0, 0, 0, 1, 0]]]\n",
      "[[[False, False, False, False, False], [False, False, False, False, False], [False, False, False, False, False]], [[False, False, False, False, False], [False, False, False, False, False], [False, False, False, False, False]]]\n"
     ]
    }
   ],
   "source": [
    "print(boxes)\n",
    "visited = [[[False] * H for j in range(M)] for i in range(N)]\n",
    "print(visited)"
   ],
   "metadata": {
    "collapsed": false,
    "ExecuteTime": {
     "end_time": "2023-10-25T07:57:18.776352771Z",
     "start_time": "2023-10-25T07:57:18.735946007Z"
    }
   },
   "id": "76ed2a909599e528"
  },
  {
   "cell_type": "code",
   "execution_count": 78,
   "outputs": [],
   "source": [
    "ls = exec('input()')"
   ],
   "metadata": {
    "collapsed": false,
    "ExecuteTime": {
     "end_time": "2023-10-25T09:00:52.330591001Z",
     "start_time": "2023-10-25T09:00:45.561607738Z"
    }
   },
   "id": "a6ed1229c094001"
  },
  {
   "cell_type": "code",
   "execution_count": 80,
   "outputs": [],
   "source": [],
   "metadata": {
    "collapsed": false,
    "ExecuteTime": {
     "end_time": "2023-10-25T09:00:57.904778447Z",
     "start_time": "2023-10-25T09:00:57.899007247Z"
    }
   },
   "id": "dcf78bca9469cbde"
  },
  {
   "cell_type": "code",
   "execution_count": null,
   "outputs": [],
   "source": [],
   "metadata": {
    "collapsed": false
   },
   "id": "779f2de42e1d9a98"
  }
 ],
 "metadata": {
  "kernelspec": {
   "display_name": "Python 3",
   "language": "python",
   "name": "python3"
  },
  "language_info": {
   "codemirror_mode": {
    "name": "ipython",
    "version": 2
   },
   "file_extension": ".py",
   "mimetype": "text/x-python",
   "name": "python",
   "nbconvert_exporter": "python",
   "pygments_lexer": "ipython2",
   "version": "2.7.6"
  }
 },
 "nbformat": 4,
 "nbformat_minor": 5
}
